{
 "cells": [
  {
   "cell_type": "markdown",
   "metadata": {},
   "source": [
    "# Homework 2: Food Safety \n",
    "## Cleaning and Exploring Data with Pandas"
   ]
  },
  {
   "cell_type": "markdown",
   "metadata": {},
   "source": [
    "<img src=\"scoreCard.jpg\" width=400>\n",
    "\n",
    "In this homework, you will investigate restaurant food safety scores for restaurants in San Francisco. Above is a sample score card for a restaurant. The scores and violation information have been made available by the San Francisco Department of Public Health, and we have made these data available to you via the DS 100 repository. The main goal for this assignment is to understand how restaurants are scored. We will walk through the various steps of exploratory data analysis to do this. To give you a sense of how we think about each discovery we make and what next steps it leads to we will provide comments and insights along the way.\n",
    "\n",
    "As we clean and explore these data, you will gain practice with:\n",
    "* Reading simple csv files\n",
    "* Working with data at different levels of granularity\n",
    "* Identifying the type of data collected, missing values, anomalies, etc.\n",
    "* Exploring characteristics and distributions of individual variables"
   ]
  },
  {
   "cell_type": "markdown",
   "metadata": {},
   "source": [
    "### Question 0\n",
    "\n",
    "To start the assignment, run the cell below to set up some imports and the automatic tests that we will need for this assignment:"
   ]
  },
  {
   "cell_type": "code",
   "execution_count": 1,
   "metadata": {},
   "outputs": [
    {
     "name": "stdout",
     "output_type": "stream",
     "text": [
      "=====================================================================\n",
      "Assignment: Homework 2\n",
      "OK, version v1.12.10\n",
      "=====================================================================\n",
      "\n"
     ]
    }
   ],
   "source": [
    "import os\n",
    "from IPython.display import display, Latex, Markdown\n",
    "from client.api.notebook import Notebook\n",
    "ok = Notebook('hw2.ok')"
   ]
  },
  {
   "cell_type": "markdown",
   "metadata": {},
   "source": [
    "In many of these assignments (and your future adventures as a data scientist) you will use pandas, numpy, matplotlib.pyplot, and seaborn.  \n",
    "\n",
    "1. Import each of these libraries `as` their commonly used abbreviations (e.g., `pd`, `np`, `plt`, and `sns`).  \n",
    "1. Don't forget to use the jupyter notebook \"magic\" to enable [inline matploblib plots](http://ipython.readthedocs.io/en/stable/interactive/magics.html#magic-matplotlib). \n",
    "1. Add the line `sns.set()` to make your plots look nicer."
   ]
  },
  {
   "cell_type": "code",
   "execution_count": 2,
   "metadata": {
    "collapsed": true,
    "tags": [
     "student"
    ]
   },
   "outputs": [],
   "source": [
    "import numpy as np\n",
    "import matplotlib.pyplot as plt\n",
    "import pandas as pd\n",
    "import seaborn as sns\n",
    "%matplotlib inline\n",
    "sns.set()"
   ]
  },
  {
   "cell_type": "markdown",
   "metadata": {},
   "source": [
    "Now, run this cell to log into OkPy:"
   ]
  },
  {
   "cell_type": "code",
   "execution_count": 4,
   "metadata": {},
   "outputs": [
    {
     "name": "stdout",
     "output_type": "stream",
     "text": [
      "\n",
      "Open the following URL:\n",
      "\n",
      "https://okpy.org/client/login/\n",
      "\n",
      "After logging in, copy the code from the web page and paste it into the box.\n",
      "Then press the \"Enter\" key on your keyboard.\n",
      "\n",
      "Paste your code here: ZfUU5KB5HlJXfTCc46HzX6fmwGMLbD\n",
      "Successfully logged in as mattholtzer9@berkeley.edu\n"
     ]
    }
   ],
   "source": [
    "# Sometimes you'll run into an OAuth bug when you run ok.auth(). If so,\n",
    "# uncomment this line of code and run this cell again.\n",
    "os.remove(os.path.join(os.path.expanduser('~'), '.config', 'ok', 'auth_refresh'))\n",
    "\n",
    "ok.auth()"
   ]
  },
  {
   "cell_type": "markdown",
   "metadata": {},
   "source": [
    "## Loading Food Safety Data\n",
    "\n",
    "To begin our investigation, we need to understand the structure of the data. Recall this involves answering questions such as \n",
    "\n",
    "* Is the data in a standard format or encoding?\n",
    "* Is the data organized in records?\n",
    "* What are the fields in each record?\n",
    "\n",
    "There are 4 files in the data directory.  Use the `ls -lh` command to list all the files and their sizes stored in the data directory.\n",
    "\n",
    "**Note for Windows users:** Unfortunately, since Windows is not a UNIX system most lines of shell code won't work. You can reference http://simplyadvanced.net/blog/cheat-sheet-for-windows-command-prompt/ for how to translate the code into the Windows command prompt, or you can use http://datahub.berkeley.edu/, or if you're feeling adventurous you can try to [set up Anaconda in Bash environment that Windows has recently started to support](http://www.cgranade.com/blog/2016/08/22/qutip-on-wsl.html)."
   ]
  },
  {
   "cell_type": "code",
   "execution_count": 5,
   "metadata": {
    "tags": [
     "student"
    ]
   },
   "outputs": [
    {
     "name": "stdout",
     "output_type": "stream",
     "text": [
      "total 9904\r\n",
      "-rwxr-xr-x@ 1 matt  staff   645K Sep 11 22:06 \u001b[31mbusinesses.csv\u001b[m\u001b[m*\r\n",
      "-rwxr-xr-x@ 1 matt  staff   493K Sep 11 22:06 \u001b[31minspections.csv\u001b[m\u001b[m*\r\n",
      "-rwxr-xr-x@ 1 matt  staff   120B Sep 11 22:06 \u001b[31mlegend.csv\u001b[m\u001b[m*\r\n",
      "-rwxr-xr-x@ 1 matt  staff   3.7M Sep 11 22:06 \u001b[31mviolations.csv\u001b[m\u001b[m*\r\n"
     ]
    }
   ],
   "source": [
    "ls -lh data"
   ]
  },
  {
   "cell_type": "markdown",
   "metadata": {},
   "source": [
    "### Question 1a\n",
    "\n",
    "From the above output we see that one of the files is relatively small.  Use the `cat` command to cat that file and print what it contains.  "
   ]
  },
  {
   "cell_type": "code",
   "execution_count": 6,
   "metadata": {
    "tags": [
     "student"
    ]
   },
   "outputs": [
    {
     "name": "stdout",
     "output_type": "stream",
     "text": [
      "\"Minimum_Score\",\"Maximum_Score\",\"Description\"\r",
      "\r\n",
      "0,70,\"Poor\"\r",
      "\r\n",
      "71,85,\"Needs Improvement\"\r",
      "\r\n",
      "86,90,\"Adequate\"\r",
      "\r\n",
      "91,100,\"Good\"\r",
      "\r\n"
     ]
    }
   ],
   "source": [
    "!cat data/legend.csv"
   ]
  },
  {
   "cell_type": "markdown",
   "metadata": {},
   "source": [
    "### Question 1b\n",
    "\n",
    "Run the `head` command to verify that the remaining files are also CSV formatted as their file extension suggests"
   ]
  },
  {
   "cell_type": "code",
   "execution_count": 7,
   "metadata": {},
   "outputs": [
    {
     "name": "stdout",
     "output_type": "stream",
     "text": [
      "==> data/businesses.csv <==\r\n",
      "\"business_id\",\"name\",\"address\",\"city\",\"state\",\"postal_code\",\"latitude\",\"longitude\",\"phone_number\"\r",
      "\r\n",
      "10,\"TIRAMISU KITCHEN\",\"033 BELDEN PL\",\"San Francisco\",\"CA\",\"94104\",\"37.791116\",\"-122.403816\",\"+14154217044\"\r",
      "\r\n",
      "19,\"NRGIZE LIFESTYLE CAFE\",\"1200 VAN NESS AVE, 3RD FLOOR\",\"San Francisco\",\"CA\",\"94109\",\"37.786848\",\"-122.421547\",\"+14157763262\"\r",
      "\r\n",
      "24,\"OMNI S.F. HOTEL - 2ND FLOOR PANTRY\",\"500 CALIFORNIA ST, 2ND  FLOOR\",\"San Francisco\",\"CA\",\"94104\",\"37.792888\",\"-122.403135\",\"+14156779494\"\r",
      "\r\n",
      "31,\"NORMAN'S ICE CREAM AND FREEZES\",\"2801 LEAVENWORTH ST \",\"San Francisco\",\"CA\",\"94133\",\"37.807155\",\"-122.419004\",\"\"\r",
      "\r\n",
      "45,\"CHARLIE'S DELI CAFE\",\"3202 FOLSOM ST \",\"San Francisco\",\"CA\",\"94110\",\"37.747114\",\"-122.413641\",\"+14156415051\"\r",
      "\r\n",
      "48,\"ART'S CAFE\",\"747 IRVING ST \",\"San Francisco\",\"CA\",\"94122\",\"37.764013\",\"-122.465749\",\"+14156657440\"\r",
      "\r\n",
      "50,\"SUSHI ZONE\",\"1815  MARKET ST. \",\"San Francisco\",\"CA\",\"94103\",\"37.771437\",\"-122.423892\",\"+14156211114\"\r",
      "\r\n",
      "54,\"RHODA GOLDMAN PLAZA\",\"2180 POST ST \",\"San Francisco\",\"CA\",\"94115\",\"37.784626\",\"-122.437734\",\"+14153455060\"\r",
      "\r\n",
      "56,\"CAFE X + O\",\"1799 CHURCH ST \",\"San Francisco\",\"CA\",\"94131\",\"37.742325\",\"-122.426476\",\"+14158263535\"\r",
      "\r\n",
      "\r\n",
      "==> data/inspections.csv <==\r\n",
      "\"business_id\",\"score\",\"date\",\"type\"\r",
      "\r\n",
      "10,\"82\",\"20160503\",\"routine\"\r",
      "\r\n",
      "10,\"94\",\"20140729\",\"routine\"\r",
      "\r\n",
      "10,\"92\",\"20140114\",\"routine\"\r",
      "\r\n",
      "19,\"94\",\"20160513\",\"routine\"\r",
      "\r\n",
      "19,\"94\",\"20141110\",\"routine\"\r",
      "\r\n",
      "19,\"94\",\"20140214\",\"routine\"\r",
      "\r\n",
      "24,\"98\",\"20161005\",\"routine\"\r",
      "\r\n",
      "24,\"96\",\"20160311\",\"routine\"\r",
      "\r\n",
      "24,\"96\",\"20141124\",\"routine\"\r",
      "\r\n",
      "\r\n",
      "==> data/legend.csv <==\r\n",
      "\"Minimum_Score\",\"Maximum_Score\",\"Description\"\r",
      "\r\n",
      "0,70,\"Poor\"\r",
      "\r\n",
      "71,85,\"Needs Improvement\"\r",
      "\r\n",
      "86,90,\"Adequate\"\r",
      "\r\n",
      "91,100,\"Good\"\r",
      "\r\n",
      "\r\n",
      "==> data/violations.csv <==\r\n",
      "\"business_id\",\"date\",\"description\"\r",
      "\r\n",
      "10,\"20160503\",\"High risk food holding temperature   [ date violation corrected: 5/3/2016 ]\"\r",
      "\r\n",
      "10,\"20160503\",\"High risk food holding temperature   [ date violation corrected: 5/3/2016 ]\"\r",
      "\r\n",
      "10,\"20160503\",\"High risk vermin infestation\"\r",
      "\r\n",
      "10,\"20160503\",\"Unapproved or unmaintained equipment or utensils\"\r",
      "\r\n",
      "10,\"20160503\",\"No thermometers or uncalibrated thermometers \"\r",
      "\r\n",
      "10,\"20140729\",\"Insufficient hot water or running water  [ date violation corrected: 8/7/2014 ]\"\r",
      "\r\n",
      "10,\"20140729\",\"Unapproved or unmaintained equipment or utensils  [ date violation corrected: 8/7/2014 ]\"\r",
      "\r\n",
      "10,\"20140114\",\"Improper storage of equipment utensils or linens  [ date violation corrected: 1/24/2014 ]\"\r",
      "\r\n",
      "10,\"20140114\",\"Unclean or degraded floors walls or ceilings  [ date violation corrected: 1/24/2014 ]\"\r",
      "\r\n"
     ]
    }
   ],
   "source": [
    "!head data/*"
   ]
  },
  {
   "cell_type": "markdown",
   "metadata": {},
   "source": [
    "Answer the following boolean expressions using (True or False)."
   ]
  },
  {
   "cell_type": "code",
   "execution_count": 8,
   "metadata": {
    "collapsed": true,
    "tags": [
     "student"
    ]
   },
   "outputs": [],
   "source": [
    "# Are all the files CSV files?\n",
    "all_files_appear_to_be_csv = True\n",
    "\n",
    "# Do all the files have a header line?\n",
    "all_files_contain_headers = True\n",
    "\n",
    "# Do all the strings in the file have quotes around them?\n",
    "strings_appear_quoted = True"
   ]
  },
  {
   "cell_type": "markdown",
   "metadata": {},
   "source": [
    "### Question 1c\n",
    "\n",
    "Run the following command to determine the file encoding of each of these files"
   ]
  },
  {
   "cell_type": "code",
   "execution_count": 9,
   "metadata": {},
   "outputs": [
    {
     "name": "stdout",
     "output_type": "stream",
     "text": [
      "data/businesses.csv:  ISO-8859 text, with CRLF line terminators\n",
      "data/inspections.csv: ASCII text, with CRLF line terminators\n",
      "data/legend.csv:      ASCII text, with CRLF line terminators\n",
      "data/violations.csv:  ASCII text, with CRLF line terminators\n"
     ]
    }
   ],
   "source": [
    "!file data/*"
   ]
  },
  {
   "cell_type": "code",
   "execution_count": 10,
   "metadata": {
    "collapsed": true
   },
   "outputs": [],
   "source": [
    "pd.read_csv?"
   ]
  },
  {
   "cell_type": "markdown",
   "metadata": {},
   "source": [
    "Based on the above information let's attempt to load the `businesses.csv`, `inspections.csv`, and the `violations.csv` into pandas data frames with the following names `bus`, `ins`, and `vio`.  Because of character encoding issues one of the files will require an additional argument `encoding='ISO-8859-1'` when calling `pd.read_csv`. "
   ]
  },
  {
   "cell_type": "code",
   "execution_count": 11,
   "metadata": {
    "collapsed": true,
    "tags": [
     "student"
    ]
   },
   "outputs": [],
   "source": [
    "# path to directory containing data\n",
    "dsDir = \"data/\"\n",
    "\n",
    "bus = pd.read_csv(\"data/businesses.csv\", encoding='ISO-8859-1')\n",
    "ins = pd.read_csv(\"data/inspections.csv\")\n",
    "vio = pd.read_csv(\"data/violations.csv\")"
   ]
  },
  {
   "cell_type": "markdown",
   "metadata": {},
   "source": [
    "Run the following cells in order to view a portion of each dataframe."
   ]
  },
  {
   "cell_type": "code",
   "execution_count": 12,
   "metadata": {},
   "outputs": [
    {
     "data": {
      "text/html": [
       "<div>\n",
       "<style>\n",
       "    .dataframe thead tr:only-child th {\n",
       "        text-align: right;\n",
       "    }\n",
       "\n",
       "    .dataframe thead th {\n",
       "        text-align: left;\n",
       "    }\n",
       "\n",
       "    .dataframe tbody tr th {\n",
       "        vertical-align: top;\n",
       "    }\n",
       "</style>\n",
       "<table border=\"1\" class=\"dataframe\">\n",
       "  <thead>\n",
       "    <tr style=\"text-align: right;\">\n",
       "      <th></th>\n",
       "      <th>business_id</th>\n",
       "      <th>name</th>\n",
       "      <th>address</th>\n",
       "      <th>city</th>\n",
       "      <th>state</th>\n",
       "      <th>postal_code</th>\n",
       "      <th>latitude</th>\n",
       "      <th>longitude</th>\n",
       "      <th>phone_number</th>\n",
       "    </tr>\n",
       "  </thead>\n",
       "  <tbody>\n",
       "    <tr>\n",
       "      <th>0</th>\n",
       "      <td>10</td>\n",
       "      <td>TIRAMISU KITCHEN</td>\n",
       "      <td>033 BELDEN PL</td>\n",
       "      <td>San Francisco</td>\n",
       "      <td>CA</td>\n",
       "      <td>94104</td>\n",
       "      <td>37.791116</td>\n",
       "      <td>-122.403816</td>\n",
       "      <td>+14154217044</td>\n",
       "    </tr>\n",
       "    <tr>\n",
       "      <th>1</th>\n",
       "      <td>19</td>\n",
       "      <td>NRGIZE LIFESTYLE CAFE</td>\n",
       "      <td>1200 VAN NESS AVE, 3RD FLOOR</td>\n",
       "      <td>San Francisco</td>\n",
       "      <td>CA</td>\n",
       "      <td>94109</td>\n",
       "      <td>37.786848</td>\n",
       "      <td>-122.421547</td>\n",
       "      <td>+14157763262</td>\n",
       "    </tr>\n",
       "    <tr>\n",
       "      <th>2</th>\n",
       "      <td>24</td>\n",
       "      <td>OMNI S.F. HOTEL - 2ND FLOOR PANTRY</td>\n",
       "      <td>500 CALIFORNIA ST, 2ND  FLOOR</td>\n",
       "      <td>San Francisco</td>\n",
       "      <td>CA</td>\n",
       "      <td>94104</td>\n",
       "      <td>37.792888</td>\n",
       "      <td>-122.403135</td>\n",
       "      <td>+14156779494</td>\n",
       "    </tr>\n",
       "    <tr>\n",
       "      <th>3</th>\n",
       "      <td>31</td>\n",
       "      <td>NORMAN'S ICE CREAM AND FREEZES</td>\n",
       "      <td>2801 LEAVENWORTH ST</td>\n",
       "      <td>San Francisco</td>\n",
       "      <td>CA</td>\n",
       "      <td>94133</td>\n",
       "      <td>37.807155</td>\n",
       "      <td>-122.419004</td>\n",
       "      <td>NaN</td>\n",
       "    </tr>\n",
       "    <tr>\n",
       "      <th>4</th>\n",
       "      <td>45</td>\n",
       "      <td>CHARLIE'S DELI CAFE</td>\n",
       "      <td>3202 FOLSOM ST</td>\n",
       "      <td>San Francisco</td>\n",
       "      <td>CA</td>\n",
       "      <td>94110</td>\n",
       "      <td>37.747114</td>\n",
       "      <td>-122.413641</td>\n",
       "      <td>+14156415051</td>\n",
       "    </tr>\n",
       "  </tbody>\n",
       "</table>\n",
       "</div>"
      ],
      "text/plain": [
       "   business_id                                name  \\\n",
       "0           10                    TIRAMISU KITCHEN   \n",
       "1           19               NRGIZE LIFESTYLE CAFE   \n",
       "2           24  OMNI S.F. HOTEL - 2ND FLOOR PANTRY   \n",
       "3           31      NORMAN'S ICE CREAM AND FREEZES   \n",
       "4           45                 CHARLIE'S DELI CAFE   \n",
       "\n",
       "                         address           city state postal_code   latitude  \\\n",
       "0                  033 BELDEN PL  San Francisco    CA       94104  37.791116   \n",
       "1   1200 VAN NESS AVE, 3RD FLOOR  San Francisco    CA       94109  37.786848   \n",
       "2  500 CALIFORNIA ST, 2ND  FLOOR  San Francisco    CA       94104  37.792888   \n",
       "3           2801 LEAVENWORTH ST   San Francisco    CA       94133  37.807155   \n",
       "4                3202 FOLSOM ST   San Francisco    CA       94110  37.747114   \n",
       "\n",
       "    longitude  phone_number  \n",
       "0 -122.403816  +14154217044  \n",
       "1 -122.421547  +14157763262  \n",
       "2 -122.403135  +14156779494  \n",
       "3 -122.419004           NaN  \n",
       "4 -122.413641  +14156415051  "
      ]
     },
     "execution_count": 12,
     "metadata": {},
     "output_type": "execute_result"
    }
   ],
   "source": [
    "bus.head(5)"
   ]
  },
  {
   "cell_type": "code",
   "execution_count": 13,
   "metadata": {},
   "outputs": [
    {
     "data": {
      "text/html": [
       "<div>\n",
       "<style>\n",
       "    .dataframe thead tr:only-child th {\n",
       "        text-align: right;\n",
       "    }\n",
       "\n",
       "    .dataframe thead th {\n",
       "        text-align: left;\n",
       "    }\n",
       "\n",
       "    .dataframe tbody tr th {\n",
       "        vertical-align: top;\n",
       "    }\n",
       "</style>\n",
       "<table border=\"1\" class=\"dataframe\">\n",
       "  <thead>\n",
       "    <tr style=\"text-align: right;\">\n",
       "      <th></th>\n",
       "      <th>business_id</th>\n",
       "      <th>score</th>\n",
       "      <th>date</th>\n",
       "      <th>type</th>\n",
       "    </tr>\n",
       "  </thead>\n",
       "  <tbody>\n",
       "    <tr>\n",
       "      <th>0</th>\n",
       "      <td>10</td>\n",
       "      <td>82</td>\n",
       "      <td>20160503</td>\n",
       "      <td>routine</td>\n",
       "    </tr>\n",
       "    <tr>\n",
       "      <th>1</th>\n",
       "      <td>10</td>\n",
       "      <td>94</td>\n",
       "      <td>20140729</td>\n",
       "      <td>routine</td>\n",
       "    </tr>\n",
       "    <tr>\n",
       "      <th>2</th>\n",
       "      <td>10</td>\n",
       "      <td>92</td>\n",
       "      <td>20140114</td>\n",
       "      <td>routine</td>\n",
       "    </tr>\n",
       "    <tr>\n",
       "      <th>3</th>\n",
       "      <td>19</td>\n",
       "      <td>94</td>\n",
       "      <td>20160513</td>\n",
       "      <td>routine</td>\n",
       "    </tr>\n",
       "    <tr>\n",
       "      <th>4</th>\n",
       "      <td>19</td>\n",
       "      <td>94</td>\n",
       "      <td>20141110</td>\n",
       "      <td>routine</td>\n",
       "    </tr>\n",
       "  </tbody>\n",
       "</table>\n",
       "</div>"
      ],
      "text/plain": [
       "   business_id  score      date     type\n",
       "0           10     82  20160503  routine\n",
       "1           10     94  20140729  routine\n",
       "2           10     92  20140114  routine\n",
       "3           19     94  20160513  routine\n",
       "4           19     94  20141110  routine"
      ]
     },
     "execution_count": 13,
     "metadata": {},
     "output_type": "execute_result"
    }
   ],
   "source": [
    "ins.head(5)"
   ]
  },
  {
   "cell_type": "code",
   "execution_count": 14,
   "metadata": {},
   "outputs": [
    {
     "data": {
      "text/html": [
       "<div>\n",
       "<style>\n",
       "    .dataframe thead tr:only-child th {\n",
       "        text-align: right;\n",
       "    }\n",
       "\n",
       "    .dataframe thead th {\n",
       "        text-align: left;\n",
       "    }\n",
       "\n",
       "    .dataframe tbody tr th {\n",
       "        vertical-align: top;\n",
       "    }\n",
       "</style>\n",
       "<table border=\"1\" class=\"dataframe\">\n",
       "  <thead>\n",
       "    <tr style=\"text-align: right;\">\n",
       "      <th></th>\n",
       "      <th>business_id</th>\n",
       "      <th>date</th>\n",
       "      <th>description</th>\n",
       "    </tr>\n",
       "  </thead>\n",
       "  <tbody>\n",
       "    <tr>\n",
       "      <th>0</th>\n",
       "      <td>10</td>\n",
       "      <td>20160503</td>\n",
       "      <td>High risk food holding temperature   [ date vi...</td>\n",
       "    </tr>\n",
       "    <tr>\n",
       "      <th>1</th>\n",
       "      <td>10</td>\n",
       "      <td>20160503</td>\n",
       "      <td>High risk food holding temperature   [ date vi...</td>\n",
       "    </tr>\n",
       "    <tr>\n",
       "      <th>2</th>\n",
       "      <td>10</td>\n",
       "      <td>20160503</td>\n",
       "      <td>High risk vermin infestation</td>\n",
       "    </tr>\n",
       "    <tr>\n",
       "      <th>3</th>\n",
       "      <td>10</td>\n",
       "      <td>20160503</td>\n",
       "      <td>Unapproved or unmaintained equipment or utensils</td>\n",
       "    </tr>\n",
       "    <tr>\n",
       "      <th>4</th>\n",
       "      <td>10</td>\n",
       "      <td>20160503</td>\n",
       "      <td>No thermometers or uncalibrated thermometers</td>\n",
       "    </tr>\n",
       "  </tbody>\n",
       "</table>\n",
       "</div>"
      ],
      "text/plain": [
       "   business_id      date                                        description\n",
       "0           10  20160503  High risk food holding temperature   [ date vi...\n",
       "1           10  20160503  High risk food holding temperature   [ date vi...\n",
       "2           10  20160503                       High risk vermin infestation\n",
       "3           10  20160503   Unapproved or unmaintained equipment or utensils\n",
       "4           10  20160503      No thermometers or uncalibrated thermometers "
      ]
     },
     "execution_count": 14,
     "metadata": {},
     "output_type": "execute_result"
    }
   ],
   "source": [
    "vio.head(5)"
   ]
  },
  {
   "cell_type": "markdown",
   "metadata": {},
   "source": [
    "### Question 1d\n",
    "\n",
    "In the following describe at least one potential problem with the above data. Consider issues with missing values and bad data.  "
   ]
  },
  {
   "cell_type": "code",
   "execution_count": 15,
   "metadata": {
    "tags": [
     "student",
     "written"
    ]
   },
   "outputs": [
    {
     "data": {
      "text/markdown": [
       "\n",
       "\n",
       "One issue that I can potentially see is the way the date is stored, as one eight digit number instead of being\n",
       "stored in a more easily manipulatable format. This isn't a huge problem but if left as is could prove to be a \n",
       "problem for certain types of data manipulation, such as checking if day of month/month/year play a role in affecting\n",
       "ratings, which would definitely be something on my radar to check.\n",
       "\n"
      ],
      "text/plain": [
       "<IPython.core.display.Markdown object>"
      ]
     },
     "metadata": {},
     "output_type": "display_data"
    }
   ],
   "source": [
    "q1d_answer = r\"\"\"\n",
    "\n",
    "One issue that I can potentially see is the way the date is stored, as one eight digit number instead of being\n",
    "stored in a more easily manipulatable format. This isn't a huge problem but if left as is could prove to be a \n",
    "problem for certain types of data manipulation, such as checking if day of month/month/year play a role in affecting\n",
    "ratings, which would definitely be something on my radar to check.\n",
    "\n",
    "\"\"\"\n",
    "\n",
    "display(Markdown(q1d_answer))"
   ]
  },
  {
   "cell_type": "code",
   "execution_count": 16,
   "metadata": {},
   "outputs": [
    {
     "name": "stdout",
     "output_type": "stream",
     "text": [
      "~~~~~~~~~~~~~~~~~~~~~~~~~~~~~~~~~~~~~~~~~~~~~~~~~~~~~~~~~~~~~~~~~~~~~\n",
      "Running tests\n",
      "\n",
      "---------------------------------------------------------------------\n",
      "Test summary\n",
      "    Passed: 1\n",
      "    Failed: 0\n",
      "[ooooooooook] 100.0% passed\n",
      "\n"
     ]
    },
    {
     "data": {
      "application/javascript": [
       "IPython.notebook.save_checkpoint();"
      ],
      "text/plain": [
       "<IPython.core.display.Javascript object>"
      ]
     },
     "metadata": {},
     "output_type": "display_data"
    },
    {
     "data": {
      "application/javascript": [
       "IPython.notebook.save_notebook();"
      ],
      "text/plain": [
       "<IPython.core.display.Javascript object>"
      ]
     },
     "metadata": {},
     "output_type": "display_data"
    },
    {
     "name": "stdout",
     "output_type": "stream",
     "text": [
      "Saving notebook... Saved 'hw2.ipynb'.\n",
      "Backup... 100% complete\n",
      "Backup successful for user: mattholtzer9@berkeley.edu\n",
      "URL: https://okpy.org/cal/ds100/fa17/hw2/backups/DkV3gy\n",
      "NOTE: this is only a backup. To submit your assignment, use:\n",
      "\tpython3 ok --submit\n",
      "\n"
     ]
    }
   ],
   "source": [
    "_ = ok.grade('q01')\n",
    "_ = ok.backup()"
   ]
  },
  {
   "cell_type": "markdown",
   "metadata": {},
   "source": [
    "We will explore each file in turn, including determining its granularity and primary keys and exploring many of the variables indivdually. Let's begin with the businesses file, which has been read into the data.frame `bus`."
   ]
  },
  {
   "cell_type": "markdown",
   "metadata": {},
   "source": [
    "## Examining the Business data\n",
    "\n",
    "From its name alone, we expect the `businesses.csv` file to contain information about the restaurants. Let's investigate the granularity of this dataset.\n",
    "\n",
    "**Important note: From now on, the local autograder tests will not be comprehensive. You can pass the OkPy tests in your notebook but still fail tests in the autograder.** Please be sure to check your results carefully."
   ]
  },
  {
   "cell_type": "markdown",
   "metadata": {},
   "source": [
    "### Question 2\n",
    "\n",
    "#### Question 2a\n",
    "\n",
    "Examining the entries in in the `businesses.csv` table `bus` is the `business_id` unique for each record?"
   ]
  },
  {
   "cell_type": "code",
   "execution_count": 17,
   "metadata": {
    "tags": [
     "student"
    ]
   },
   "outputs": [
    {
     "data": {
      "text/plain": [
       "2047     1\n",
       "71088    1\n",
       "1458     1\n",
       "62900    1\n",
       "1466     1\n",
       "69051    1\n",
       "81341    1\n",
       "7617     1\n",
       "83394    1\n",
       "81349    1\n",
       "1482     1\n",
       "85451    1\n",
       "30156    1\n",
       "81357    1\n",
       "87927    1\n",
       "1490     1\n",
       "85459    1\n",
       "81365    1\n",
       "2843     1\n",
       "87512    1\n",
       "24025    1\n",
       "83418    1\n",
       "3547     1\n",
       "5974     1\n",
       "5544     1\n",
       "81269    1\n",
       "11687    1\n",
       "5504     1\n",
       "3459     1\n",
       "81285    1\n",
       "        ..\n",
       "85400    1\n",
       "80658    1\n",
       "2836     1\n",
       "86807    1\n",
       "78619    1\n",
       "2788     1\n",
       "62179    1\n",
       "87780    1\n",
       "78531    1\n",
       "80554    1\n",
       "76464    1\n",
       "66229    1\n",
       "39606    1\n",
       "4791     1\n",
       "82719    1\n",
       "84668    1\n",
       "86994    1\n",
       "83148    1\n",
       "2756     1\n",
       "82653    1\n",
       "709      1\n",
       "35469    1\n",
       "37575    1\n",
       "64202    1\n",
       "78539    1\n",
       "2764     1\n",
       "84692    1\n",
       "78555    1\n",
       "2780     1\n",
       "71683    1\n",
       "Name: business_id, Length: 6315, dtype: int64"
      ]
     },
     "execution_count": 17,
     "metadata": {},
     "output_type": "execute_result"
    }
   ],
   "source": [
    "bus['business_id'].value_counts() # use value_counts() or unique() to determine if the business_id field is unique"
   ]
  },
  {
   "cell_type": "code",
   "execution_count": 18,
   "metadata": {
    "collapsed": true,
    "tags": [
     "student"
    ]
   },
   "outputs": [],
   "source": [
    "is_business_id_unique = True # put your final answer True/False here"
   ]
  },
  {
   "cell_type": "code",
   "execution_count": 19,
   "metadata": {},
   "outputs": [
    {
     "name": "stdout",
     "output_type": "stream",
     "text": [
      "~~~~~~~~~~~~~~~~~~~~~~~~~~~~~~~~~~~~~~~~~~~~~~~~~~~~~~~~~~~~~~~~~~~~~\n",
      "Running tests\n",
      "\n",
      "---------------------------------------------------------------------\n",
      "Test summary\n",
      "    Passed: 1\n",
      "    Failed: 0\n",
      "[ooooooooook] 100.0% passed\n",
      "\n"
     ]
    },
    {
     "data": {
      "application/javascript": [
       "IPython.notebook.save_checkpoint();"
      ],
      "text/plain": [
       "<IPython.core.display.Javascript object>"
      ]
     },
     "metadata": {},
     "output_type": "display_data"
    },
    {
     "data": {
      "application/javascript": [
       "IPython.notebook.save_notebook();"
      ],
      "text/plain": [
       "<IPython.core.display.Javascript object>"
      ]
     },
     "metadata": {},
     "output_type": "display_data"
    },
    {
     "name": "stdout",
     "output_type": "stream",
     "text": [
      "Saving notebook... Saved 'hw2.ipynb'.\n",
      "Backup... 100% complete\n",
      "Backup successful for user: mattholtzer9@berkeley.edu\n",
      "URL: https://okpy.org/cal/ds100/fa17/hw2/backups/G6V3lL\n",
      "NOTE: this is only a backup. To submit your assignment, use:\n",
      "\tpython3 ok --submit\n",
      "\n"
     ]
    }
   ],
   "source": [
    "_ = ok.grade('q02a')\n",
    "_ = ok.backup()"
   ]
  },
  {
   "cell_type": "markdown",
   "metadata": {
    "tags": [
     "written"
    ]
   },
   "source": [
    "#### Question 2b\n",
    "\n",
    "With this information, you can address the question of granularity and so answer the questions below.\n",
    "\n",
    "1. What is the granularity of the businesses data frame? \n",
    "1. How many records are there?\n",
    "1. What does each record represent (e.g., a store, a chain, a transaction)?  \n",
    "1. What is the primary key?\n",
    "\n",
    "Please write your answer in the `q2b_answer` variable. You may create new cells to run code as long as you don't delete the cell below."
   ]
  },
  {
   "cell_type": "code",
   "execution_count": 20,
   "metadata": {
    "tags": [
     "student"
    ]
   },
   "outputs": [
    {
     "data": {
      "text/plain": [
       "6315"
      ]
     },
     "execution_count": 20,
     "metadata": {},
     "output_type": "execute_result"
    }
   ],
   "source": [
    "# use this cell for scratch work\n",
    "# consider using groupby or value_counts() on the 'name' or 'business_id' \n",
    "len(bus[\"business_id\"])"
   ]
  },
  {
   "cell_type": "code",
   "execution_count": 21,
   "metadata": {},
   "outputs": [
    {
     "data": {
      "text/plain": [
       "STARBUCKS COFFEE                            72\n",
       "PEET'S COFFEE & TEA                         24\n",
       "MCDONALDS                                   12\n",
       "SAN FRANCISCO SOUP COMPANY                  11\n",
       "WALGREENS                                   11\n",
       "LEE'S DELI                                  10\n",
       "SPECIALTY'S CAFE & BAKERY                    9\n",
       "AT&T PARK - FOOD CART                        9\n",
       "JAMBA JUICE                                  9\n",
       "SUBWAY SANDWICHES                            8\n",
       "PHILZ COFFEE                                 7\n",
       "WHOLE FOODS MARKET                           7\n",
       "BON APPETIT MANAGEMENT CO                    7\n",
       "BON APPETIT @ TWITTER                        7\n",
       "MIXT GREENS                                  6\n",
       "SUBWAY                                       6\n",
       "PROPER FOOD                                  6\n",
       "NUCHA                                        6\n",
       "AT&T PARK - DRAFT BEER CART                  6\n",
       "BLUE BOTTLE COFFEE                           6\n",
       "JW MARRIOTT SF UNION SQUARE                  5\n",
       "LA BOULANGERIE DE SAN FRANCISCO              5\n",
       "ANNIE'S HOT DOGS & PRETZELS                  5\n",
       "ESCAPE FROM NEW YORK PIZZA                   5\n",
       "QUICKLY                                      5\n",
       "THE PLANT CAFE ORGANIC                       5\n",
       "ROUND TABLE PIZZA                            5\n",
       "THE MELT                                     4\n",
       "GHIRARDELLI CHOCOLATE                        4\n",
       "HAPPY DONUT                                  4\n",
       "                                            ..\n",
       "ZESTY INC.                                   1\n",
       "EL DORADO ELEMENTARY SCHOOL                  1\n",
       "MOURAD                                       1\n",
       "24TH STREET CHEESE COMPANY                   1\n",
       "LOLO                                         1\n",
       "PRESIDIO MIDDLE SCHOOL                       1\n",
       "PARTIES THAT COOK                            1\n",
       "SAI'S VIETNAMESE RESTAURANT                  1\n",
       "SODINI'S RESTAURANT                          1\n",
       "SUBWAY SANDWICHES #24254                     1\n",
       "AT&T PARK - COFFEE AND ICE CREAM (5A+5B)     1\n",
       "ARIA                                         1\n",
       "HOTEL NIKKO SAN FRANCISCO                    1\n",
       "ORPHAN ANDY'S                                1\n",
       "SUSHI FANTASTIC                              1\n",
       "DOSA ON FILLMORE                             1\n",
       "BODEGA                                       1\n",
       "PARLOR 1255                                  1\n",
       "THE MILL                                     1\n",
       "GOOD LUCK DIM SUM                            1\n",
       "NEW UPPER TERRACE MARKET                     1\n",
       "DONAIRO'S PIZZA                              1\n",
       "CITY CHOPSTICKS                              1\n",
       "20TH CENTURY CAFE                            1\n",
       "TOSCA CAFE                                   1\n",
       "NAMA SUSHI                                   1\n",
       "ITS TOPS COFFEE SHOP                         1\n",
       "MARCUS RIOS                                  1\n",
       "WASHINGTON CAFE                              1\n",
       "MY CORNER CAFE INC                           1\n",
       "Name: name, Length: 5692, dtype: int64"
      ]
     },
     "execution_count": 21,
     "metadata": {},
     "output_type": "execute_result"
    }
   ],
   "source": [
    "bus['name'].value_counts()"
   ]
  },
  {
   "cell_type": "code",
   "execution_count": 22,
   "metadata": {
    "tags": [
     "student",
     "written"
    ]
   },
   "outputs": [
    {
     "data": {
      "text/markdown": [
       "\n",
       "\n",
       "1. The granularity is a business in San Francisco\n",
       "2. There are 6315 records\n",
       "3. Each record represents a store\n",
       "4. The primary key is the business id\n",
       "\n"
      ],
      "text/plain": [
       "<IPython.core.display.Markdown object>"
      ]
     },
     "metadata": {},
     "output_type": "display_data"
    }
   ],
   "source": [
    "q2b_answer = r\"\"\"\n",
    "\n",
    "1. The granularity is a business in San Francisco\n",
    "2. There are 6315 records\n",
    "3. Each record represents a store\n",
    "4. The primary key is the business id\n",
    "\n",
    "\"\"\"\n",
    "\n",
    "display(Markdown(q2b_answer))"
   ]
  },
  {
   "cell_type": "markdown",
   "metadata": {
    "tags": [
     "written"
    ]
   },
   "source": [
    "## Zip code\n",
    "\n",
    "Next, let's  explore some of the variables in the business table. We begin by examining the postal code.\n",
    "\n",
    "### Question 3\n",
    "\n",
    "#### Question 3a\n",
    "\n",
    "\n",
    "What kind of values are in the variable postal code in the `bus` data frame?  \n",
    "1. Is zip code quantitative or qualitative? If qualitative, is it ordinal or nominal? \n",
    "1. How are the zip code values encoded in python: ints, floats, strings, booleans ...\n",
    "\n",
    "To answer the second question you might want to examine a particular entry."
   ]
  },
  {
   "cell_type": "code",
   "execution_count": 23,
   "metadata": {},
   "outputs": [
    {
     "data": {
      "text/plain": [
       "94110        585\n",
       "94103        558\n",
       "94102        458\n",
       "94107        451\n",
       "94133        417\n",
       "94109        383\n",
       "94111        282\n",
       "94122        270\n",
       "94118        243\n",
       "94115        238\n",
       "94114        230\n",
       "94105        226\n",
       "94108        224\n",
       "94117        197\n",
       "94112        190\n",
       "94123        169\n",
       "94124        164\n",
       "94121        161\n",
       "94132        134\n",
       "94104        133\n",
       "94116         93\n",
       "94134         74\n",
       "94127         71\n",
       "94131         48\n",
       "94158         17\n",
       "94130          8\n",
       "94143          5\n",
       "CA             3\n",
       "Ca             3\n",
       "94129          2\n",
       "94013          2\n",
       "94101          2\n",
       "94014          2\n",
       "94120          1\n",
       "00000          1\n",
       "941            1\n",
       "92672          1\n",
       "94602          1\n",
       "94609          1\n",
       "94188          1\n",
       "941033148      1\n",
       "941102019      1\n",
       "94066          1\n",
       "94621          1\n",
       "94545          1\n",
       "95105          1\n",
       "Name: postal_code, dtype: int64"
      ]
     },
     "execution_count": 23,
     "metadata": {},
     "output_type": "execute_result"
    }
   ],
   "source": [
    "bus[\"postal_code\"].value_counts()"
   ]
  },
  {
   "cell_type": "code",
   "execution_count": 24,
   "metadata": {
    "tags": [
     "student",
     "written"
    ]
   },
   "outputs": [
    {
     "data": {
      "text/markdown": [
       "\n",
       "\n",
       "1. Zip code is qualitative and is nominal.\n",
       "2. These values are stored as an int.\n",
       "\n"
      ],
      "text/plain": [
       "<IPython.core.display.Markdown object>"
      ]
     },
     "metadata": {},
     "output_type": "display_data"
    }
   ],
   "source": [
    "# Use this cell for your explorations.\n",
    "q3a_answer = r\"\"\"\n",
    "\n",
    "1. Zip code is qualitative and is nominal.\n",
    "2. These values are stored as an int.\n",
    "\n",
    "\"\"\"\n",
    "\n",
    "display(Markdown(q3a_answer))"
   ]
  },
  {
   "cell_type": "markdown",
   "metadata": {},
   "source": [
    "#### Question 3b\n",
    "\n",
    "To explore the zip code values, it makes sense to examine counts, i.e., the number of records  that have the same zip code value. This is essentially answering the question: How many restaurants are in each zip code? \n",
    "\n",
    "Please generate a dataframe with `postal_code` as the index and a column called `count` which denotes the number of restaurants for each zip code.   If the zipcode is missing be sure to replace it with `MISSING` (e.g., by using `fillna`)."
   ]
  },
  {
   "cell_type": "code",
   "execution_count": 25,
   "metadata": {
    "collapsed": true
   },
   "outputs": [],
   "source": [
    "pd.value_counts?"
   ]
  },
  {
   "cell_type": "code",
   "execution_count": 28,
   "metadata": {
    "collapsed": true
   },
   "outputs": [],
   "source": [
    "pd.DataFrame.fillna?"
   ]
  },
  {
   "cell_type": "code",
   "execution_count": 26,
   "metadata": {},
   "outputs": [
    {
     "data": {
      "text/plain": [
       "0         94104\n",
       "1         94109\n",
       "2         94104\n",
       "3         94133\n",
       "4         94110\n",
       "5         94122\n",
       "6         94103\n",
       "7         94115\n",
       "8         94131\n",
       "9         94111\n",
       "10        94133\n",
       "11        94122\n",
       "12        94110\n",
       "13        94115\n",
       "14        94104\n",
       "15        94104\n",
       "16        94117\n",
       "17        94117\n",
       "18        94107\n",
       "19        94110\n",
       "20        94133\n",
       "21        94108\n",
       "22        94108\n",
       "23        94102\n",
       "24        94108\n",
       "25        94111\n",
       "26        94108\n",
       "27        94133\n",
       "28        94133\n",
       "29        94111\n",
       "         ...   \n",
       "6285    MISSING\n",
       "6286      94111\n",
       "6287      94104\n",
       "6288      94122\n",
       "6289      94122\n",
       "6290      94122\n",
       "6291      94158\n",
       "6292      94105\n",
       "6293      94110\n",
       "6294      94110\n",
       "6295      94110\n",
       "6296      94102\n",
       "6297      94103\n",
       "6298      94103\n",
       "6299      94103\n",
       "6300      94103\n",
       "6301      94122\n",
       "6302      94123\n",
       "6303      94116\n",
       "6304      94133\n",
       "6305      94111\n",
       "6306      94122\n",
       "6307      94110\n",
       "6308      94111\n",
       "6309      94109\n",
       "6310      94103\n",
       "6311      94127\n",
       "6312      94116\n",
       "6313      94112\n",
       "6314      94110\n",
       "Name: postal_code, Length: 6315, dtype: object"
      ]
     },
     "execution_count": 26,
     "metadata": {},
     "output_type": "execute_result"
    }
   ],
   "source": [
    "bus['postal_code'] = bus['postal_code'].fillna('MISSING')\n",
    "bus['postal_code']"
   ]
  },
  {
   "cell_type": "code",
   "execution_count": 27,
   "metadata": {
    "tags": [
     "student"
    ]
   },
   "outputs": [
    {
     "data": {
      "text/html": [
       "<div>\n",
       "<style>\n",
       "    .dataframe thead tr:only-child th {\n",
       "        text-align: right;\n",
       "    }\n",
       "\n",
       "    .dataframe thead th {\n",
       "        text-align: left;\n",
       "    }\n",
       "\n",
       "    .dataframe tbody tr th {\n",
       "        vertical-align: top;\n",
       "    }\n",
       "</style>\n",
       "<table border=\"1\" class=\"dataframe\">\n",
       "  <thead>\n",
       "    <tr style=\"text-align: right;\">\n",
       "      <th></th>\n",
       "      <th>count</th>\n",
       "    </tr>\n",
       "  </thead>\n",
       "  <tbody>\n",
       "    <tr>\n",
       "      <th>94110</th>\n",
       "      <td>585</td>\n",
       "    </tr>\n",
       "    <tr>\n",
       "      <th>94103</th>\n",
       "      <td>558</td>\n",
       "    </tr>\n",
       "    <tr>\n",
       "      <th>94102</th>\n",
       "      <td>458</td>\n",
       "    </tr>\n",
       "    <tr>\n",
       "      <th>94107</th>\n",
       "      <td>451</td>\n",
       "    </tr>\n",
       "    <tr>\n",
       "      <th>94133</th>\n",
       "      <td>417</td>\n",
       "    </tr>\n",
       "    <tr>\n",
       "      <th>94109</th>\n",
       "      <td>383</td>\n",
       "    </tr>\n",
       "    <tr>\n",
       "      <th>94111</th>\n",
       "      <td>282</td>\n",
       "    </tr>\n",
       "    <tr>\n",
       "      <th>94122</th>\n",
       "      <td>270</td>\n",
       "    </tr>\n",
       "    <tr>\n",
       "      <th>MISSING</th>\n",
       "      <td>259</td>\n",
       "    </tr>\n",
       "    <tr>\n",
       "      <th>94118</th>\n",
       "      <td>243</td>\n",
       "    </tr>\n",
       "    <tr>\n",
       "      <th>94115</th>\n",
       "      <td>238</td>\n",
       "    </tr>\n",
       "    <tr>\n",
       "      <th>94114</th>\n",
       "      <td>230</td>\n",
       "    </tr>\n",
       "    <tr>\n",
       "      <th>94105</th>\n",
       "      <td>226</td>\n",
       "    </tr>\n",
       "    <tr>\n",
       "      <th>94108</th>\n",
       "      <td>224</td>\n",
       "    </tr>\n",
       "    <tr>\n",
       "      <th>94117</th>\n",
       "      <td>197</td>\n",
       "    </tr>\n",
       "    <tr>\n",
       "      <th>94112</th>\n",
       "      <td>190</td>\n",
       "    </tr>\n",
       "    <tr>\n",
       "      <th>94123</th>\n",
       "      <td>169</td>\n",
       "    </tr>\n",
       "    <tr>\n",
       "      <th>94124</th>\n",
       "      <td>164</td>\n",
       "    </tr>\n",
       "    <tr>\n",
       "      <th>94121</th>\n",
       "      <td>161</td>\n",
       "    </tr>\n",
       "    <tr>\n",
       "      <th>94132</th>\n",
       "      <td>134</td>\n",
       "    </tr>\n",
       "    <tr>\n",
       "      <th>94104</th>\n",
       "      <td>133</td>\n",
       "    </tr>\n",
       "    <tr>\n",
       "      <th>94116</th>\n",
       "      <td>93</td>\n",
       "    </tr>\n",
       "    <tr>\n",
       "      <th>94134</th>\n",
       "      <td>74</td>\n",
       "    </tr>\n",
       "    <tr>\n",
       "      <th>94127</th>\n",
       "      <td>71</td>\n",
       "    </tr>\n",
       "    <tr>\n",
       "      <th>94131</th>\n",
       "      <td>48</td>\n",
       "    </tr>\n",
       "    <tr>\n",
       "      <th>94158</th>\n",
       "      <td>17</td>\n",
       "    </tr>\n",
       "    <tr>\n",
       "      <th>94130</th>\n",
       "      <td>8</td>\n",
       "    </tr>\n",
       "    <tr>\n",
       "      <th>94143</th>\n",
       "      <td>5</td>\n",
       "    </tr>\n",
       "    <tr>\n",
       "      <th>CA</th>\n",
       "      <td>3</td>\n",
       "    </tr>\n",
       "    <tr>\n",
       "      <th>Ca</th>\n",
       "      <td>3</td>\n",
       "    </tr>\n",
       "    <tr>\n",
       "      <th>94014</th>\n",
       "      <td>2</td>\n",
       "    </tr>\n",
       "    <tr>\n",
       "      <th>94129</th>\n",
       "      <td>2</td>\n",
       "    </tr>\n",
       "    <tr>\n",
       "      <th>94013</th>\n",
       "      <td>2</td>\n",
       "    </tr>\n",
       "    <tr>\n",
       "      <th>94101</th>\n",
       "      <td>2</td>\n",
       "    </tr>\n",
       "    <tr>\n",
       "      <th>941033148</th>\n",
       "      <td>1</td>\n",
       "    </tr>\n",
       "    <tr>\n",
       "      <th>941</th>\n",
       "      <td>1</td>\n",
       "    </tr>\n",
       "    <tr>\n",
       "      <th>92672</th>\n",
       "      <td>1</td>\n",
       "    </tr>\n",
       "    <tr>\n",
       "      <th>94602</th>\n",
       "      <td>1</td>\n",
       "    </tr>\n",
       "    <tr>\n",
       "      <th>94609</th>\n",
       "      <td>1</td>\n",
       "    </tr>\n",
       "    <tr>\n",
       "      <th>00000</th>\n",
       "      <td>1</td>\n",
       "    </tr>\n",
       "    <tr>\n",
       "      <th>94120</th>\n",
       "      <td>1</td>\n",
       "    </tr>\n",
       "    <tr>\n",
       "      <th>94188</th>\n",
       "      <td>1</td>\n",
       "    </tr>\n",
       "    <tr>\n",
       "      <th>941102019</th>\n",
       "      <td>1</td>\n",
       "    </tr>\n",
       "    <tr>\n",
       "      <th>94066</th>\n",
       "      <td>1</td>\n",
       "    </tr>\n",
       "    <tr>\n",
       "      <th>94545</th>\n",
       "      <td>1</td>\n",
       "    </tr>\n",
       "    <tr>\n",
       "      <th>94621</th>\n",
       "      <td>1</td>\n",
       "    </tr>\n",
       "    <tr>\n",
       "      <th>95105</th>\n",
       "      <td>1</td>\n",
       "    </tr>\n",
       "  </tbody>\n",
       "</table>\n",
       "</div>"
      ],
      "text/plain": [
       "           count\n",
       "94110        585\n",
       "94103        558\n",
       "94102        458\n",
       "94107        451\n",
       "94133        417\n",
       "94109        383\n",
       "94111        282\n",
       "94122        270\n",
       "MISSING      259\n",
       "94118        243\n",
       "94115        238\n",
       "94114        230\n",
       "94105        226\n",
       "94108        224\n",
       "94117        197\n",
       "94112        190\n",
       "94123        169\n",
       "94124        164\n",
       "94121        161\n",
       "94132        134\n",
       "94104        133\n",
       "94116         93\n",
       "94134         74\n",
       "94127         71\n",
       "94131         48\n",
       "94158         17\n",
       "94130          8\n",
       "94143          5\n",
       "CA             3\n",
       "Ca             3\n",
       "94014          2\n",
       "94129          2\n",
       "94013          2\n",
       "94101          2\n",
       "941033148      1\n",
       "941            1\n",
       "92672          1\n",
       "94602          1\n",
       "94609          1\n",
       "00000          1\n",
       "94120          1\n",
       "94188          1\n",
       "941102019      1\n",
       "94066          1\n",
       "94545          1\n",
       "94621          1\n",
       "95105          1"
      ]
     },
     "execution_count": 27,
     "metadata": {},
     "output_type": "execute_result"
    }
   ],
   "source": [
    "\n",
    "zip_counts = pd.DataFrame(\n",
    "    data = {'count': bus[\"postal_code\"].value_counts()},\n",
    "    index = bus['postal_code'].value_counts().index\n",
    ")\n",
    "zip_counts"
   ]
  },
  {
   "cell_type": "code",
   "execution_count": 28,
   "metadata": {},
   "outputs": [
    {
     "name": "stdout",
     "output_type": "stream",
     "text": [
      "~~~~~~~~~~~~~~~~~~~~~~~~~~~~~~~~~~~~~~~~~~~~~~~~~~~~~~~~~~~~~~~~~~~~~\n",
      "Running tests\n",
      "\n",
      "---------------------------------------------------------------------\n",
      "Test summary\n",
      "    Passed: 4\n",
      "    Failed: 0\n",
      "[ooooooooook] 100.0% passed\n",
      "\n"
     ]
    },
    {
     "data": {
      "application/javascript": [
       "IPython.notebook.save_checkpoint();"
      ],
      "text/plain": [
       "<IPython.core.display.Javascript object>"
      ]
     },
     "metadata": {},
     "output_type": "display_data"
    },
    {
     "data": {
      "application/javascript": [
       "IPython.notebook.save_notebook();"
      ],
      "text/plain": [
       "<IPython.core.display.Javascript object>"
      ]
     },
     "metadata": {},
     "output_type": "display_data"
    },
    {
     "name": "stdout",
     "output_type": "stream",
     "text": [
      "Saving notebook... Saved 'hw2.ipynb'.\n",
      "Backup... 100% complete\n",
      "Backup successful for user: mattholtzer9@berkeley.edu\n",
      "URL: https://okpy.org/cal/ds100/fa17/hw2/backups/Nk63qD\n",
      "NOTE: this is only a backup. To submit your assignment, use:\n",
      "\tpython3 ok --submit\n",
      "\n"
     ]
    }
   ],
   "source": [
    "_ = ok.grade('q03b')\n",
    "_ = ok.backup()"
   ]
  },
  {
   "cell_type": "markdown",
   "metadata": {},
   "source": [
    "We see that there are many missing values for zip code. There is also some bad data where the postal code got screwed up, e.g., there are 3 'Ca' and 3 'CA' values. Additionally, there are some extended postal codes that are 9 digits long, rather than the typical 5 digits.\n",
    "\n",
    "Let's clean up the extended zip codes by dropping the digits beyond the first 5. It's typically good practice to keep the original values when we are manipulating data and place the modified data in a new column in the DataFrame. We'll call the new column `zip_code`."
   ]
  },
  {
   "cell_type": "code",
   "execution_count": 78,
   "metadata": {},
   "outputs": [
    {
     "data": {
      "text/plain": [
       "0         94104\n",
       "1         94109\n",
       "2         94104\n",
       "3         94133\n",
       "4         94110\n",
       "5         94122\n",
       "6         94103\n",
       "7         94115\n",
       "8         94131\n",
       "9         94111\n",
       "10        94133\n",
       "11        94122\n",
       "12        94110\n",
       "13        94115\n",
       "14        94104\n",
       "15        94104\n",
       "16        94117\n",
       "17        94117\n",
       "18        94107\n",
       "19        94110\n",
       "20        94133\n",
       "21        94108\n",
       "22        94108\n",
       "23        94102\n",
       "24        94108\n",
       "25        94111\n",
       "26        94108\n",
       "27        94133\n",
       "28        94133\n",
       "29        94111\n",
       "         ...   \n",
       "6285    MISSING\n",
       "6286      94111\n",
       "6287      94104\n",
       "6288      94122\n",
       "6289      94122\n",
       "6290      94122\n",
       "6291      94158\n",
       "6292      94105\n",
       "6293      94110\n",
       "6294      94110\n",
       "6295      94110\n",
       "6296      94102\n",
       "6297      94103\n",
       "6298      94103\n",
       "6299      94103\n",
       "6300      94103\n",
       "6301      94122\n",
       "6302      94123\n",
       "6303      94116\n",
       "6304      94133\n",
       "6305      94111\n",
       "6306      94122\n",
       "6307      94110\n",
       "6308      94111\n",
       "6309      94109\n",
       "6310      94103\n",
       "6311      94127\n",
       "6312      94116\n",
       "6313      94112\n",
       "6314      94110\n",
       "Name: postal_code, Length: 6315, dtype: object"
      ]
     },
     "execution_count": 78,
     "metadata": {},
     "output_type": "execute_result"
    }
   ],
   "source": [
    "bus['postal_code']"
   ]
  },
  {
   "cell_type": "code",
   "execution_count": 29,
   "metadata": {},
   "outputs": [
    {
     "data": {
      "text/plain": [
       "94110    586\n",
       "94103    559\n",
       "94102    458\n",
       "94107    451\n",
       "94133    417\n",
       "94109    383\n",
       "94111    282\n",
       "94122    270\n",
       "MISSI    259\n",
       "94118    243\n",
       "94115    238\n",
       "94114    230\n",
       "94105    226\n",
       "94108    224\n",
       "94117    197\n",
       "94112    190\n",
       "94123    169\n",
       "94124    164\n",
       "94121    161\n",
       "94132    134\n",
       "94104    133\n",
       "94116     93\n",
       "94134     74\n",
       "94127     71\n",
       "94131     48\n",
       "94158     17\n",
       "94130      8\n",
       "94143      5\n",
       "CA         3\n",
       "Ca         3\n",
       "94129      2\n",
       "94013      2\n",
       "94101      2\n",
       "94014      2\n",
       "94188      1\n",
       "00000      1\n",
       "94066      1\n",
       "941        1\n",
       "94602      1\n",
       "94545      1\n",
       "92672      1\n",
       "94120      1\n",
       "94609      1\n",
       "94621      1\n",
       "95105      1\n",
       "Name: zip_code, dtype: int64"
      ]
     },
     "execution_count": 29,
     "metadata": {},
     "output_type": "execute_result"
    }
   ],
   "source": [
    "# Run me\n",
    "bus['zip_code'] = bus['postal_code'].str[:5]\n",
    "bus['zip_code'].value_counts(dropna=False)"
   ]
  },
  {
   "cell_type": "markdown",
   "metadata": {
    "tags": [
     "written"
    ]
   },
   "source": [
    "#### Question 3c\n",
    "\n",
    "We notice that there are still a lot of missing values!  Examine the businesses with missing zipcode values.  Pay attention to their addresses.  Are there any patterns to missing values in zip codes?\n",
    "\n",
    "**Hint:** You can use `.iloc` to look at different sections of the DataFrame."
   ]
  },
  {
   "cell_type": "code",
   "execution_count": 30,
   "metadata": {},
   "outputs": [
    {
     "data": {
      "text/plain": [
       " OFF THE GRID                               73\n",
       " APPROVED PRIVATE LOCATIONS                  8\n",
       " APPROVED LOCATIONS                          4\n",
       "428 11TH ST                                  3\n",
       " HUNTERS POINT BUILDING 110 SHIPYARD         2\n",
       "OFF THE GRID                                 2\n",
       "VARIOUS LOCATIONS                            2\n",
       " GOLDEN GATE PARK                            2\n",
       " JUSTIN HERMAN PLAZA                         2\n",
       "839 CLAY                                     1\n",
       "170 O'FARRELL ST                             1\n",
       "2826 JONES ST                                1\n",
       "5158 GEARY BLVD                              1\n",
       "681 BROADWAY ST                              1\n",
       "1355 MARKET ST                               1\n",
       "3251 20TH AVE                                1\n",
       "1099 MISSION ST                              1\n",
       "3331 24TH ST                                 1\n",
       "6314 GEARY BLVD                              1\n",
       "50 BEALE ST 105                              1\n",
       " PRIVATE PROPERTY                            1\n",
       "900 NORTH POINT ST E-204B                    1\n",
       "1717 HARRISON ST                             1\n",
       " GOLDEN GATE PARK, MUSIC CONCOURSE           1\n",
       "842 GEARY ST                                 1\n",
       "144 TAYLOR ST                                1\n",
       "3435 MISSION ST                              1\n",
       "1 FRONT ST                                   1\n",
       " MUSIC CONCOURSE IN GOLDEN GATE PARK         1\n",
       "1737 POST ST 380                             1\n",
       "                                            ..\n",
       " HAIGHT                                      1\n",
       "752 VAN NESS AVE                             1\n",
       "1 FERRY BUIILDING PL                         1\n",
       "135 04TH ST FC-3                             1\n",
       " GOLDEN GATE PARK, JFK DR.@8TH AVE           1\n",
       "4801 03RD ST                                 1\n",
       " HUNTERS POINT SHIPYARD, BLDG.#110           1\n",
       "4033 JUDAH ST                                1\n",
       "235 FRONT ST                                 1\n",
       "1001 POTRERO AVE                             1\n",
       "10 29TH ST                                   1\n",
       "3200 FILLMORE ST                             1\n",
       "63 POWELL                                    1\n",
       "1 UNITED NATIONS PL                          1\n",
       "2 EMBARCADERO CENTER  STREET LEVEL           1\n",
       "376 CASTRO ST                                1\n",
       "1009 GUERRERO ST                             1\n",
       "1301 CESAR CHAVEZ ST                         1\n",
       "550 GENE FRIENDS WAY                         1\n",
       " BEACH CHALET SOCCER FIELD PARKING LOT       1\n",
       "110 HUNTERS POINT SHIPYARD                   1\n",
       "2200 MASON ST                                1\n",
       "670 LARKIN ST                                1\n",
       "888 BRANNAN ST  1ST FLOOR                    1\n",
       "833 BRYANT ST                                1\n",
       "1801 VICENTE ST                              1\n",
       "3801 18TH ST                                 1\n",
       "550 A GENE FRIEND WAY                        1\n",
       "250 WEST PORTAL AVENUE                       1\n",
       " NW CORNER GRANT AT GEARY ST ON GRANT        1\n",
       "Name: address, Length: 170, dtype: int64"
      ]
     },
     "execution_count": 30,
     "metadata": {},
     "output_type": "execute_result"
    }
   ],
   "source": [
    "bus.loc[bus['zip_code']=='MISSI']['address'].value_counts()"
   ]
  },
  {
   "cell_type": "code",
   "execution_count": 31,
   "metadata": {
    "tags": [
     "student",
     "written"
    ]
   },
   "outputs": [
    {
     "data": {
      "text/markdown": [
       "\n",
       "\n",
       "There are 73 locations that are \"OFF THE GRID\" and several others that appear to be more temporary type locations.\n",
       "It is possible that these missing locations are more likely to be service based/food trucks than the general pop.\n",
       "\n"
      ],
      "text/plain": [
       "<IPython.core.display.Markdown object>"
      ]
     },
     "metadata": {},
     "output_type": "display_data"
    }
   ],
   "source": [
    "# Use this cell for your explorations.\n",
    "q3c_answer = r\"\"\"\n",
    "\n",
    "There are 73 locations that are \"OFF THE GRID\" and several others that appear to be more temporary type locations.\n",
    "It is possible that these missing locations are more likely to be service based/food trucks than the general pop.\n",
    "\n",
    "\"\"\"\n",
    "\n",
    "display(Markdown(q3c_answer))"
   ]
  },
  {
   "cell_type": "markdown",
   "metadata": {
    "tags": [
     "written"
    ]
   },
   "source": [
    "#### Question 3d\n",
    "\n",
    "Often times, we need to get additional information in order to understand whether or not the data are bad values or simply unusual values. With zip codes, we can use the Internet to investigate the zip codes that have only a few businesses. Investigate the restaurants at the following zip codes: *94545*, *94602*, and *94609*.  \n",
    "\n",
    "Briefly describe why these strange zip codes might be appropriate.  Where are they located and how might they relate to San Francisco?\n"
   ]
  },
  {
   "cell_type": "code",
   "execution_count": 32,
   "metadata": {},
   "outputs": [
    {
     "data": {
      "text/html": [
       "<div>\n",
       "<style>\n",
       "    .dataframe thead tr:only-child th {\n",
       "        text-align: right;\n",
       "    }\n",
       "\n",
       "    .dataframe thead th {\n",
       "        text-align: left;\n",
       "    }\n",
       "\n",
       "    .dataframe tbody tr th {\n",
       "        vertical-align: top;\n",
       "    }\n",
       "</style>\n",
       "<table border=\"1\" class=\"dataframe\">\n",
       "  <thead>\n",
       "    <tr style=\"text-align: right;\">\n",
       "      <th></th>\n",
       "      <th>business_id</th>\n",
       "      <th>name</th>\n",
       "      <th>address</th>\n",
       "      <th>city</th>\n",
       "      <th>state</th>\n",
       "      <th>postal_code</th>\n",
       "      <th>latitude</th>\n",
       "      <th>longitude</th>\n",
       "      <th>phone_number</th>\n",
       "    </tr>\n",
       "    <tr>\n",
       "      <th>zip_code</th>\n",
       "      <th></th>\n",
       "      <th></th>\n",
       "      <th></th>\n",
       "      <th></th>\n",
       "      <th></th>\n",
       "      <th></th>\n",
       "      <th></th>\n",
       "      <th></th>\n",
       "      <th></th>\n",
       "    </tr>\n",
       "  </thead>\n",
       "  <tbody>\n",
       "    <tr>\n",
       "      <th>94545</th>\n",
       "      <td>5755</td>\n",
       "      <td>J &amp; J VENDING</td>\n",
       "      <td>VARIOUS LOACATIONS (17)</td>\n",
       "      <td>San Francisco</td>\n",
       "      <td>CA</td>\n",
       "      <td>94545</td>\n",
       "      <td>NaN</td>\n",
       "      <td>NaN</td>\n",
       "      <td>+14156750910</td>\n",
       "    </tr>\n",
       "    <tr>\n",
       "      <th>94602</th>\n",
       "      <td>85459</td>\n",
       "      <td>ORBIT ROOM</td>\n",
       "      <td>1900 MARKET ST</td>\n",
       "      <td>San Francisco</td>\n",
       "      <td>CA</td>\n",
       "      <td>94602</td>\n",
       "      <td>NaN</td>\n",
       "      <td>NaN</td>\n",
       "      <td>+14153705584</td>\n",
       "    </tr>\n",
       "    <tr>\n",
       "      <th>94609</th>\n",
       "      <td>65673</td>\n",
       "      <td>DOC'S OF THE BAY</td>\n",
       "      <td>PUBLIC RIGHT OF WAY</td>\n",
       "      <td>San Francisco</td>\n",
       "      <td>CA</td>\n",
       "      <td>94609</td>\n",
       "      <td>37.834628</td>\n",
       "      <td>-122.264171</td>\n",
       "      <td>+14156883245</td>\n",
       "    </tr>\n",
       "  </tbody>\n",
       "</table>\n",
       "</div>"
      ],
      "text/plain": [
       "          business_id              name                  address  \\\n",
       "zip_code                                                           \n",
       "94545            5755     J & J VENDING  VARIOUS LOACATIONS (17)   \n",
       "94602           85459        ORBIT ROOM          1900 MARKET ST    \n",
       "94609           65673  DOC'S OF THE BAY    PUBLIC RIGHT OF WAY     \n",
       "\n",
       "                   city state postal_code   latitude   longitude  phone_number  \n",
       "zip_code                                                                        \n",
       "94545     San Francisco    CA       94545        NaN         NaN  +14156750910  \n",
       "94602     San Francisco    CA       94602        NaN         NaN  +14153705584  \n",
       "94609     San Francisco    CA       94609  37.834628 -122.264171  +14156883245  "
      ]
     },
     "execution_count": 32,
     "metadata": {},
     "output_type": "execute_result"
    }
   ],
   "source": [
    "bus.set_index('zip_code').loc[[\"94545\", \"94602\", \"94609\"]]"
   ]
  },
  {
   "cell_type": "code",
   "execution_count": 33,
   "metadata": {
    "tags": [
     "student",
     "written"
    ]
   },
   "outputs": [
    {
     "data": {
      "text/markdown": [
       "\n",
       "\n",
       "94545 - Hayward. J&J Vending is listed as having Various Locations. That is because it appears to be more of\n",
       "a service than a physical location, contracting out their services to multiple office spaces in SF. It's\n",
       "headquarters are in Hayward, which is the zip code listed.\n",
       "\n",
       "94602 - Southeast Oakland. I can't quite figure out exactly why this has an Oakland address, but I found an article\n",
       "from 2015 showing that Orbit Room had closed. I was also able to find another similarly owned establishment in Oakland\n",
       "that had closed several years prior. Regardless the 94602 number appears to be a mistake, likely having to do with\n",
       "some sort of mixup or confusion with an ownership change.\n",
       "\n",
       "94609 - Northeast Oakland. When I look up Doc's of the Bay online the location that comes up is in Oakland. It appears\n",
       "that Doc's is a food truck and has also been closed for over a year.\n",
       "\n"
      ],
      "text/plain": [
       "<IPython.core.display.Markdown object>"
      ]
     },
     "metadata": {},
     "output_type": "display_data"
    }
   ],
   "source": [
    "# Use this cell for your explorations.\n",
    "q3d_answer = r\"\"\"\n",
    "\n",
    "94545 - Hayward. J&J Vending is listed as having Various Locations. That is because it appears to be more of\n",
    "a service than a physical location, contracting out their services to multiple office spaces in SF. It's\n",
    "headquarters are in Hayward, which is the zip code listed.\n",
    "\n",
    "94602 - Southeast Oakland. I can't quite figure out exactly why this has an Oakland address, but I found an article\n",
    "from 2015 showing that Orbit Room had closed. I was also able to find another similarly owned establishment in Oakland\n",
    "that had closed several years prior. Regardless the 94602 number appears to be a mistake, likely having to do with\n",
    "some sort of mixup or confusion with an ownership change.\n",
    "\n",
    "94609 - Northeast Oakland. When I look up Doc's of the Bay online the location that comes up is in Oakland. It appears\n",
    "that Doc's is a food truck and has also been closed for over a year.\n",
    "\n",
    "\"\"\"\n",
    "\n",
    "display(Markdown(q3d_answer))"
   ]
  },
  {
   "cell_type": "markdown",
   "metadata": {},
   "source": [
    "#### Question 3e\n",
    "\n",
    "Often want to clean the data to improve our analysis. This cleaning might include changing values for a variable or dropping records.\n",
    "\n",
    "Let's correct 94602 to the more likely value based on your analysis.  Let's modify the derived field `zip_code` using `bus['zip_code'].str.replace` to replace 94602 with the correct value."
   ]
  },
  {
   "cell_type": "code",
   "execution_count": 34,
   "metadata": {
    "collapsed": true,
    "tags": [
     "student"
    ]
   },
   "outputs": [],
   "source": [
    "bus['zip_code'] = bus['zip_code'].str.replace('94602','94102')"
   ]
  },
  {
   "cell_type": "code",
   "execution_count": 35,
   "metadata": {},
   "outputs": [
    {
     "name": "stdout",
     "output_type": "stream",
     "text": [
      "~~~~~~~~~~~~~~~~~~~~~~~~~~~~~~~~~~~~~~~~~~~~~~~~~~~~~~~~~~~~~~~~~~~~~\n",
      "Running tests\n",
      "\n",
      "---------------------------------------------------------------------\n",
      "Test summary\n",
      "    Passed: 1\n",
      "    Failed: 0\n",
      "[ooooooooook] 100.0% passed\n",
      "\n"
     ]
    },
    {
     "data": {
      "application/javascript": [
       "IPython.notebook.save_checkpoint();"
      ],
      "text/plain": [
       "<IPython.core.display.Javascript object>"
      ]
     },
     "metadata": {},
     "output_type": "display_data"
    },
    {
     "data": {
      "application/javascript": [
       "IPython.notebook.save_notebook();"
      ],
      "text/plain": [
       "<IPython.core.display.Javascript object>"
      ]
     },
     "metadata": {},
     "output_type": "display_data"
    },
    {
     "name": "stdout",
     "output_type": "stream",
     "text": [
      "Saving notebook... Saved 'hw2.ipynb'.\n",
      "Backup... 100% complete\n",
      "Backup successful for user: mattholtzer9@berkeley.edu\n",
      "URL: https://okpy.org/cal/ds100/fa17/hw2/backups/OY03rY\n",
      "NOTE: this is only a backup. To submit your assignment, use:\n",
      "\tpython3 ok --submit\n",
      "\n"
     ]
    }
   ],
   "source": [
    "_ = ok.grade('q03e')\n",
    "_ = ok.backup()"
   ]
  },
  {
   "cell_type": "markdown",
   "metadata": {},
   "source": [
    "## Latitude and Longitude\n",
    "\n",
    "Another aspect of the data we want to consider is the prevalence of missing values. If many records have missing values then we might be concerned about whether the nonmissing values are represenative of the population.\n",
    "\n",
    "### Question 4\n",
    " \n",
    "Consider the longitude and latitude in the business DataFrame. \n",
    "\n",
    "#### Question 4a\n",
    "\n",
    "How many businesses are missing longitude and latitude values?"
   ]
  },
  {
   "cell_type": "code",
   "execution_count": 36,
   "metadata": {},
   "outputs": [
    {
     "data": {
      "text/html": [
       "<div>\n",
       "<style>\n",
       "    .dataframe thead tr:only-child th {\n",
       "        text-align: right;\n",
       "    }\n",
       "\n",
       "    .dataframe thead th {\n",
       "        text-align: left;\n",
       "    }\n",
       "\n",
       "    .dataframe tbody tr th {\n",
       "        vertical-align: top;\n",
       "    }\n",
       "</style>\n",
       "<table border=\"1\" class=\"dataframe\">\n",
       "  <thead>\n",
       "    <tr style=\"text-align: right;\">\n",
       "      <th></th>\n",
       "      <th>latitude</th>\n",
       "      <th>longitude</th>\n",
       "    </tr>\n",
       "  </thead>\n",
       "  <tbody>\n",
       "    <tr>\n",
       "      <th>0</th>\n",
       "      <td>37.791116</td>\n",
       "      <td>-122.403816</td>\n",
       "    </tr>\n",
       "    <tr>\n",
       "      <th>1</th>\n",
       "      <td>37.786848</td>\n",
       "      <td>-122.421547</td>\n",
       "    </tr>\n",
       "    <tr>\n",
       "      <th>2</th>\n",
       "      <td>37.792888</td>\n",
       "      <td>-122.403135</td>\n",
       "    </tr>\n",
       "    <tr>\n",
       "      <th>3</th>\n",
       "      <td>37.807155</td>\n",
       "      <td>-122.419004</td>\n",
       "    </tr>\n",
       "    <tr>\n",
       "      <th>4</th>\n",
       "      <td>37.747114</td>\n",
       "      <td>-122.413641</td>\n",
       "    </tr>\n",
       "    <tr>\n",
       "      <th>5</th>\n",
       "      <td>37.764013</td>\n",
       "      <td>-122.465749</td>\n",
       "    </tr>\n",
       "    <tr>\n",
       "      <th>6</th>\n",
       "      <td>37.771437</td>\n",
       "      <td>-122.423892</td>\n",
       "    </tr>\n",
       "    <tr>\n",
       "      <th>7</th>\n",
       "      <td>37.784626</td>\n",
       "      <td>-122.437734</td>\n",
       "    </tr>\n",
       "    <tr>\n",
       "      <th>8</th>\n",
       "      <td>37.742325</td>\n",
       "      <td>-122.426476</td>\n",
       "    </tr>\n",
       "    <tr>\n",
       "      <th>9</th>\n",
       "      <td>37.794483</td>\n",
       "      <td>-122.396584</td>\n",
       "    </tr>\n",
       "    <tr>\n",
       "      <th>10</th>\n",
       "      <td>37.808240</td>\n",
       "      <td>-122.410189</td>\n",
       "    </tr>\n",
       "    <tr>\n",
       "      <th>11</th>\n",
       "      <td>37.763578</td>\n",
       "      <td>-122.477461</td>\n",
       "    </tr>\n",
       "    <tr>\n",
       "      <th>12</th>\n",
       "      <td>37.755419</td>\n",
       "      <td>-122.419542</td>\n",
       "    </tr>\n",
       "    <tr>\n",
       "      <th>13</th>\n",
       "      <td>37.788932</td>\n",
       "      <td>-122.433895</td>\n",
       "    </tr>\n",
       "    <tr>\n",
       "      <th>14</th>\n",
       "      <td>37.792888</td>\n",
       "      <td>-122.403135</td>\n",
       "    </tr>\n",
       "    <tr>\n",
       "      <th>15</th>\n",
       "      <td>37.792888</td>\n",
       "      <td>-122.403135</td>\n",
       "    </tr>\n",
       "    <tr>\n",
       "      <th>16</th>\n",
       "      <td>37.774941</td>\n",
       "      <td>-122.452797</td>\n",
       "    </tr>\n",
       "    <tr>\n",
       "      <th>17</th>\n",
       "      <td>37.778468</td>\n",
       "      <td>-122.448484</td>\n",
       "    </tr>\n",
       "    <tr>\n",
       "      <th>18</th>\n",
       "      <td>37.765003</td>\n",
       "      <td>-122.398084</td>\n",
       "    </tr>\n",
       "    <tr>\n",
       "      <th>19</th>\n",
       "      <td>37.739207</td>\n",
       "      <td>-122.417447</td>\n",
       "    </tr>\n",
       "    <tr>\n",
       "      <th>20</th>\n",
       "      <td>37.801665</td>\n",
       "      <td>-122.412104</td>\n",
       "    </tr>\n",
       "    <tr>\n",
       "      <th>21</th>\n",
       "      <td>37.794293</td>\n",
       "      <td>-122.405967</td>\n",
       "    </tr>\n",
       "    <tr>\n",
       "      <th>22</th>\n",
       "      <td>37.794615</td>\n",
       "      <td>-122.409705</td>\n",
       "    </tr>\n",
       "    <tr>\n",
       "      <th>23</th>\n",
       "      <td>37.788484</td>\n",
       "      <td>-122.410045</td>\n",
       "    </tr>\n",
       "    <tr>\n",
       "      <th>24</th>\n",
       "      <td>37.790868</td>\n",
       "      <td>-122.410854</td>\n",
       "    </tr>\n",
       "    <tr>\n",
       "      <th>25</th>\n",
       "      <td>37.793874</td>\n",
       "      <td>-122.396464</td>\n",
       "    </tr>\n",
       "    <tr>\n",
       "      <th>26</th>\n",
       "      <td>37.790643</td>\n",
       "      <td>-122.404676</td>\n",
       "    </tr>\n",
       "    <tr>\n",
       "      <th>27</th>\n",
       "      <td>37.798233</td>\n",
       "      <td>-122.403637</td>\n",
       "    </tr>\n",
       "    <tr>\n",
       "      <th>28</th>\n",
       "      <td>37.797708</td>\n",
       "      <td>-122.408413</td>\n",
       "    </tr>\n",
       "    <tr>\n",
       "      <th>29</th>\n",
       "      <td>37.797668</td>\n",
       "      <td>-122.401125</td>\n",
       "    </tr>\n",
       "    <tr>\n",
       "      <th>...</th>\n",
       "      <td>...</td>\n",
       "      <td>...</td>\n",
       "    </tr>\n",
       "    <tr>\n",
       "      <th>6285</th>\n",
       "      <td>NaN</td>\n",
       "      <td>NaN</td>\n",
       "    </tr>\n",
       "    <tr>\n",
       "      <th>6286</th>\n",
       "      <td>NaN</td>\n",
       "      <td>NaN</td>\n",
       "    </tr>\n",
       "    <tr>\n",
       "      <th>6287</th>\n",
       "      <td>NaN</td>\n",
       "      <td>NaN</td>\n",
       "    </tr>\n",
       "    <tr>\n",
       "      <th>6288</th>\n",
       "      <td>NaN</td>\n",
       "      <td>NaN</td>\n",
       "    </tr>\n",
       "    <tr>\n",
       "      <th>6289</th>\n",
       "      <td>NaN</td>\n",
       "      <td>NaN</td>\n",
       "    </tr>\n",
       "    <tr>\n",
       "      <th>6290</th>\n",
       "      <td>NaN</td>\n",
       "      <td>NaN</td>\n",
       "    </tr>\n",
       "    <tr>\n",
       "      <th>6291</th>\n",
       "      <td>NaN</td>\n",
       "      <td>NaN</td>\n",
       "    </tr>\n",
       "    <tr>\n",
       "      <th>6292</th>\n",
       "      <td>NaN</td>\n",
       "      <td>NaN</td>\n",
       "    </tr>\n",
       "    <tr>\n",
       "      <th>6293</th>\n",
       "      <td>NaN</td>\n",
       "      <td>NaN</td>\n",
       "    </tr>\n",
       "    <tr>\n",
       "      <th>6294</th>\n",
       "      <td>NaN</td>\n",
       "      <td>NaN</td>\n",
       "    </tr>\n",
       "    <tr>\n",
       "      <th>6295</th>\n",
       "      <td>NaN</td>\n",
       "      <td>NaN</td>\n",
       "    </tr>\n",
       "    <tr>\n",
       "      <th>6296</th>\n",
       "      <td>NaN</td>\n",
       "      <td>NaN</td>\n",
       "    </tr>\n",
       "    <tr>\n",
       "      <th>6297</th>\n",
       "      <td>NaN</td>\n",
       "      <td>NaN</td>\n",
       "    </tr>\n",
       "    <tr>\n",
       "      <th>6298</th>\n",
       "      <td>NaN</td>\n",
       "      <td>NaN</td>\n",
       "    </tr>\n",
       "    <tr>\n",
       "      <th>6299</th>\n",
       "      <td>NaN</td>\n",
       "      <td>NaN</td>\n",
       "    </tr>\n",
       "    <tr>\n",
       "      <th>6300</th>\n",
       "      <td>NaN</td>\n",
       "      <td>NaN</td>\n",
       "    </tr>\n",
       "    <tr>\n",
       "      <th>6301</th>\n",
       "      <td>NaN</td>\n",
       "      <td>NaN</td>\n",
       "    </tr>\n",
       "    <tr>\n",
       "      <th>6302</th>\n",
       "      <td>NaN</td>\n",
       "      <td>NaN</td>\n",
       "    </tr>\n",
       "    <tr>\n",
       "      <th>6303</th>\n",
       "      <td>NaN</td>\n",
       "      <td>NaN</td>\n",
       "    </tr>\n",
       "    <tr>\n",
       "      <th>6304</th>\n",
       "      <td>NaN</td>\n",
       "      <td>NaN</td>\n",
       "    </tr>\n",
       "    <tr>\n",
       "      <th>6305</th>\n",
       "      <td>NaN</td>\n",
       "      <td>NaN</td>\n",
       "    </tr>\n",
       "    <tr>\n",
       "      <th>6306</th>\n",
       "      <td>NaN</td>\n",
       "      <td>NaN</td>\n",
       "    </tr>\n",
       "    <tr>\n",
       "      <th>6307</th>\n",
       "      <td>NaN</td>\n",
       "      <td>NaN</td>\n",
       "    </tr>\n",
       "    <tr>\n",
       "      <th>6308</th>\n",
       "      <td>NaN</td>\n",
       "      <td>NaN</td>\n",
       "    </tr>\n",
       "    <tr>\n",
       "      <th>6309</th>\n",
       "      <td>NaN</td>\n",
       "      <td>NaN</td>\n",
       "    </tr>\n",
       "    <tr>\n",
       "      <th>6310</th>\n",
       "      <td>NaN</td>\n",
       "      <td>NaN</td>\n",
       "    </tr>\n",
       "    <tr>\n",
       "      <th>6311</th>\n",
       "      <td>NaN</td>\n",
       "      <td>NaN</td>\n",
       "    </tr>\n",
       "    <tr>\n",
       "      <th>6312</th>\n",
       "      <td>NaN</td>\n",
       "      <td>NaN</td>\n",
       "    </tr>\n",
       "    <tr>\n",
       "      <th>6313</th>\n",
       "      <td>NaN</td>\n",
       "      <td>NaN</td>\n",
       "    </tr>\n",
       "    <tr>\n",
       "      <th>6314</th>\n",
       "      <td>NaN</td>\n",
       "      <td>NaN</td>\n",
       "    </tr>\n",
       "  </tbody>\n",
       "</table>\n",
       "<p>6315 rows × 2 columns</p>\n",
       "</div>"
      ],
      "text/plain": [
       "       latitude   longitude\n",
       "0     37.791116 -122.403816\n",
       "1     37.786848 -122.421547\n",
       "2     37.792888 -122.403135\n",
       "3     37.807155 -122.419004\n",
       "4     37.747114 -122.413641\n",
       "5     37.764013 -122.465749\n",
       "6     37.771437 -122.423892\n",
       "7     37.784626 -122.437734\n",
       "8     37.742325 -122.426476\n",
       "9     37.794483 -122.396584\n",
       "10    37.808240 -122.410189\n",
       "11    37.763578 -122.477461\n",
       "12    37.755419 -122.419542\n",
       "13    37.788932 -122.433895\n",
       "14    37.792888 -122.403135\n",
       "15    37.792888 -122.403135\n",
       "16    37.774941 -122.452797\n",
       "17    37.778468 -122.448484\n",
       "18    37.765003 -122.398084\n",
       "19    37.739207 -122.417447\n",
       "20    37.801665 -122.412104\n",
       "21    37.794293 -122.405967\n",
       "22    37.794615 -122.409705\n",
       "23    37.788484 -122.410045\n",
       "24    37.790868 -122.410854\n",
       "25    37.793874 -122.396464\n",
       "26    37.790643 -122.404676\n",
       "27    37.798233 -122.403637\n",
       "28    37.797708 -122.408413\n",
       "29    37.797668 -122.401125\n",
       "...         ...         ...\n",
       "6285        NaN         NaN\n",
       "6286        NaN         NaN\n",
       "6287        NaN         NaN\n",
       "6288        NaN         NaN\n",
       "6289        NaN         NaN\n",
       "6290        NaN         NaN\n",
       "6291        NaN         NaN\n",
       "6292        NaN         NaN\n",
       "6293        NaN         NaN\n",
       "6294        NaN         NaN\n",
       "6295        NaN         NaN\n",
       "6296        NaN         NaN\n",
       "6297        NaN         NaN\n",
       "6298        NaN         NaN\n",
       "6299        NaN         NaN\n",
       "6300        NaN         NaN\n",
       "6301        NaN         NaN\n",
       "6302        NaN         NaN\n",
       "6303        NaN         NaN\n",
       "6304        NaN         NaN\n",
       "6305        NaN         NaN\n",
       "6306        NaN         NaN\n",
       "6307        NaN         NaN\n",
       "6308        NaN         NaN\n",
       "6309        NaN         NaN\n",
       "6310        NaN         NaN\n",
       "6311        NaN         NaN\n",
       "6312        NaN         NaN\n",
       "6313        NaN         NaN\n",
       "6314        NaN         NaN\n",
       "\n",
       "[6315 rows x 2 columns]"
      ]
     },
     "execution_count": 36,
     "metadata": {},
     "output_type": "execute_result"
    }
   ],
   "source": [
    "bus[['latitude', 'longitude']]"
   ]
  },
  {
   "cell_type": "code",
   "execution_count": 37,
   "metadata": {
    "tags": [
     "student"
    ]
   },
   "outputs": [
    {
     "data": {
      "text/plain": [
       "2716"
      ]
     },
     "execution_count": 37,
     "metadata": {},
     "output_type": "execute_result"
    }
   ],
   "source": [
    "missing_latlongs = len(bus)-len(bus[['latitude', 'longitude']].dropna())\n",
    "missing_latlongs"
   ]
  },
  {
   "cell_type": "code",
   "execution_count": 38,
   "metadata": {},
   "outputs": [
    {
     "name": "stdout",
     "output_type": "stream",
     "text": [
      "~~~~~~~~~~~~~~~~~~~~~~~~~~~~~~~~~~~~~~~~~~~~~~~~~~~~~~~~~~~~~~~~~~~~~\n",
      "Running tests\n",
      "\n",
      "---------------------------------------------------------------------\n",
      "Test summary\n",
      "    Passed: 1\n",
      "    Failed: 0\n",
      "[ooooooooook] 100.0% passed\n",
      "\n"
     ]
    },
    {
     "data": {
      "application/javascript": [
       "IPython.notebook.save_checkpoint();"
      ],
      "text/plain": [
       "<IPython.core.display.Javascript object>"
      ]
     },
     "metadata": {},
     "output_type": "display_data"
    },
    {
     "data": {
      "application/javascript": [
       "IPython.notebook.save_notebook();"
      ],
      "text/plain": [
       "<IPython.core.display.Javascript object>"
      ]
     },
     "metadata": {},
     "output_type": "display_data"
    },
    {
     "name": "stdout",
     "output_type": "stream",
     "text": [
      "Saving notebook... Saved 'hw2.ipynb'.\n",
      "Backup... 100% complete\n",
      "Backup successful for user: mattholtzer9@berkeley.edu\n",
      "URL: https://okpy.org/cal/ds100/fa17/hw2/backups/PNV3v1\n",
      "NOTE: this is only a backup. To submit your assignment, use:\n",
      "\tpython3 ok --submit\n",
      "\n"
     ]
    }
   ],
   "source": [
    "_ = ok.grade('q04a')\n",
    "_ = ok.backup()"
   ]
  },
  {
   "cell_type": "markdown",
   "metadata": {
    "collapsed": true
   },
   "source": [
    "Do some zip codes have more than their fair share of missing lat/lon values?\n",
    "\n",
    "Let's reduce our comparison to just those zips that are in SF and that have many businesses. Below is a list of zip codes."
   ]
  },
  {
   "cell_type": "code",
   "execution_count": 39,
   "metadata": {
    "collapsed": true
   },
   "outputs": [],
   "source": [
    "validZip = [\"94102\", \"94103\", \"94104\", \"94105\", \"94107\", \"94108\",\n",
    "            \"94109\", \"94110\", \"94111\", \"94112\", \"94114\", \"94115\",\n",
    "            \"94116\", \"94117\", \"94118\", \"94121\", \"94122\", \"94123\", \n",
    "            \"94124\", \"94127\", \"94131\", \"94132\", \"94133\", \"94134\"]"
   ]
  },
  {
   "cell_type": "markdown",
   "metadata": {},
   "source": [
    "#### Question 4b\n",
    "\n",
    "For these zip codes find the number of businesses in each zip code and the number without longitude values. Do any zip codes appear to have more than their 'fair share' of missing longitude? To answer this, you will want to compare the proportion of missing values for each zip code.\n",
    "\n",
    "Create a new dataframe of counts of the null and proportion of null values, storing the result in `bus_sf_latlong`. It should have 3 columns:\n",
    "\n",
    "1. `zip_code`: Contains the zip codes in the `validZip` variable above.\n",
    "2. `null_lon`: The number of missing values for the zip code.\n",
    "3. `not_null_lon`: The proportion of present values for the zip code."
   ]
  },
  {
   "cell_type": "code",
   "execution_count": 173,
   "metadata": {},
   "outputs": [
    {
     "data": {
      "text/html": [
       "<div>\n",
       "<style>\n",
       "    .dataframe thead tr:only-child th {\n",
       "        text-align: right;\n",
       "    }\n",
       "\n",
       "    .dataframe thead th {\n",
       "        text-align: left;\n",
       "    }\n",
       "\n",
       "    .dataframe tbody tr th {\n",
       "        vertical-align: top;\n",
       "    }\n",
       "</style>\n",
       "<table border=\"1\" class=\"dataframe\">\n",
       "  <thead>\n",
       "    <tr style=\"text-align: right;\">\n",
       "      <th></th>\n",
       "      <th></th>\n",
       "      <th>business_id</th>\n",
       "      <th>latitude</th>\n",
       "    </tr>\n",
       "    <tr>\n",
       "      <th>zip_code</th>\n",
       "      <th>longitude</th>\n",
       "      <th></th>\n",
       "      <th></th>\n",
       "    </tr>\n",
       "  </thead>\n",
       "  <tbody>\n",
       "    <tr>\n",
       "      <th rowspan=\"5\" valign=\"top\">94102</th>\n",
       "      <th>-122.429927</th>\n",
       "      <td>2538</td>\n",
       "      <td>37.772163</td>\n",
       "    </tr>\n",
       "    <tr>\n",
       "      <th>-122.428627</th>\n",
       "      <td>4893</td>\n",
       "      <td>37.772323</td>\n",
       "    </tr>\n",
       "    <tr>\n",
       "      <th>-122.427744</th>\n",
       "      <td>7653</td>\n",
       "      <td>37.776298</td>\n",
       "    </tr>\n",
       "    <tr>\n",
       "      <th>-122.426446</th>\n",
       "      <td>5175</td>\n",
       "      <td>37.776504</td>\n",
       "    </tr>\n",
       "    <tr>\n",
       "      <th>-122.426292</th>\n",
       "      <td>17612</td>\n",
       "      <td>37.776955</td>\n",
       "    </tr>\n",
       "  </tbody>\n",
       "</table>\n",
       "</div>"
      ],
      "text/plain": [
       "                      business_id   latitude\n",
       "zip_code longitude                          \n",
       "94102    -122.429927         2538  37.772163\n",
       "         -122.428627         4893  37.772323\n",
       "         -122.427744         7653  37.776298\n",
       "         -122.426446         5175  37.776504\n",
       "         -122.426292        17612  37.776955"
      ]
     },
     "execution_count": 173,
     "metadata": {},
     "output_type": "execute_result"
    }
   ],
   "source": [
    "bus_sf = bus.loc[bus['zip_code'].isin(validZip)]\n",
    "bus_sf.groupby(['zip_code', 'longitude']).sum().head()"
   ]
  },
  {
   "cell_type": "code",
   "execution_count": 202,
   "metadata": {},
   "outputs": [
    {
     "name": "stderr",
     "output_type": "stream",
     "text": [
      "/Users/matt/anaconda/lib/python3.6/site-packages/ipykernel_launcher.py:1: SettingWithCopyWarning: \n",
      "A value is trying to be set on a copy of a slice from a DataFrame.\n",
      "Try using .loc[row_indexer,col_indexer] = value instead\n",
      "\n",
      "See the caveats in the documentation: http://pandas.pydata.org/pandas-docs/stable/indexing.html#indexing-view-versus-copy\n",
      "  \"\"\"Entry point for launching an IPython kernel.\n"
     ]
    },
    {
     "data": {
      "text/plain": [
       "zip_code  longitude\n",
       "94102     MISSING      197\n",
       "94103     MISSING      253\n",
       "94104     MISSING       59\n",
       "94105     MISSING      100\n",
       "94107     MISSING      247\n",
       "94108     MISSING       82\n",
       "94109     MISSING      146\n",
       "94110     MISSING      251\n",
       "94111     MISSING      115\n",
       "94112     MISSING       59\n",
       "94114     MISSING      108\n",
       "94115     MISSING       76\n",
       "94116     MISSING       35\n",
       "94117     MISSING       67\n",
       "94118     MISSING      100\n",
       "94121     MISSING       55\n",
       "94122     MISSING      123\n",
       "94123     MISSING       53\n",
       "94124     MISSING       88\n",
       "94127     MISSING       28\n",
       "94131     MISSING       14\n",
       "94132     MISSING       65\n",
       "94133     MISSING      135\n",
       "94134     MISSING       29\n",
       "dtype: int64"
      ]
     },
     "execution_count": 202,
     "metadata": {},
     "output_type": "execute_result"
    }
   ],
   "source": [
    "bus_sf['longitude'] = bus_sf['longitude'].fillna('MISSING')\n",
    "miss = bus_sf.loc[bus_sf['longitude']=='MISSING']\n",
    "miss.groupby(['zip_code', 'longitude'], as_index = False).size()\n"
   ]
  },
  {
   "cell_type": "code",
   "execution_count": 187,
   "metadata": {},
   "outputs": [
    {
     "data": {
      "text/plain": [
       "zip_code\n",
       "94102    459\n",
       "94103    559\n",
       "94104    133\n",
       "94105    226\n",
       "94107    451\n",
       "94108    224\n",
       "94109    383\n",
       "94110    586\n",
       "94111    282\n",
       "94112    190\n",
       "94114    230\n",
       "94115    238\n",
       "94116     93\n",
       "94117    197\n",
       "94118    243\n",
       "94121    161\n",
       "94122    270\n",
       "94123    169\n",
       "94124    164\n",
       "94127     71\n",
       "94131     48\n",
       "94132    134\n",
       "94133    417\n",
       "94134     74\n",
       "dtype: int64"
      ]
     },
     "execution_count": 187,
     "metadata": {},
     "output_type": "execute_result"
    }
   ],
   "source": [
    "bus_sf.groupby('zip_code').size()"
   ]
  },
  {
   "cell_type": "code",
   "execution_count": 190,
   "metadata": {},
   "outputs": [
    {
     "data": {
      "text/plain": [
       "zip_code  longitude\n",
       "94102     MISSING      0.570806\n",
       "94103     MISSING      0.547406\n",
       "94104     MISSING      0.556391\n",
       "94105     MISSING      0.557522\n",
       "94107     MISSING      0.452328\n",
       "94108     MISSING      0.633929\n",
       "94109     MISSING      0.618799\n",
       "94110     MISSING      0.571672\n",
       "94111     MISSING      0.592199\n",
       "94112     MISSING      0.689474\n",
       "94114     MISSING      0.530435\n",
       "94115     MISSING      0.680672\n",
       "94116     MISSING      0.623656\n",
       "94117     MISSING      0.659898\n",
       "94118     MISSING      0.588477\n",
       "94121     MISSING      0.658385\n",
       "94122     MISSING      0.544444\n",
       "94123     MISSING      0.686391\n",
       "94124     MISSING      0.463415\n",
       "94127     MISSING      0.605634\n",
       "94131     MISSING      0.708333\n",
       "94132     MISSING      0.514925\n",
       "94133     MISSING      0.676259\n",
       "94134     MISSING      0.608108\n",
       "dtype: float64"
      ]
     },
     "execution_count": 190,
     "metadata": {},
     "output_type": "execute_result"
    }
   ],
   "source": []
  },
  {
   "cell_type": "code",
   "execution_count": 220,
   "metadata": {
    "tags": [
     "student"
    ]
   },
   "outputs": [],
   "source": [
    "\n",
    "# You might want to filter the bus dataframe to contain only the validZip\n",
    "bus_sf = bus.loc[bus['zip_code'].isin(validZip)]\n",
    "\n",
    "# Create a new dataframe of counts of the null and proportion of null values\n",
    "bus_sf_latlong = pd.DataFrame(\n",
    "    data = {\"zip_code\": validZip,\n",
    "            \"null_lon\": miss.groupby(['zip_code', 'longitude'], as_index = False).size(),\n",
    "            \"not_null_lon\": (1-(miss.groupby(['zip_code', 'longitude']).size()/bus_sf.groupby('zip_code').size()))}\n",
    ")\n"
   ]
  },
  {
   "cell_type": "code",
   "execution_count": null,
   "metadata": {},
   "outputs": [],
   "source": []
  },
  {
   "cell_type": "code",
   "execution_count": 224,
   "metadata": {},
   "outputs": [
    {
     "name": "stdout",
     "output_type": "stream",
     "text": [
      "~~~~~~~~~~~~~~~~~~~~~~~~~~~~~~~~~~~~~~~~~~~~~~~~~~~~~~~~~~~~~~~~~~~~~\n",
      "Running tests\n",
      "\n",
      "---------------------------------------------------------------------\n",
      "Test summary\n",
      "    Passed: 1\n",
      "    Failed: 0\n",
      "[ooooooooook] 100.0% passed\n",
      "\n"
     ]
    },
    {
     "data": {
      "application/javascript": [
       "IPython.notebook.save_checkpoint();"
      ],
      "text/plain": [
       "<IPython.core.display.Javascript object>"
      ]
     },
     "metadata": {},
     "output_type": "display_data"
    },
    {
     "data": {
      "application/javascript": [
       "IPython.notebook.save_notebook();"
      ],
      "text/plain": [
       "<IPython.core.display.Javascript object>"
      ]
     },
     "metadata": {},
     "output_type": "display_data"
    },
    {
     "name": "stdout",
     "output_type": "stream",
     "text": [
      "Saving notebook... Saved 'hw2.ipynb'.\n",
      "Submit... 100% complete\n",
      "Submission successful for user: mattholtzer9@berkeley.edu\n",
      "URL: https://okpy.org/cal/ds100/fa17/hw2/submissions/ERVzYl\n",
      "NOTE: this is only a backup. To submit your assignment, use:\n",
      "\tpython3 ok --submit\n",
      "\n"
     ]
    }
   ],
   "source": [
    "_ = ok.grade('q04b')\n",
    "_ = ok.backup()"
   ]
  },
  {
   "cell_type": "markdown",
   "metadata": {},
   "source": [
    "## Summary of the business data\n",
    "\n",
    "Before we move on to explore the other data, let's take stock of what we have learned and the implications of our findings on future analysis. \n",
    "\n",
    "* We found that the business id is unique across records and so we may be able to use it as a key in joining tables. \n",
    "* We also found that there are some bad values in zip code. As a result, we may want to drop the records with zip codes outside of San Francisco or to treat them differently. For some of the bad values, we may want to take the time to look up the restaurant address online and fix these errors.   \n",
    "* We also found that there are many missing values in latitude and longitude. These may have implications on map making and geographic patterns if the missingness is related to location or restaurant score."
   ]
  },
  {
   "cell_type": "markdown",
   "metadata": {},
   "source": [
    "# Investigate the inspection data\n",
    "\n",
    "Let's now turn to the inspection DataFrame. Earlier, we found that `ins` has 4 columns, these are named `business_id`, `score`, `date` and `type`.  In this section, we determine the granularity of `ins` and investigate the kinds of information provided for the inspections. \n",
    "\n",
    "### Question 5\n",
    "\n",
    "#### Question 5a\n",
    "As with the business data, assess whether there is one inspection record for each business. "
   ]
  },
  {
   "cell_type": "code",
   "execution_count": 47,
   "metadata": {
    "collapsed": true,
    "tags": [
     "student"
    ]
   },
   "outputs": [],
   "source": [
    "# The number of rows in ins\n",
    "rows_in_table = len(ins)\n",
    "\n",
    "# The number of unique IDs in ins.\n",
    "unique_ins_ids = len(ins[\"business_id\"].value_counts())\n",
    "\n",
    "# What does this tell you?"
   ]
  },
  {
   "cell_type": "code",
   "execution_count": 48,
   "metadata": {},
   "outputs": [
    {
     "name": "stdout",
     "output_type": "stream",
     "text": [
      "~~~~~~~~~~~~~~~~~~~~~~~~~~~~~~~~~~~~~~~~~~~~~~~~~~~~~~~~~~~~~~~~~~~~~\n",
      "Running tests\n",
      "\n",
      "---------------------------------------------------------------------\n",
      "Test summary\n",
      "    Passed: 1\n",
      "    Failed: 0\n",
      "[ooooooooook] 100.0% passed\n",
      "\n"
     ]
    },
    {
     "data": {
      "application/javascript": [
       "IPython.notebook.save_checkpoint();"
      ],
      "text/plain": [
       "<IPython.core.display.Javascript object>"
      ]
     },
     "metadata": {},
     "output_type": "display_data"
    },
    {
     "data": {
      "application/javascript": [
       "IPython.notebook.save_notebook();"
      ],
      "text/plain": [
       "<IPython.core.display.Javascript object>"
      ]
     },
     "metadata": {},
     "output_type": "display_data"
    },
    {
     "name": "stdout",
     "output_type": "stream",
     "text": [
      "Saving notebook... Saved 'hw2.ipynb'.\n",
      "Backup... 100% complete\n",
      "Backup successful for user: mattholtzer9@berkeley.edu\n",
      "URL: https://okpy.org/cal/ds100/fa17/hw2/backups/mZ9vJ9\n",
      "NOTE: this is only a backup. To submit your assignment, use:\n",
      "\tpython3 ok --submit\n",
      "\n"
     ]
    }
   ],
   "source": [
    "_ = ok.grade('q05a')\n",
    "_ = ok.backup()"
   ]
  },
  {
   "cell_type": "markdown",
   "metadata": {},
   "source": [
    "#### Question 5b\n",
    "\n",
    "Next, we examine the `type` variable. From examining the first few rows of `ins`, we see that `type` is a string and one of the values in the string is 'routine', presumably for a routine inspection. What values does `type` take on? How many occurrences of each value is in the DataFrame? What are the implications for further analysis?"
   ]
  },
  {
   "cell_type": "code",
   "execution_count": 49,
   "metadata": {
    "tags": [
     "student"
    ]
   },
   "outputs": [
    {
     "data": {
      "text/plain": [
       "routine      15429\n",
       "complaint        1\n",
       "Name: type, dtype: int64"
      ]
     },
     "execution_count": 49,
     "metadata": {},
     "output_type": "execute_result"
    }
   ],
   "source": [
    "# use this cell for scratch work\n",
    "# \n",
    "\n",
    "ins['type'].value_counts()"
   ]
  },
  {
   "cell_type": "code",
   "execution_count": 50,
   "metadata": {
    "tags": [
     "student",
     "written"
    ]
   },
   "outputs": [
    {
     "data": {
      "text/markdown": [
       "\n",
       "\n",
       "There are two different values in type, routine and complaint. There are 15,429 instances of routine and 1 of complaint.\n",
       "For our analysis this likely means that there won't be very much we are going to learn about routine vs complaint or\n",
       "complaint inspections at all since there isn't enough for extrapolation. \n",
       "\n"
      ],
      "text/plain": [
       "<IPython.core.display.Markdown object>"
      ]
     },
     "metadata": {},
     "output_type": "display_data"
    }
   ],
   "source": [
    "q5b_answer = r\"\"\"\n",
    "\n",
    "There are two different values in type, routine and complaint. There are 15,429 instances of routine and 1 of complaint.\n",
    "For our analysis this likely means that there won't be very much we are going to learn about routine vs complaint or\n",
    "complaint inspections at all since there isn't enough for extrapolation. \n",
    "\n",
    "\"\"\"\n",
    "\n",
    "display(Markdown(q5b_answer))"
   ]
  },
  {
   "cell_type": "markdown",
   "metadata": {},
   "source": [
    "#### Question 5c\n",
    "\n",
    "Since the data was stored in a .csv file, the dates are formatted as strings such as `20160503`. Once we read in the data, we would like to have dates in an appropriate format for analsysis. Add a new column called `new_date` which formats the `date` into a datetime object. Then add a column called `year` with only the year.\n",
    "\n",
    "*Hint: You'll want to use the `pd.datetime` functionality at some point.*"
   ]
  },
  {
   "cell_type": "code",
   "execution_count": 51,
   "metadata": {
    "collapsed": true
   },
   "outputs": [],
   "source": [
    "pd.datetime?"
   ]
  },
  {
   "cell_type": "code",
   "execution_count": 54,
   "metadata": {
    "collapsed": true
   },
   "outputs": [],
   "source": [
    "ins['date'].str?"
   ]
  },
  {
   "cell_type": "code",
   "execution_count": 86,
   "metadata": {
    "collapsed": true
   },
   "outputs": [],
   "source": [
    "pd.to_datetime?"
   ]
  },
  {
   "cell_type": "code",
   "execution_count": 87,
   "metadata": {},
   "outputs": [
    {
     "data": {
      "text/plain": [
       "0        20160503\n",
       "1        20140729\n",
       "2        20140114\n",
       "3        20160513\n",
       "4        20141110\n",
       "5        20140214\n",
       "6        20161005\n",
       "7        20160311\n",
       "8        20141124\n",
       "9        20140612\n",
       "10       20160816\n",
       "11       20151204\n",
       "12       20140908\n",
       "13       20160614\n",
       "14       20160104\n",
       "15       20140909\n",
       "16       20160630\n",
       "17       20140523\n",
       "18       20160614\n",
       "19       20140402\n",
       "20       20150526\n",
       "21       20140325\n",
       "22       20160802\n",
       "23       20151222\n",
       "24       20141117\n",
       "25       20140423\n",
       "26       20160407\n",
       "27       20140725\n",
       "28       20160708\n",
       "29       20150827\n",
       "           ...   \n",
       "15400    20160817\n",
       "15401    20160819\n",
       "15402    20161009\n",
       "15403    20161013\n",
       "15404    20161018\n",
       "15405    20160819\n",
       "15406    20160909\n",
       "15407    20160831\n",
       "15408    20161223\n",
       "15409    20160829\n",
       "15410    20161221\n",
       "15411    20160922\n",
       "15412    20161019\n",
       "15413    20161027\n",
       "15414    20160912\n",
       "15415    20160912\n",
       "15416    20160912\n",
       "15417    20161011\n",
       "15418    20160912\n",
       "15419    20160930\n",
       "15420    20161206\n",
       "15421    20161019\n",
       "15422    20160929\n",
       "15423    20161130\n",
       "15424    20161008\n",
       "15425    20161103\n",
       "15426    20161206\n",
       "15427    20161129\n",
       "15428    20161215\n",
       "15429    20161206\n",
       "Name: date, Length: 15430, dtype: int64"
      ]
     },
     "execution_count": 87,
     "metadata": {},
     "output_type": "execute_result"
    }
   ],
   "source": [
    "ins['date']"
   ]
  },
  {
   "cell_type": "code",
   "execution_count": 91,
   "metadata": {
    "tags": [
     "student"
    ]
   },
   "outputs": [],
   "source": [
    "ins['new_date'] = pd.to_datetime(ins['date'], format='%Y%m%d')\n",
    "ins['year']     = ins['new_date'].dt.year"
   ]
  },
  {
   "cell_type": "code",
   "execution_count": 92,
   "metadata": {},
   "outputs": [
    {
     "name": "stdout",
     "output_type": "stream",
     "text": [
      "~~~~~~~~~~~~~~~~~~~~~~~~~~~~~~~~~~~~~~~~~~~~~~~~~~~~~~~~~~~~~~~~~~~~~\n",
      "Running tests\n",
      "\n",
      "---------------------------------------------------------------------\n",
      "Test summary\n",
      "    Passed: 1\n",
      "    Failed: 0\n",
      "[ooooooooook] 100.0% passed\n",
      "\n"
     ]
    },
    {
     "data": {
      "application/javascript": [
       "IPython.notebook.save_checkpoint();"
      ],
      "text/plain": [
       "<IPython.core.display.Javascript object>"
      ]
     },
     "metadata": {},
     "output_type": "display_data"
    },
    {
     "data": {
      "application/javascript": [
       "IPython.notebook.save_notebook();"
      ],
      "text/plain": [
       "<IPython.core.display.Javascript object>"
      ]
     },
     "metadata": {},
     "output_type": "display_data"
    },
    {
     "name": "stdout",
     "output_type": "stream",
     "text": [
      "Saving notebook... Saved 'hw2.ipynb'.\n",
      "Backup... 100% complete\n",
      "Backup successful for user: mattholtzer9@berkeley.edu\n",
      "URL: https://okpy.org/cal/ds100/fa17/hw2/backups/82DRMW\n",
      "NOTE: this is only a backup. To submit your assignment, use:\n",
      "\tpython3 ok --submit\n",
      "\n"
     ]
    }
   ],
   "source": [
    "_ = ok.grade('q05c')\n",
    "_ = ok.backup()"
   ]
  },
  {
   "cell_type": "markdown",
   "metadata": {
    "tags": [
     "written"
    ]
   },
   "source": [
    "#### Question 5d\n",
    "\n",
    "What range of years is covered in this data set? Are there roughly same number of inspections each year?"
   ]
  },
  {
   "cell_type": "code",
   "execution_count": 95,
   "metadata": {},
   "outputs": [
    {
     "data": {
      "text/plain": [
       "2016    5840\n",
       "2014    5629\n",
       "2015    3923\n",
       "2013      38\n",
       "Name: year, dtype: int64"
      ]
     },
     "execution_count": 95,
     "metadata": {},
     "output_type": "execute_result"
    }
   ],
   "source": [
    "ins['year'].value_counts()"
   ]
  },
  {
   "cell_type": "code",
   "execution_count": 96,
   "metadata": {
    "tags": [
     "student",
     "written"
    ]
   },
   "outputs": [
    {
     "data": {
      "text/markdown": [
       "\n",
       "\n",
       "There are four years represented 2013, 2014, 2015, and 2016. There are nearly none in 2013, an almost equivalent amount\n",
       "in 2014 and 2016, and about 2/3 them in 2015.\n",
       "\n"
      ],
      "text/plain": [
       "<IPython.core.display.Markdown object>"
      ]
     },
     "metadata": {},
     "output_type": "display_data"
    }
   ],
   "source": [
    "q5d_answer = r\"\"\"\n",
    "\n",
    "There are four years represented 2013, 2014, 2015, and 2016. There are nearly none in 2013, an almost equivalent amount\n",
    "in 2014 and 2016, and about 2/3 them in 2015.\n",
    "\n",
    "\"\"\"\n",
    "\n",
    "display(Markdown(q5d_answer))"
   ]
  },
  {
   "cell_type": "markdown",
   "metadata": {},
   "source": [
    "Let's examine only the inspections for one year, 2016. This puts businesses on a more equal footing because [inspection guidelines](https://www.sfdph.org/dph/eh/Food/Inspections.asp) generally refer to how many inspections should occur in a given year."
   ]
  },
  {
   "cell_type": "code",
   "execution_count": 97,
   "metadata": {
    "collapsed": true
   },
   "outputs": [],
   "source": [
    "ins2016 = ins[ins['year']==2016]"
   ]
  },
  {
   "cell_type": "markdown",
   "metadata": {},
   "source": [
    "## Explore inspection score\n",
    "\n",
    "### Question 6\n",
    "\n",
    "#### Question 6a\n",
    "What does the distribution of inspection score for 2016 look like? The inspection scores appear to be integer values. The discreteness of this variable means that we can use a barplot to visualize the distribution of the inspection score. Find the counts of the number of inspections in 2016 for each score. Then, make a bar plot of these counts."
   ]
  },
  {
   "cell_type": "code",
   "execution_count": 98,
   "metadata": {},
   "outputs": [
    {
     "data": {
      "text/plain": [
       "100    824\n",
       "96     700\n",
       "94     527\n",
       "92     500\n",
       "90     422\n",
       "98     422\n",
       "88     246\n",
       "86     232\n",
       "87     202\n",
       "83     159\n",
       "85     155\n",
       "89     154\n",
       "91     130\n",
       "81     124\n",
       "84     118\n",
       "82     114\n",
       "93     111\n",
       "80      85\n",
       "78      76\n",
       "79      75\n",
       "77      59\n",
       "75      48\n",
       "74      47\n",
       "76      46\n",
       "72      38\n",
       "73      32\n",
       "68      31\n",
       "71      30\n",
       "70      27\n",
       "69      19\n",
       "67      19\n",
       "66      16\n",
       "65      12\n",
       "63       8\n",
       "57       6\n",
       "61       5\n",
       "62       5\n",
       "59       4\n",
       "60       3\n",
       "55       3\n",
       "64       2\n",
       "56       2\n",
       "58       1\n",
       "52       1\n",
       "Name: score, dtype: int64"
      ]
     },
     "execution_count": 98,
     "metadata": {},
     "output_type": "execute_result"
    }
   ],
   "source": [
    "ins2016['score'].value_counts()"
   ]
  },
  {
   "cell_type": "code",
   "execution_count": 100,
   "metadata": {
    "collapsed": true
   },
   "outputs": [],
   "source": [
    "plt.bar?"
   ]
  },
  {
   "cell_type": "code",
   "execution_count": 102,
   "metadata": {
    "tags": [
     "student"
    ]
   },
   "outputs": [
    {
     "data": {
      "image/png": "[encoded data removed]",
      "text/plain": [
       "<matplotlib.figure.Figure at 0x1189c67f0>"
      ]
     },
     "metadata": {},
     "output_type": "display_data"
    }
   ],
   "source": [
    "scoreCts = ins2016['score'].value_counts()\n",
    "\n",
    "plt.bar(scoreCts.index, scoreCts)\n",
    "plt.show()"
   ]
  },
  {
   "cell_type": "markdown",
   "metadata": {
    "tags": [
     "written"
    ]
   },
   "source": [
    "#### Question 6b\n",
    "\n",
    "Describe the qualities of the distribution of the inspections scores. Consider the mode(s), symmetry, tails, gaps, and anamolous values. Are there any unusual features of this distribution? What do your observation imply about the scores?"
   ]
  },
  {
   "cell_type": "code",
   "execution_count": 110,
   "metadata": {
    "tags": [
     "student",
     "written"
    ]
   },
   "outputs": [
    {
     "data": {
      "text/markdown": [
       "\n",
       "\n",
       "The mode for these scores is 100. This graph is skewed left and has an extremely long left tail and no right tail\n",
       "(the graph continues to go up until the right edge). This graph has weird gaps all over the place, but especially\n",
       "at the upper end. It appears that not every score is really attainable. Although logic would say you could score\n",
       "anywhere in the range, the outcomes seem to suggest that if you aren't getting a hundred, the best score you can get is a \n",
       "ninety six. I think the observation is that the perfect score doesn't imply perfect in the way we think and that scoring much \n",
       "below an 85 isn't equal to the way one may view getting below an 85 in school. The vast majority are getting A's or\n",
       "high B's.\n",
       "\n"
      ],
      "text/plain": [
       "<IPython.core.display.Markdown object>"
      ]
     },
     "metadata": {},
     "output_type": "display_data"
    }
   ],
   "source": [
    "q6b_answer = r\"\"\"\n",
    "\n",
    "The mode for these scores is 100. This graph is skewed left and has an extremely long left tail and no right tail\n",
    "(the graph continues to go up until the right edge). This graph has weird gaps all over the place, but especially\n",
    "at the upper end. It appears that not every score is really attainable. Although logic would say you could score\n",
    "anywhere in the range, the outcomes seem to suggest that if you aren't getting a hundred, the best score you can get is a \n",
    "ninety six. I think the observation is that the perfect score doesn't imply perfect in the way we think and that scoring much \n",
    "below an 85 isn't equal to the way one may view getting below an 85 in school. The vast majority are getting A's or\n",
    "high B's.\n",
    "\n",
    "\"\"\"\n",
    "\n",
    "display(Markdown(q6b_answer))"
   ]
  },
  {
   "cell_type": "markdown",
   "metadata": {},
   "source": [
    "#### Question 6c\n",
    "\n",
    "In assessing the granularity, we want to determine if there is one inspection per business per year. How many restaurants had two inspections? Three or more inspections? Create a dict mapping the number of inspections to the number of business ids with that many inspections.\n",
    "\n",
    "*Hint: pandas Series have a to_dict() method.*"
   ]
  },
  {
   "cell_type": "code",
   "execution_count": 111,
   "metadata": {
    "collapsed": true
   },
   "outputs": [],
   "source": [
    "ins.to_dict?"
   ]
  },
  {
   "cell_type": "code",
   "execution_count": 122,
   "metadata": {},
   "outputs": [
    {
     "data": {
      "text/plain": [
       "1    3329\n",
       "2    1131\n",
       "3      83\n",
       "Name: business_id, dtype: int64"
      ]
     },
     "execution_count": 122,
     "metadata": {},
     "output_type": "execute_result"
    }
   ],
   "source": [
    "ins2016['business_id'].value_counts().value_counts()"
   ]
  },
  {
   "cell_type": "code",
   "execution_count": 125,
   "metadata": {
    "tags": [
     "student"
    ]
   },
   "outputs": [
    {
     "data": {
      "text/plain": [
       "{1: 3329, 2: 1131, 3: 83}"
      ]
     },
     "execution_count": 125,
     "metadata": {},
     "output_type": "execute_result"
    }
   ],
   "source": [
    "temp = ins2016['business_id'].value_counts().value_counts()\n",
    "numIns2numIDs = dict(zip(temp.index, temp))\n",
    "numIns2numIDs"
   ]
  },
  {
   "cell_type": "code",
   "execution_count": 126,
   "metadata": {},
   "outputs": [
    {
     "name": "stdout",
     "output_type": "stream",
     "text": [
      "~~~~~~~~~~~~~~~~~~~~~~~~~~~~~~~~~~~~~~~~~~~~~~~~~~~~~~~~~~~~~~~~~~~~~\n",
      "Running tests\n",
      "\n",
      "---------------------------------------------------------------------\n",
      "Test summary\n",
      "    Passed: 1\n",
      "    Failed: 0\n",
      "[ooooooooook] 100.0% passed\n",
      "\n"
     ]
    },
    {
     "data": {
      "application/javascript": [
       "IPython.notebook.save_checkpoint();"
      ],
      "text/plain": [
       "<IPython.core.display.Javascript object>"
      ]
     },
     "metadata": {},
     "output_type": "display_data"
    },
    {
     "data": {
      "application/javascript": [
       "IPython.notebook.save_notebook();"
      ],
      "text/plain": [
       "<IPython.core.display.Javascript object>"
      ]
     },
     "metadata": {},
     "output_type": "display_data"
    },
    {
     "name": "stdout",
     "output_type": "stream",
     "text": [
      "Saving notebook... Saved 'hw2.ipynb'.\n",
      "Backup... 100% complete\n",
      "Backup successful for user: mattholtzer9@berkeley.edu\n",
      "URL: https://okpy.org/cal/ds100/fa17/hw2/backups/DkVmxq\n",
      "NOTE: this is only a backup. To submit your assignment, use:\n",
      "\tpython3 ok --submit\n",
      "\n"
     ]
    }
   ],
   "source": [
    "_ = ok.grade('q06c')\n",
    "_ = ok.backup()"
   ]
  },
  {
   "cell_type": "markdown",
   "metadata": {},
   "source": [
    "### Restaurants with multiple inspections\n",
    "\n",
    "### Question 7\n",
    "\n",
    "Some restaurants had 3 inspections in a calandar year, but not very many did. To examine the distribution of score among restaurants with two scores, we can look at the change in score from the first inspection.\n",
    "\n",
    "#### Question 7a\n",
    "\n",
    "What's the relationship between the first and second scores for the businesses with 2 inspections in a year? Do they typically improve?\n",
    "\n",
    "First, make a dataframe called, `scores_pairs_by_business`, indexed by business_id (containing only business with exactly 2 inspections in 2016).  This dataframe contains the field `score_pair` consisting of the score pairs ordered chronologically  `[first_score, second_score]`. \n",
    "\n",
    "Plot these scores. That is, make a scatter plot to display these pairs of scores. Include on the plot a reference line with slope 1. \n",
    "\n",
    "You may find the functions `sort_values`, `groupby`, `filter` and `agg` helpful, though not all necessary. \n",
    "\n",
    "The first few rows resulting table should look something like:\n",
    "\n",
    "<table border=\"1\" class=\"dataframe\">\n",
    "  <thead>\n",
    "    <tr style=\"text-align: right;\">\n",
    "      <th></th>\n",
    "      <th>score_pair</th>\n",
    "    </tr>\n",
    "    <tr>\n",
    "      <th>business_id</th>\n",
    "      <th></th>\n",
    "    </tr>\n",
    "  </thead>\n",
    "  <tbody>\n",
    "    <tr>\n",
    "      <th>24</th>\n",
    "      <td>[96, 98]</td>\n",
    "    </tr>\n",
    "    <tr>\n",
    "      <th>45</th>\n",
    "      <td>[78, 84]</td>\n",
    "    </tr>\n",
    "    <tr>\n",
    "      <th>66</th>\n",
    "      <td>[98, 100]</td>\n",
    "    </tr>\n",
    "    <tr>\n",
    "      <th>67</th>\n",
    "      <td>[87, 94]</td>\n",
    "    </tr>\n",
    "    <tr>\n",
    "      <th>76</th>\n",
    "      <td>[100, 98]</td>\n",
    "    </tr>\n",
    "  </tbody>\n",
    "</table>"
   ]
  },
  {
   "cell_type": "code",
   "execution_count": null,
   "metadata": {},
   "outputs": [],
   "source": [
    "ins2016['b']"
   ]
  },
  {
   "cell_type": "code",
   "execution_count": 242,
   "metadata": {},
   "outputs": [],
   "source": [
    "where2 = ins2016[ins2016['business_id'].isin(ins2016['business_id'].value_counts()[ins2016['business_id'].value_counts()==2].index)]"
   ]
  },
  {
   "cell_type": "code",
   "execution_count": 256,
   "metadata": {},
   "outputs": [],
   "source": [
    "where2 = where2.iloc[::-1]"
   ]
  },
  {
   "cell_type": "code",
   "execution_count": 276,
   "metadata": {},
   "outputs": [],
   "source": [
    "ids = where2.iloc[::-1]['business_id'].unique()"
   ]
  },
  {
   "cell_type": "code",
   "execution_count": 299,
   "metadata": {
    "tags": [
     "student"
    ]
   },
   "outputs": [
    {
     "data": {
      "text/html": [
       "<div>\n",
       "<style>\n",
       "    .dataframe thead tr:only-child th {\n",
       "        text-align: right;\n",
       "    }\n",
       "\n",
       "    .dataframe thead th {\n",
       "        text-align: left;\n",
       "    }\n",
       "\n",
       "    .dataframe tbody tr th {\n",
       "        vertical-align: top;\n",
       "    }\n",
       "</style>\n",
       "<table border=\"1\" class=\"dataframe\">\n",
       "  <thead>\n",
       "    <tr style=\"text-align: right;\">\n",
       "      <th></th>\n",
       "      <th>score_pair</th>\n",
       "    </tr>\n",
       "  </thead>\n",
       "  <tbody>\n",
       "    <tr>\n",
       "      <th>24</th>\n",
       "      <td>[96, 96]</td>\n",
       "    </tr>\n",
       "    <tr>\n",
       "      <th>45</th>\n",
       "      <td>[89, 88]</td>\n",
       "    </tr>\n",
       "    <tr>\n",
       "      <th>66</th>\n",
       "      <td>[96, 100]</td>\n",
       "    </tr>\n",
       "    <tr>\n",
       "      <th>67</th>\n",
       "      <td>[100, 98]</td>\n",
       "    </tr>\n",
       "    <tr>\n",
       "      <th>76</th>\n",
       "      <td>[82, 87]</td>\n",
       "    </tr>\n",
       "  </tbody>\n",
       "</table>\n",
       "</div>"
      ],
      "text/plain": [
       "   score_pair\n",
       "24   [96, 96]\n",
       "45   [89, 88]\n",
       "66  [96, 100]\n",
       "67  [100, 98]\n",
       "76   [82, 87]"
      ]
     },
     "execution_count": 299,
     "metadata": {},
     "output_type": "execute_result"
    }
   ],
   "source": [
    "score_pairs_by_business =  where2.groupby('business_id', as_index = False)['score'].apply(list)\n",
    "scores_pairs_by_business = pd.DataFrame(\n",
    "    data = {\n",
    "        'score_pair': score_pairs_by_business\n",
    "    },\n",
    "    index = ids.astype(int)\n",
    ")\n",
    "scores_pairs_by_business.head()"
   ]
  },
  {
   "cell_type": "code",
   "execution_count": 300,
   "metadata": {
    "collapsed": true,
    "tags": [
     "student",
     "written"
    ]
   },
   "outputs": [],
   "source": [
    "# Create scatter plot here.\n"
   ]
  },
  {
   "cell_type": "code",
   "execution_count": 301,
   "metadata": {},
   "outputs": [
    {
     "name": "stdout",
     "output_type": "stream",
     "text": [
      "~~~~~~~~~~~~~~~~~~~~~~~~~~~~~~~~~~~~~~~~~~~~~~~~~~~~~~~~~~~~~~~~~~~~~\n",
      "Running tests\n",
      "\n",
      "---------------------------------------------------------------------\n",
      "Question 7a > Suite 1 > Case 1\n",
      "\n",
      ">>> all(len(v[0])==2 for v in scores_pairs_by_business.values)\n",
      "TypeError: object of type 'float' has no len()\n",
      "\n",
      "# Error: expected\n",
      "#     True\n",
      "# but got\n",
      "#     Traceback (most recent call last):\n",
      "#       ...\n",
      "#     TypeError: object of type 'float' has no len()\n",
      "\n",
      "Run only this test case with \"python3 ok -q q07a --suite 1 --case 1\"\n",
      "---------------------------------------------------------------------\n",
      "Test summary\n",
      "    Passed: 0\n",
      "    Failed: 1\n",
      "[k..........] 0.0% passed\n",
      "\n"
     ]
    },
    {
     "data": {
      "application/javascript": [
       "IPython.notebook.save_checkpoint();"
      ],
      "text/plain": [
       "<IPython.core.display.Javascript object>"
      ]
     },
     "metadata": {},
     "output_type": "display_data"
    },
    {
     "data": {
      "application/javascript": [
       "IPython.notebook.save_notebook();"
      ],
      "text/plain": [
       "<IPython.core.display.Javascript object>"
      ]
     },
     "metadata": {},
     "output_type": "display_data"
    },
    {
     "name": "stdout",
     "output_type": "stream",
     "text": [
      "Saving notebook... Saved 'hw2.ipynb'.\n",
      "Submit... 100% complete\n",
      "Submission successful for user: mattholtzer9@berkeley.edu\n",
      "URL: https://okpy.org/cal/ds100/fa17/hw2/submissions/o2gEoz\n",
      "NOTE: this is only a backup. To submit your assignment, use:\n",
      "\tpython3 ok --submit\n",
      "\n"
     ]
    }
   ],
   "source": [
    "_ = ok.grade('q07a')\n",
    "_ = ok.backup()"
   ]
  },
  {
   "cell_type": "markdown",
   "metadata": {},
   "source": [
    "#### Question 7b\n",
    "\n",
    "Another way to compare the scores from the two inspections is to examine the difference in scores. Subtract the first score from the second in `scores_pairs_by_business`. Make a histogram of these differences in the scores. We might expect these differences to be positive, indicating an improvement from the first to the second inspection."
   ]
  },
  {
   "cell_type": "code",
   "execution_count": null,
   "metadata": {
    "collapsed": true,
    "tags": [
     "student",
     "written"
    ]
   },
   "outputs": [],
   "source": [
    "# Create histogram here."
   ]
  },
  {
   "cell_type": "markdown",
   "metadata": {},
   "source": [
    "#### Question 7c\n",
    "\n",
    "If a restaurant's score improves from the first to the second inspection, what do you expect to see in the scatter plot that you made in 7a? What do you see?\n",
    "\n",
    "If a restaurant's score improves from the first to the second inspection, how would this be reflected in the histogram of the difference in the scores that you made in 7b? What do you see?"
   ]
  },
  {
   "cell_type": "code",
   "execution_count": null,
   "metadata": {
    "collapsed": true,
    "tags": [
     "student",
     "written"
    ]
   },
   "outputs": [],
   "source": [
    "q7c_answer = r\"\"\"\n",
    "\n",
    "Put your answer here, replacing this text.\n",
    "\n",
    "\"\"\"\n",
    "\n",
    "display(Markdown(7c_answer))"
   ]
  },
  {
   "cell_type": "markdown",
   "metadata": {},
   "source": [
    "## Summary of the inspections data\n",
    "\n",
    "What we have learned about the inspections data? What might be some next steps in our investigation? \n",
    "\n",
    "* We found that the records are at the inspection level and that we have inspections for multiple years.   \n",
    "* We also found that may restaurants have more than one inspection a year. In the future, we may want to roll some of the information about the inspections up to the business/restaurant level and join the inspection information with the business dataframe. For example, we could make maps of inspection scores for restaurants.\n",
    "* We also examined the relationship between the scores when a restaurant has multiple inspections in a year. Our findings were a bit counterintuitive and we warrant further investigation. It also makes sense to learn more about the inspection process to help us understand the connections between scores from multiple inspections. \n"
   ]
  },
  {
   "cell_type": "markdown",
   "metadata": {},
   "source": [
    "# Violations Data\n",
    "\n",
    "Lastly, we will explore the `vio` data set. As with the first two DataFreames, we want to determine the granularity of the data, the number of records and fields, and we want to investigate the fields (variables). "
   ]
  },
  {
   "cell_type": "markdown",
   "metadata": {},
   "source": [
    "### Question 8\n",
    "\n",
    "#### Question 8a\n",
    "\n",
    "How many records are in `vio`? What does this tell you about the granularity of `vio` in comparison to `bus` and `ins`? "
   ]
  },
  {
   "cell_type": "code",
   "execution_count": 149,
   "metadata": {},
   "outputs": [
    {
     "data": {
      "text/plain": [
       "40936"
      ]
     },
     "execution_count": 149,
     "metadata": {},
     "output_type": "execute_result"
    }
   ],
   "source": [
    "len(vio)"
   ]
  },
  {
   "cell_type": "code",
   "execution_count": 150,
   "metadata": {},
   "outputs": [
    {
     "data": {
      "text/html": [
       "<div>\n",
       "<style>\n",
       "    .dataframe thead tr:only-child th {\n",
       "        text-align: right;\n",
       "    }\n",
       "\n",
       "    .dataframe thead th {\n",
       "        text-align: left;\n",
       "    }\n",
       "\n",
       "    .dataframe tbody tr th {\n",
       "        vertical-align: top;\n",
       "    }\n",
       "</style>\n",
       "<table border=\"1\" class=\"dataframe\">\n",
       "  <thead>\n",
       "    <tr style=\"text-align: right;\">\n",
       "      <th></th>\n",
       "      <th>business_id</th>\n",
       "      <th>date</th>\n",
       "      <th>description</th>\n",
       "    </tr>\n",
       "  </thead>\n",
       "  <tbody>\n",
       "    <tr>\n",
       "      <th>0</th>\n",
       "      <td>10</td>\n",
       "      <td>20160503</td>\n",
       "      <td>High risk food holding temperature   [ date vi...</td>\n",
       "    </tr>\n",
       "    <tr>\n",
       "      <th>1</th>\n",
       "      <td>10</td>\n",
       "      <td>20160503</td>\n",
       "      <td>High risk food holding temperature   [ date vi...</td>\n",
       "    </tr>\n",
       "    <tr>\n",
       "      <th>2</th>\n",
       "      <td>10</td>\n",
       "      <td>20160503</td>\n",
       "      <td>High risk vermin infestation</td>\n",
       "    </tr>\n",
       "    <tr>\n",
       "      <th>3</th>\n",
       "      <td>10</td>\n",
       "      <td>20160503</td>\n",
       "      <td>Unapproved or unmaintained equipment or utensils</td>\n",
       "    </tr>\n",
       "    <tr>\n",
       "      <th>4</th>\n",
       "      <td>10</td>\n",
       "      <td>20160503</td>\n",
       "      <td>No thermometers or uncalibrated thermometers</td>\n",
       "    </tr>\n",
       "  </tbody>\n",
       "</table>\n",
       "</div>"
      ],
      "text/plain": [
       "   business_id      date                                        description\n",
       "0           10  20160503  High risk food holding temperature   [ date vi...\n",
       "1           10  20160503  High risk food holding temperature   [ date vi...\n",
       "2           10  20160503                       High risk vermin infestation\n",
       "3           10  20160503   Unapproved or unmaintained equipment or utensils\n",
       "4           10  20160503      No thermometers or uncalibrated thermometers "
      ]
     },
     "execution_count": 150,
     "metadata": {},
     "output_type": "execute_result"
    }
   ],
   "source": [
    "vio.head()"
   ]
  },
  {
   "cell_type": "code",
   "execution_count": 151,
   "metadata": {
    "tags": [
     "student",
     "written"
    ]
   },
   "outputs": [
    {
     "data": {
      "text/markdown": [
       "\n",
       "\n",
       "There are 40,936 records in vio, more than the number of businesses and the number of inspections. \n",
       "This tells us that violations are more frequent and is a slightly more in depth look. Many violations occur per \n",
       "inspection and there are often many inspections per business.\n",
       "\n"
      ],
      "text/plain": [
       "<IPython.core.display.Markdown object>"
      ]
     },
     "metadata": {},
     "output_type": "display_data"
    }
   ],
   "source": [
    "q8a_answer = r\"\"\"\n",
    "\n",
    "There are 40,936 records in vio, more than the number of businesses and the number of inspections. \n",
    "This tells us that violations are more frequent and is a slightly more in depth look. Many violations occur per \n",
    "inspection and there are often many inspections per business.\n",
    "\n",
    "\"\"\"\n",
    "display(Markdown(q8a_answer))"
   ]
  },
  {
   "cell_type": "markdown",
   "metadata": {},
   "source": [
    "Let's examine the first few rows of `vio` to see if that provides addtional information about the granularity."
   ]
  },
  {
   "cell_type": "code",
   "execution_count": 152,
   "metadata": {},
   "outputs": [
    {
     "data": {
      "text/html": [
       "<div>\n",
       "<style>\n",
       "    .dataframe thead tr:only-child th {\n",
       "        text-align: right;\n",
       "    }\n",
       "\n",
       "    .dataframe thead th {\n",
       "        text-align: left;\n",
       "    }\n",
       "\n",
       "    .dataframe tbody tr th {\n",
       "        vertical-align: top;\n",
       "    }\n",
       "</style>\n",
       "<table border=\"1\" class=\"dataframe\">\n",
       "  <thead>\n",
       "    <tr style=\"text-align: right;\">\n",
       "      <th></th>\n",
       "      <th>business_id</th>\n",
       "      <th>date</th>\n",
       "      <th>description</th>\n",
       "    </tr>\n",
       "  </thead>\n",
       "  <tbody>\n",
       "    <tr>\n",
       "      <th>0</th>\n",
       "      <td>10</td>\n",
       "      <td>20160503</td>\n",
       "      <td>High risk food holding temperature   [ date vi...</td>\n",
       "    </tr>\n",
       "    <tr>\n",
       "      <th>1</th>\n",
       "      <td>10</td>\n",
       "      <td>20160503</td>\n",
       "      <td>High risk food holding temperature   [ date vi...</td>\n",
       "    </tr>\n",
       "    <tr>\n",
       "      <th>2</th>\n",
       "      <td>10</td>\n",
       "      <td>20160503</td>\n",
       "      <td>High risk vermin infestation</td>\n",
       "    </tr>\n",
       "    <tr>\n",
       "      <th>3</th>\n",
       "      <td>10</td>\n",
       "      <td>20160503</td>\n",
       "      <td>Unapproved or unmaintained equipment or utensils</td>\n",
       "    </tr>\n",
       "    <tr>\n",
       "      <th>4</th>\n",
       "      <td>10</td>\n",
       "      <td>20160503</td>\n",
       "      <td>No thermometers or uncalibrated thermometers</td>\n",
       "    </tr>\n",
       "    <tr>\n",
       "      <th>5</th>\n",
       "      <td>10</td>\n",
       "      <td>20140729</td>\n",
       "      <td>Insufficient hot water or running water  [ dat...</td>\n",
       "    </tr>\n",
       "    <tr>\n",
       "      <th>6</th>\n",
       "      <td>10</td>\n",
       "      <td>20140729</td>\n",
       "      <td>Unapproved or unmaintained equipment or utensi...</td>\n",
       "    </tr>\n",
       "    <tr>\n",
       "      <th>7</th>\n",
       "      <td>10</td>\n",
       "      <td>20140114</td>\n",
       "      <td>Improper storage of equipment utensils or line...</td>\n",
       "    </tr>\n",
       "    <tr>\n",
       "      <th>8</th>\n",
       "      <td>10</td>\n",
       "      <td>20140114</td>\n",
       "      <td>Unclean or degraded floors walls or ceilings  ...</td>\n",
       "    </tr>\n",
       "    <tr>\n",
       "      <th>9</th>\n",
       "      <td>10</td>\n",
       "      <td>20140114</td>\n",
       "      <td>Inadequate and inaccessible handwashing facili...</td>\n",
       "    </tr>\n",
       "  </tbody>\n",
       "</table>\n",
       "</div>"
      ],
      "text/plain": [
       "   business_id      date                                        description\n",
       "0           10  20160503  High risk food holding temperature   [ date vi...\n",
       "1           10  20160503  High risk food holding temperature   [ date vi...\n",
       "2           10  20160503                       High risk vermin infestation\n",
       "3           10  20160503   Unapproved or unmaintained equipment or utensils\n",
       "4           10  20160503      No thermometers or uncalibrated thermometers \n",
       "5           10  20140729  Insufficient hot water or running water  [ dat...\n",
       "6           10  20140729  Unapproved or unmaintained equipment or utensi...\n",
       "7           10  20140114  Improper storage of equipment utensils or line...\n",
       "8           10  20140114  Unclean or degraded floors walls or ceilings  ...\n",
       "9           10  20140114  Inadequate and inaccessible handwashing facili..."
      ]
     },
     "execution_count": 152,
     "metadata": {},
     "output_type": "execute_result"
    }
   ],
   "source": [
    "vio.head(10)"
   ]
  },
  {
   "cell_type": "markdown",
   "metadata": {},
   "source": [
    "Just looking at the first few records in `vio` we see that each inspection has multiple entries. Reading the descriptions, we see that if corrected, a date is listed in the description within square brackets. This date appears to be the same date as the inspection.\n",
    "We will consider how to derive features from the `description` field when we cover the topic of regular expressions."
   ]
  },
  {
   "cell_type": "markdown",
   "metadata": {},
   "source": [
    "#### Question 8b\n",
    "\n",
    "As with the inspections data frame, let's examine only records for 2016. \n",
    "Recall that the dates in the `ins` file are formatted as strings such as 20160503. As before, convert these dates into a datetime object called `new_date`, and create a new colum called `year` that contains the year only. "
   ]
  },
  {
   "cell_type": "code",
   "execution_count": 153,
   "metadata": {
    "collapsed": true,
    "tags": [
     "student"
    ]
   },
   "outputs": [],
   "source": [
    "vio['new_date'] = pd.to_datetime(vio['date'], format='%Y%m%d')\n",
    "vio['year']     = vio['new_date'].dt.year\n",
    "vio2016 = vio[vio['year']==2016]"
   ]
  },
  {
   "cell_type": "code",
   "execution_count": 154,
   "metadata": {},
   "outputs": [
    {
     "name": "stdout",
     "output_type": "stream",
     "text": [
      "~~~~~~~~~~~~~~~~~~~~~~~~~~~~~~~~~~~~~~~~~~~~~~~~~~~~~~~~~~~~~~~~~~~~~\n",
      "Running tests\n",
      "\n",
      "---------------------------------------------------------------------\n",
      "Test summary\n",
      "    Passed: 1\n",
      "    Failed: 0\n",
      "[ooooooooook] 100.0% passed\n",
      "\n"
     ]
    },
    {
     "data": {
      "application/javascript": [
       "IPython.notebook.save_checkpoint();"
      ],
      "text/plain": [
       "<IPython.core.display.Javascript object>"
      ]
     },
     "metadata": {},
     "output_type": "display_data"
    },
    {
     "data": {
      "application/javascript": [
       "IPython.notebook.save_notebook();"
      ],
      "text/plain": [
       "<IPython.core.display.Javascript object>"
      ]
     },
     "metadata": {},
     "output_type": "display_data"
    },
    {
     "name": "stdout",
     "output_type": "stream",
     "text": [
      "Saving notebook... Saved 'hw2.ipynb'.\n",
      "Backup... 100% complete\n",
      "Backup successful for user: mattholtzer9@berkeley.edu\n",
      "URL: https://okpy.org/cal/ds100/fa17/hw2/backups/qxkyG0\n",
      "NOTE: this is only a backup. To submit your assignment, use:\n",
      "\tpython3 ok --submit\n",
      "\n"
     ]
    }
   ],
   "source": [
    "_ = ok.grade('q08b')\n",
    "_ = ok.backup()"
   ]
  },
  {
   "cell_type": "markdown",
   "metadata": {},
   "source": [
    "## Number of violations\n",
    "\n",
    "When we explore data, we often create new variables that we think might be useful in our analysis. For example, a variable that contains the number of violation records per inspection may be of interest. We might want to see if the number of inspections is correlated with the inspection score.  Or, we might be interested in whether the score improves on the second inspection. \n",
    "\n",
    "#### Question 8c\n",
    "Derive a variable, `num_vio`, that contains the number of violations in a restaurant inspection."
   ]
  },
  {
   "cell_type": "code",
   "execution_count": 170,
   "metadata": {},
   "outputs": [],
   "source": [
    "vio_select = vio2016[['business_id', 'new_date']]"
   ]
  },
  {
   "cell_type": "code",
   "execution_count": 228,
   "metadata": {},
   "outputs": [
    {
     "data": {
      "text/plain": [
       "business_id\n",
       "10        5\n",
       "19        3\n",
       "24        3\n",
       "31        6\n",
       "45       12\n",
       "50        7\n",
       "56        4\n",
       "58        6\n",
       "61        3\n",
       "66        1\n",
       "67        6\n",
       "73        3\n",
       "76        1\n",
       "77        4\n",
       "80        1\n",
       "95        5\n",
       "98        1\n",
       "101       1\n",
       "102       4\n",
       "116       6\n",
       "125       3\n",
       "132       5\n",
       "140       4\n",
       "146      10\n",
       "151       2\n",
       "164       3\n",
       "178      10\n",
       "180       7\n",
       "184       1\n",
       "187       2\n",
       "         ..\n",
       "88575     4\n",
       "88653     3\n",
       "88657     5\n",
       "88659     2\n",
       "88675     1\n",
       "88676     2\n",
       "88702     2\n",
       "88722     4\n",
       "88756    11\n",
       "88758     4\n",
       "88792     1\n",
       "88799     5\n",
       "88840     3\n",
       "88878     2\n",
       "88899     5\n",
       "88915     3\n",
       "88932     6\n",
       "89070     4\n",
       "89072     3\n",
       "89111     3\n",
       "89191     2\n",
       "89201     1\n",
       "89305     3\n",
       "89328     6\n",
       "89453     4\n",
       "89462     5\n",
       "89475     2\n",
       "89515     1\n",
       "89790     1\n",
       "89900     1\n",
       "Length: 4006, dtype: int64"
      ]
     },
     "execution_count": 228,
     "metadata": {},
     "output_type": "execute_result"
    }
   ],
   "source": [
    "vio_select.groupby('business_id').size()"
   ]
  },
  {
   "cell_type": "code",
   "execution_count": 229,
   "metadata": {
    "tags": [
     "student"
    ]
   },
   "outputs": [
    {
     "ename": "TypeError",
     "evalue": "merge() missing 1 required positional argument: 'right'",
     "output_type": "error",
     "traceback": [
      "\u001b[0;31m---------------------------------------------------------------------------\u001b[0m",
      "\u001b[0;31mTypeError\u001b[0m                                 Traceback (most recent call last)",
      "\u001b[0;32m<ipython-input-229-0dd286c1f6b4>\u001b[0m in \u001b[0;36m<module>\u001b[0;34m()\u001b[0m\n\u001b[0;32m----> 1\u001b[0;31m \u001b[0mins2016\u001b[0m\u001b[0;34m[\u001b[0m\u001b[0;34m'num_vio'\u001b[0m\u001b[0;34m]\u001b[0m \u001b[0;34m=\u001b[0m \u001b[0mpd\u001b[0m\u001b[0;34m.\u001b[0m\u001b[0mmerge\u001b[0m\u001b[0;34m(\u001b[0m\u001b[0mvio2016\u001b[0m\u001b[0;34m,\u001b[0m \u001b[0;34m)\u001b[0m\u001b[0;34m[\u001b[0m\u001b[0;34m''\u001b[0m\u001b[0;34m]\u001b[0m\u001b[0;34m\u001b[0m\u001b[0m\n\u001b[0m",
      "\u001b[0;31mTypeError\u001b[0m: merge() missing 1 required positional argument: 'right'"
     ]
    }
   ],
   "source": [
    "ins2016['num_vio'] = pd.merge(vio2016, )['']"
   ]
  },
  {
   "cell_type": "code",
   "execution_count": null,
   "metadata": {
    "collapsed": true
   },
   "outputs": [],
   "source": [
    "ins2016.head()"
   ]
  },
  {
   "cell_type": "code",
   "execution_count": null,
   "metadata": {
    "collapsed": true
   },
   "outputs": [],
   "source": [
    "_ = ok.grade('q08c')\n",
    "_ = ok.backup()"
   ]
  },
  {
   "cell_type": "markdown",
   "metadata": {},
   "source": [
    "#### Question 8d\n",
    "\n",
    "Now that we have created this new varable, let's examine its distribution. \n",
    "Make a histogram of `num_vio` and describe its shape."
   ]
  },
  {
   "cell_type": "code",
   "execution_count": null,
   "metadata": {
    "collapsed": true,
    "tags": [
     "student"
    ]
   },
   "outputs": [],
   "source": [
    "plt.hist(...)"
   ]
  },
  {
   "cell_type": "code",
   "execution_count": null,
   "metadata": {
    "collapsed": true,
    "tags": [
     "student",
     "written"
    ]
   },
   "outputs": [],
   "source": [
    "q8d_answer = r\"\"\"\n",
    "\n",
    "Put your answer here, replacing this text.\n",
    "\n",
    "\"\"\"\n",
    "\n",
    "display(Markdown(q8d_answer))"
   ]
  },
  {
   "cell_type": "markdown",
   "metadata": {},
   "source": [
    "## Summary of the violations data\n",
    "\n",
    "Let's take stock of what we have learned about the violations data and what might be the next steps in our investigation. \n",
    "\n",
    "* We found that the records consist of the violations that were found on an inspection. And from inspection it seems that if a violation is corrected this information is provided in the description field.\n",
    "* We also found that the distribution of the number of violations shows that some restaurants had many violations. \n",
    "* In the future, we might want to investigate the relationship between the inspection score and the number of violations. Additionally, it migth be interesting to pursue possible connections between the type of violation and the score\n"
   ]
  },
  {
   "cell_type": "markdown",
   "metadata": {},
   "source": [
    "## Submission\n",
    "\n",
    "Congrats! You are finished with HW2. For convenience, we've included a cell below that runs all the OkPy tests."
   ]
  },
  {
   "cell_type": "code",
   "execution_count": 226,
   "metadata": {},
   "outputs": [
    {
     "name": "stdout",
     "output_type": "stream",
     "text": [
      "Running all tests...\n",
      "~~~~~~~~~~~~~~~~~~~~~~~~~~~~~~~~~~~~~~~~~~~~~~~~~~~~~~~~~~~~~~~~~~~~~\n",
      "Running tests\n",
      "\n",
      "---------------------------------------------------------------------\n",
      "Test summary\n",
      "    Passed: 1\n",
      "    Failed: 0\n",
      "[ooooooooook] 100.0% passed\n",
      "\n",
      "~~~~~~~~~~~~~~~~~~~~~~~~~~~~~~~~~~~~~~~~~~~~~~~~~~~~~~~~~~~~~~~~~~~~~\n",
      "Running tests\n",
      "\n",
      "---------------------------------------------------------------------\n",
      "Test summary\n",
      "    Passed: 1\n",
      "    Failed: 0\n",
      "[ooooooooook] 100.0% passed\n",
      "\n",
      "~~~~~~~~~~~~~~~~~~~~~~~~~~~~~~~~~~~~~~~~~~~~~~~~~~~~~~~~~~~~~~~~~~~~~\n",
      "Running tests\n",
      "\n",
      "---------------------------------------------------------------------\n",
      "Test summary\n",
      "    Passed: 4\n",
      "    Failed: 0\n",
      "[ooooooooook] 100.0% passed\n",
      "\n",
      "~~~~~~~~~~~~~~~~~~~~~~~~~~~~~~~~~~~~~~~~~~~~~~~~~~~~~~~~~~~~~~~~~~~~~\n",
      "Running tests\n",
      "\n",
      "---------------------------------------------------------------------\n",
      "Test summary\n",
      "    Passed: 1\n",
      "    Failed: 0\n",
      "[ooooooooook] 100.0% passed\n",
      "\n",
      "~~~~~~~~~~~~~~~~~~~~~~~~~~~~~~~~~~~~~~~~~~~~~~~~~~~~~~~~~~~~~~~~~~~~~\n",
      "Running tests\n",
      "\n",
      "---------------------------------------------------------------------\n",
      "Test summary\n",
      "    Passed: 1\n",
      "    Failed: 0\n",
      "[ooooooooook] 100.0% passed\n",
      "\n",
      "~~~~~~~~~~~~~~~~~~~~~~~~~~~~~~~~~~~~~~~~~~~~~~~~~~~~~~~~~~~~~~~~~~~~~\n",
      "Running tests\n",
      "\n",
      "---------------------------------------------------------------------\n",
      "Test summary\n",
      "    Passed: 1\n",
      "    Failed: 0\n",
      "[ooooooooook] 100.0% passed\n",
      "\n",
      "~~~~~~~~~~~~~~~~~~~~~~~~~~~~~~~~~~~~~~~~~~~~~~~~~~~~~~~~~~~~~~~~~~~~~\n",
      "Running tests\n",
      "\n",
      "---------------------------------------------------------------------\n",
      "Test summary\n",
      "    Passed: 1\n",
      "    Failed: 0\n",
      "[ooooooooook] 100.0% passed\n",
      "\n",
      "~~~~~~~~~~~~~~~~~~~~~~~~~~~~~~~~~~~~~~~~~~~~~~~~~~~~~~~~~~~~~~~~~~~~~\n",
      "Running tests\n",
      "\n",
      "---------------------------------------------------------------------\n",
      "Test summary\n",
      "    Passed: 1\n",
      "    Failed: 0\n",
      "[ooooooooook] 100.0% passed\n",
      "\n",
      "~~~~~~~~~~~~~~~~~~~~~~~~~~~~~~~~~~~~~~~~~~~~~~~~~~~~~~~~~~~~~~~~~~~~~\n",
      "Running tests\n",
      "\n",
      "---------------------------------------------------------------------\n",
      "Test summary\n",
      "    Passed: 1\n",
      "    Failed: 0\n",
      "[ooooooooook] 100.0% passed\n",
      "\n",
      "~~~~~~~~~~~~~~~~~~~~~~~~~~~~~~~~~~~~~~~~~~~~~~~~~~~~~~~~~~~~~~~~~~~~~\n",
      "Running tests\n",
      "\n",
      "---------------------------------------------------------------------\n",
      "Question 7a > Suite 1 > Case 1\n",
      "\n",
      ">>> all(len(v[0])==2 for v in scores_pairs_by_business.values)\n",
      "NameError: name 'scores_pairs_by_business' is not defined\n",
      "\n",
      "# Error: expected\n",
      "#     True\n",
      "# but got\n",
      "#     Traceback (most recent call last):\n",
      "#       ...\n",
      "#     NameError: name 'scores_pairs_by_business' is not defined\n",
      "\n",
      "Run only this test case with \"python3 ok -q q07a --suite 1 --case 1\"\n",
      "---------------------------------------------------------------------\n",
      "Test summary\n",
      "    Passed: 0\n",
      "    Failed: 1\n",
      "[k..........] 0.0% passed\n",
      "\n",
      "~~~~~~~~~~~~~~~~~~~~~~~~~~~~~~~~~~~~~~~~~~~~~~~~~~~~~~~~~~~~~~~~~~~~~\n",
      "Running tests\n",
      "\n",
      "---------------------------------------------------------------------\n",
      "Test summary\n",
      "    Passed: 1\n",
      "    Failed: 0\n",
      "[ooooooooook] 100.0% passed\n",
      "\n",
      "~~~~~~~~~~~~~~~~~~~~~~~~~~~~~~~~~~~~~~~~~~~~~~~~~~~~~~~~~~~~~~~~~~~~~\n",
      "Running tests\n",
      "\n",
      "---------------------------------------------------------------------\n",
      "Question 8c > Suite 1 > Case 1\n",
      "\n",
      ">>> max(ins2016['num_vio']) == 14\n",
      "Traceback (most recent call last):\n",
      "  File \"/Users/matt/anaconda/lib/python3.6/site-packages/pandas/core/frame.py\", line 2062, in __getitem__\n",
      "    return self._getitem_column(key)\n",
      "  File \"/Users/matt/anaconda/lib/python3.6/site-packages/pandas/core/frame.py\", line 2069, in _getitem_column\n",
      "    return self._get_item_cache(key)\n",
      "  File \"/Users/matt/anaconda/lib/python3.6/site-packages/pandas/core/generic.py\", line 1534, in _get_item_cache\n",
      "    values = self._data.get(item)\n",
      "  File \"/Users/matt/anaconda/lib/python3.6/site-packages/pandas/core/internals.py\", line 3590, in get\n",
      "    loc = self.items.get_loc(item)\n",
      "  File \"/Users/matt/anaconda/lib/python3.6/site-packages/pandas/core/indexes/base.py\", line 2395, in get_loc\n",
      "    return self._engine.get_loc(self._maybe_cast_indexer(key))\n",
      "  File \"pandas/_libs/index.pyx\", line 132, in pandas._libs.index.IndexEngine.get_loc (pandas/_libs/index.c:5239)\n",
      "  File \"pandas/_libs/index.pyx\", line 154, in pandas._libs.index.IndexEngine.get_loc (pandas/_libs/index.c:5085)\n",
      "  File \"pandas/_libs/hashtable_class_helper.pxi\", line 1207, in pandas._libs.hashtable.PyObjectHashTable.get_item (pandas/_libs/hashtable.c:20405)\n",
      "  File \"pandas/_libs/hashtable_class_helper.pxi\", line 1215, in pandas._libs.hashtable.PyObjectHashTable.get_item (pandas/_libs/hashtable.c:20359)\n",
      "KeyError: 'num_vio'\n",
      "\n",
      "# Error: expected\n",
      "#     True\n",
      "# but got\n",
      "#     Traceback (most recent call last):\n",
      "#       ...\n",
      "#     KeyError: 'num_vio'\n",
      "\n",
      "Run only this test case with \"python3 ok -q q08c --suite 1 --case 1\"\n",
      "---------------------------------------------------------------------\n",
      "Test summary\n",
      "    Passed: 0\n",
      "    Failed: 1\n",
      "[k..........] 0.0% passed\n",
      "\n"
     ]
    }
   ],
   "source": [
    "import os\n",
    "print(\"Running all tests...\")\n",
    "_ = [ok.grade(q[:-3]) for q in os.listdir(\"ok_tests\") if q.startswith('q')]"
   ]
  },
  {
   "cell_type": "markdown",
   "metadata": {},
   "source": [
    "Now, run the cell below to submit your assignment to OkPy. The autograder should email you shortly with your autograded score. The autograder will only run once every 30 minutes.\n",
    "\n",
    "**If you're failing tests on the autograder but pass them locally**, you should simulate the autograder by doing the following:\n",
    "\n",
    "1. In the top menu, click Kernel -> Restart and Run all.\n",
    "2. Run the cell above to run each OkPy test.\n",
    "\n",
    "**You must make sure that you pass all the tests when running steps 1 and 2 in order.** If you are still failing autograder tests, you should double check your results."
   ]
  },
  {
   "cell_type": "code",
   "execution_count": 303,
   "metadata": {},
   "outputs": [
    {
     "data": {
      "application/javascript": [
       "IPython.notebook.save_checkpoint();"
      ],
      "text/plain": [
       "<IPython.core.display.Javascript object>"
      ]
     },
     "metadata": {},
     "output_type": "display_data"
    },
    {
     "data": {
      "application/javascript": [
       "IPython.notebook.save_notebook();"
      ],
      "text/plain": [
       "<IPython.core.display.Javascript object>"
      ]
     },
     "metadata": {},
     "output_type": "display_data"
    },
    {
     "name": "stdout",
     "output_type": "stream",
     "text": [
      "Saving notebook... Saved 'hw2.ipynb'.\n",
      "Submit... 100% complete\n",
      "Submission successful for user: mattholtzer9@berkeley.edu\n",
      "URL: https://okpy.org/cal/ds100/fa17/hw2/submissions/DkVBDB\n",
      "NOTE: this is only a backup. To submit your assignment, use:\n",
      "\tpython3 ok --submit\n",
      "\n"
     ]
    }
   ],
   "source": [
    "_ = ok.submit()"
   ]
  },
  {
   "cell_type": "markdown",
   "metadata": {},
   "source": [
    "Also, as of this writing there's a bug in OkPy where it will say:\n",
    "\n",
    "```\n",
    "NOTE: this is only a backup. To submit your assignment, use:\n",
    "\tpython3 ok --submit\n",
    "```\n",
    "\n",
    "when running the cell above. Don't worry about that; if you can visit OkPy and see your submission, you've submitted the assignment.\n",
    "\n",
    "Even if you forget to run the cell above, we'll automatically take your latest backup when grading so don't worry about that."
   ]
  }
 ],
 "metadata": {
  "anaconda-cloud": {},
  "kernelspec": {
   "display_name": "Python 3",
   "language": "python",
   "name": "python3"
  },
  "language_info": {
   "codemirror_mode": {
    "name": "ipython",
    "version": 3
   },
   "file_extension": ".py",
   "mimetype": "text/x-python",
   "name": "python",
   "nbconvert_exporter": "python",
   "pygments_lexer": "ipython3",
   "version": "3.6.1"
  }
 },
 "nbformat": 4,
 "nbformat_minor": 2
}
