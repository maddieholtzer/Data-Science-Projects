{
 "cells": [
  {
   "cell_type": "markdown",
   "metadata": {},
   "source": [
    "# Lab 8: SQL and Database Setup\n",
    "\n",
    "## Introduction\n",
    "\n",
    "In this lab we are going to practice viewing, sorting, grouping, and merging tables. \n",
    "\n",
    "We'll first guide you on how to set up a PostgreSQL database on Heroku. You'll use the same database for this lab as well as HW5."
   ]
  },
  {
   "cell_type": "code",
   "execution_count": 1,
   "metadata": {},
   "outputs": [
    {
     "name": "stdout",
     "output_type": "stream",
     "text": [
      "=====================================================================\n",
      "Assignment: lab08\n",
      "OK, version v1.12.10\n",
      "=====================================================================\n",
      "\n"
     ]
    }
   ],
   "source": [
    "# Run this cell to set up your notebook\n",
    "\n",
    "import seaborn as sns\n",
    "import csv\n",
    "import numpy as np\n",
    "import pandas as pd\n",
    "import matplotlib.pyplot as plt\n",
    "%matplotlib inline\n",
    "sns.set()\n",
    "\n",
    "from IPython.display import display, Latex, Markdown\n",
    "from client.api.notebook import Notebook\n",
    "ok = Notebook('lab08.ok')\n",
    "\n",
    "import sqlalchemy"
   ]
  },
  {
   "cell_type": "code",
   "execution_count": 2,
   "metadata": {},
   "outputs": [
    {
     "name": "stdout",
     "output_type": "stream",
     "text": [
      "Successfully logged in as mattholtzer9@berkeley.edu\n"
     ]
    }
   ],
   "source": [
    "ok.auth(force=False) # Change False to True if you are getting errors authenticating"
   ]
  },
  {
   "cell_type": "markdown",
   "metadata": {},
   "source": [
    "## Launching Your Heroku Postgres Database\n",
    "\n",
    "For this assignment, you're going to use a popular cloud services provider: Heroku. This will give you some experience provisioning a database in the cloud and working on that database from your computer.\n",
    "\n",
    "### Provisioning the Postgres DB\n",
    "\n",
    "1. Visit https://signup.heroku.com/postgres-home-button and sign up for an account\n",
    "if you don't have one already.\n",
    "2. Now, install the Heroku CLI: https://devcenter.heroku.com/articles/heroku-cli.\n",
    "Then, run `heroku login` to log into Heroku from your CLI.\n",
    "3. Now, visit https://dashboard.heroku.com/apps and click **New -> App**. Name the app\n",
    "whatever you want.\n",
    "4. You should be sent to the app details page. Click **Resources** in the navbar, then\n",
    "in the **Add-on** search bar, type \"Postgres\". You should be able to select **Heroku\n",
    "Postgres**. Make sure the free tier (**Hobby Dev**) is selected and click **Provision**. Now\n",
    "you should see **Heroku Postgres :: Database** in your **Add-ons** list."
   ]
  },
  {
   "cell_type": "markdown",
   "metadata": {},
   "source": [
    "### Loading the data into the Heroku DB\n",
    "\n",
    "(1) Run the lines below in your terminal to install necessary libraries.\n",
    "\n",
    "    conda install -y psycopg2\n",
    "    conda install -y postgresql\n",
    "    pip install ipython-sql\n",
    "    \n",
    "(2) Click the **Heroku Postgres :: Database** link in your app's **Add-ons** list.\n",
    "\n",
    "(3) In the **Heroku Data** page you got redirected to, you should see the name of your\n",
    "database. You can click on the **Setting** panel, then scroll down to **Administration** and click **View Credentials**. These are the\n",
    "credentials that allow you to connect to the database. The last entry of the list\n",
    "contains a line that looks like:\n",
    "\n",
    "        heroku pg:psql db_name --app app_name\n",
    "\n",
    " In your terminal, take that command and add \"`< fec.sql`\" to the end\n",
    " to get something like:\n",
    "\n",
    "        heroku pg:psql db_name --app app_name < fec.sql\n",
    "        \n",
    " Run that command. It will run the commands in `fec.sql`, which load the dataset into the database.\n",
    " Now you should be able to run the command without the \"`< fec.sql`\" to\n",
    " have a postgres prompt. Try typing \"`\\d+`\" at the prompt. You should get\n",
    " something like:\n",
    "     \n",
    "        ds100-hw4-db::DATABASE=> \\d+\n",
    "                               List of relations\n",
    "         Schema |           Name           |   Type   |     Owner\n",
    "        --------+--------------------------+----------+----------------\n",
    "         public | cand                     | table    | vibrgrsqevmzkj\n",
    "         public | comm                     | table    | vibrgrsqevmzkj\n",
    "         public | ds100grades              | table    | vibrgrsqevmzkj\n",
    "         public | ds100grades_recordid_seq | sequence | vibrgrsqevmzkj\n",
    "         public | ds100weights             | table    | vibrgrsqevmzkj\n",
    "         public | indiv_sample             | table    | vibrgrsqevmzkj\n",
    "         public | indiv_sample_top         | table    | vibrgrsqevmzkj\n",
    "         public | students                 | table    | vibrgrsqevmzkj\n",
    "        (8 rows)\n",
    "\n",
    "Congrats! You now have a Postgres database running containing the data you need\n",
    "for this lab (and Homework 5!)."
   ]
  },
  {
   "cell_type": "markdown",
   "metadata": {},
   "source": [
    "Now, let's connect to your Postgres database. On your Heroku Postgres details,\n",
    "look at the credentials for the database. Take the long URI in the credentials and\n",
    "replace the portion of the code that reads `\"replace_me\"` with the URI.\n",
    "\n",
    "It should start with `postgres://`."
   ]
  },
  {
   "cell_type": "code",
   "execution_count": null,
   "metadata": {
    "collapsed": true,
    "for_assignment_type": "student"
   },
   "outputs": [],
   "source": [
    "my_URI = '<replace_me>'\n",
    "%load_ext sql\n",
    "%sql $my_URI\n",
    "engine = sqlalchemy.create_engine(my_URI)\n",
    "connection = engine.connect()"
   ]
  },
  {
   "cell_type": "markdown",
   "metadata": {},
   "source": [
    "We will use these three tables in the lab:\n",
    "\n",
    "+ `students`: Student name and other information; indexed by primary key `studentid`.\n",
    "+ `ds100weights`: Weight of each assignment type (homework, labs etc) to the final grade. \n",
    "+ `ds100grades`: Grades per assignment per student. Can be linked to `students` using a _foreign key_ `studentid` and to `ds100weights` using `assignment` _foreign key_. \n",
    "\n",
    "Let's take a peek at the students table."
   ]
  },
  {
   "cell_type": "markdown",
   "metadata": {},
   "source": [
    "## Question 1\n",
    "\n",
    "Fill in the SQL query in `q1` to display all the data in the `students` table. (Don't worry, the table isn't big enough to crash your browser.)\n",
    "\n",
    "The `%sql` magic command comes from this package: https://github.com/catherinedevlin/ipython-sql . It conveniently lets you run SQL queries in a notebook. You should only edit the `q1` variable in the cell below."
   ]
  },
  {
   "cell_type": "code",
   "execution_count": null,
   "metadata": {
    "collapsed": true,
    "tags": [
     "student"
    ]
   },
   "outputs": [],
   "source": [
    "q1 = '''\n",
    "SELECT ...\n",
    "FROM ...\n",
    "'''\n",
    "\n",
    "%sql $q1"
   ]
  },
  {
   "cell_type": "code",
   "execution_count": null,
   "metadata": {
    "collapsed": true,
    "tags": [
     "test",
     "q01"
    ]
   },
   "outputs": [],
   "source": [
    "_ = ok.grade('q01')\n",
    "_ = ok.backup()"
   ]
  },
  {
   "cell_type": "markdown",
   "metadata": {},
   "source": [
    "## Question 2\n",
    "\n",
    "Let's get a sense of how people are doing overall in this offering of DS100. Compute the average grade of all assignments in the `ds100grades` table in the `q2` string."
   ]
  },
  {
   "cell_type": "code",
   "execution_count": null,
   "metadata": {
    "collapsed": true,
    "tags": [
     "student"
    ]
   },
   "outputs": [],
   "source": [
    "q2 = '''\n",
    "SELECT ...\n",
    "FROM ...\n",
    "'''\n",
    "\n",
    "%sql $q2"
   ]
  },
  {
   "cell_type": "code",
   "execution_count": null,
   "metadata": {
    "collapsed": true,
    "tags": [
     "test",
     "q02"
    ]
   },
   "outputs": [],
   "source": [
    "_ = ok.grade('q02')\n",
    "_ = ok.backup()"
   ]
  },
  {
   "cell_type": "markdown",
   "metadata": {},
   "source": [
    "## Question 3\n",
    "\n",
    "As you have likely realized, we would rather know the overall grade for each student. This will require us to join tables together. Write a query `q3` that joins the `student` table with the `ds100grades` table so that students are matched with their assignment grades.\n",
    "\n",
    "You will find that each student appears 7 times (why?) for a total of 63 rows."
   ]
  },
  {
   "cell_type": "code",
   "execution_count": null,
   "metadata": {
    "collapsed": true,
    "tags": [
     "student"
    ]
   },
   "outputs": [],
   "source": [
    "# If you'd like, feel free to use a JOIN clause instead of the WHERE clause.\n",
    "q3 = '''\n",
    "SELECT ...\n",
    "FROM ...\n",
    "WHERE ...\n",
    "'''\n",
    "\n",
    "%sql $q3"
   ]
  },
  {
   "cell_type": "code",
   "execution_count": null,
   "metadata": {
    "collapsed": true,
    "tags": [
     "test",
     "q03"
    ]
   },
   "outputs": [],
   "source": [
    "_ = ok.grade('q03')\n",
    "_ = ok.backup()"
   ]
  },
  {
   "cell_type": "markdown",
   "metadata": {},
   "source": [
    "## Question 4\n",
    "\n",
    "Now, write a query `q4` that calculates the average grade for each student assuming that all assignment types are weighted equally. (We know they aren't, we'll get there in Question 5.)\n",
    "\n",
    "Your query should output 9 rows, one for each student. Your table should contain two columns, the `name` of the student and the `avg` grade they got in DS100. Sort the result by descending order of average grade."
   ]
  },
  {
   "cell_type": "code",
   "execution_count": null,
   "metadata": {
    "collapsed": true,
    "tags": [
     "student"
    ]
   },
   "outputs": [],
   "source": [
    "q4 = '''\n",
    "SELECT ...\n",
    "FROM ...\n",
    "WHERE ...\n",
    "GROUP BY ...\n",
    "ORDER BY ...\n",
    "'''\n",
    "\n",
    "%sql $q4"
   ]
  },
  {
   "cell_type": "code",
   "execution_count": null,
   "metadata": {
    "collapsed": true,
    "tags": [
     "test",
     "q04"
    ]
   },
   "outputs": [],
   "source": [
    "_ = ok.grade('q04')\n",
    "_ = ok.backup()"
   ]
  },
  {
   "cell_type": "markdown",
   "metadata": {},
   "source": [
    "## Question 5\n",
    "\n",
    "Now, the grand finale: write a query `q5` to compute the average grade for each student, weighted correctly by the assignment weights in `ds100weights`.\n",
    "\n",
    "Your query should output 9 rows, one for each student. Your table should contain two columns, the `name` of the student and the `overall` grade they got in DS100. Sort the result by descending order of average grade.\n",
    "\n",
    "Hint: This is a tough one. Try breaking it down and testing your query as you go. We suggest using a WITH clause to first compute the joined table and the weighted assignment scores. Then, use a GROUP BY clause on table created by the WITH clause to compute the final overall grade."
   ]
  },
  {
   "cell_type": "code",
   "execution_count": null,
   "metadata": {
    "collapsed": true,
    "tags": [
     "student"
    ]
   },
   "outputs": [],
   "source": [
    "q5 = '''\n",
    "WITH weighted AS (\n",
    "SELECT ...\n",
    "FROM ...\n",
    "WHERE ...\n",
    "    AND ...\n",
    ")\n",
    "SELECT ...\n",
    "FROM ...\n",
    "GROUP BY ...\n",
    "ORDER BY ...\n",
    "'''\n",
    "\n",
    "%sql $q5"
   ]
  },
  {
   "cell_type": "code",
   "execution_count": null,
   "metadata": {
    "collapsed": true,
    "tags": [
     "test",
     "q05"
    ]
   },
   "outputs": [],
   "source": [
    "_ = ok.grade('q05')\n",
    "_ = ok.backup()"
   ]
  },
  {
   "cell_type": "markdown",
   "metadata": {},
   "source": [
    "Congrats! You just learned to SQL."
   ]
  },
  {
   "cell_type": "markdown",
   "metadata": {},
   "source": [
    "## Submission\n",
    "\n",
    "Run the cell below to run all the OkPy tests at once:"
   ]
  },
  {
   "cell_type": "code",
   "execution_count": null,
   "metadata": {
    "collapsed": true
   },
   "outputs": [],
   "source": [
    "_ = ok.grade_all()"
   ]
  },
  {
   "cell_type": "markdown",
   "metadata": {},
   "source": [
    "Now, run the cell below to submit your assignment to OkPy. The autograder should email you shortly with your autograded score. The autograder will only run once every 30 minutes.\n",
    "\n",
    "**If you're failing tests on the autograder but pass them locally**, you should simulate the autograder by doing the following:\n",
    "\n",
    "1. In the top menu, click Kernel -> Restart and Run all.\n",
    "2. Run the cell above to run each OkPy test.\n",
    "\n",
    "**You must make sure that you pass all the tests when running steps 1 and 2 in order.** If you are still failing autograder tests, you should double check your results."
   ]
  },
  {
   "cell_type": "code",
   "execution_count": null,
   "metadata": {
    "collapsed": true
   },
   "outputs": [],
   "source": [
    "_ = ok.submit()"
   ]
  },
  {
   "cell_type": "code",
   "execution_count": null,
   "metadata": {
    "collapsed": true
   },
   "outputs": [],
   "source": []
  }
 ],
 "metadata": {
  "anaconda-cloud": {},
  "kernelspec": {
   "display_name": "Python 3",
   "language": "python",
   "name": "python3"
  },
  "language_info": {
   "codemirror_mode": {
    "name": "ipython",
    "version": 3
   },
   "file_extension": ".py",
   "mimetype": "text/x-python",
   "name": "python",
   "nbconvert_exporter": "python",
   "pygments_lexer": "ipython3",
   "version": "3.6.1"
  },
  "toc": {
   "colors": {
    "hover_highlight": "#DAA520",
    "navigate_num": "#000000",
    "navigate_text": "#333333",
    "running_highlight": "#FF0000",
    "selected_highlight": "#FFD700",
    "sidebar_border": "#EEEEEE",
    "wrapper_background": "#FFFFFF"
   },
   "moveMenuLeft": true,
   "nav_menu": {
    "height": "120px",
    "width": "252px"
   },
   "navigate_menu": true,
   "number_sections": true,
   "sideBar": true,
   "threshold": 4,
   "toc_cell": false,
   "toc_section_display": "block",
   "toc_window_display": false,
   "widenNotebook": false
  }
 },
 "nbformat": 4,
 "nbformat_minor": 2
}
