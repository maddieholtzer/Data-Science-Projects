{
 "cells": [
  {
   "cell_type": "markdown",
   "metadata": {
    "deletable": true,
    "editable": true
   },
   "source": [
    "## Independent Data Exploration"
   ]
  },
  {
   "cell_type": "markdown",
   "metadata": {
    "deletable": true,
    "editable": true
   },
   "source": [
    "You can either use this notebook directly or add the contents of this notebook to your own project notebook named `exploration.ipynb`. The following cell is required to submit."
   ]
  },
  {
   "cell_type": "code",
   "execution_count": null,
   "metadata": {
    "collapsed": false,
    "deletable": true,
    "editable": true
   },
   "outputs": [
    {
     "name": "stdout",
     "output_type": "stream",
     "text": [
      "=====================================================================\n",
      "Assignment: Independent Data Exploration\n",
      "OK, version v1.9.5\n",
      "=====================================================================\n",
      "\n",
      "Successfully logged in as mattholtzer9@berkeley.edu\n",
      "~~~~~~~~~~~~~~~~~~~~~~~~~~~~~~~~~~~~~~~~~~~~~~~~~~~~~~~~~~~~~~~~~~~~~\n",
      "Running tests\n",
      "\n",
      "---------------------------------------------------------------------\n",
      "Test summary\n",
      "    Passed: 1\n",
      "    Failed: 0\n",
      "[ooooooooook] 100.0% passed\n",
      "\n"
     ]
    },
    {
     "data": {
      "application/javascript": [
       "IPython.notebook.save_checkpoint();"
      ],
      "text/plain": [
       "<IPython.core.display.Javascript object>"
      ]
     },
     "metadata": {},
     "output_type": "display_data"
    },
    {
     "data": {
      "application/javascript": [
       "IPython.notebook.save_notebook();"
      ],
      "text/plain": [
       "<IPython.core.display.Javascript object>"
      ]
     },
     "metadata": {},
     "output_type": "display_data"
    },
    {
     "name": "stdout",
     "output_type": "stream",
     "text": [
      "Saving notebook... "
     ]
    }
   ],
   "source": [
    "# Run this cell to \n",
    "# - create necessary support files, \n",
    "# - check that your exploration is formatted correctly, \n",
    "# - and submit your work to OK.\n",
    "\n",
    "ok_spec = \"\"\"\n",
    "{\n",
    "  \"name\": \"Independent Data Exploration\",\n",
    "  \"endpoint\": \"cal/data8/sp17/exploration\",\n",
    "  \"src\": [\n",
    "    \"exploration.ipynb\"\n",
    "  ],\n",
    "  \"tests\": {},\n",
    "  \"protocols\": [\n",
    "      \"file_contents\",\n",
    "      \"backup\"\n",
    "  ]\n",
    "}    \n",
    "\"\"\"\n",
    "    \n",
    "ok_test = '''\n",
    "test = {\n",
    "  'name': 'Check file name',\n",
    "  'points': 1,\n",
    "  'suites': [\n",
    "    {\n",
    "      'cases': [\n",
    "        {\n",
    "          'code': r\"\"\"\n",
    "          >>> # Make sure that you name your submission file exploration.ipynb\n",
    "          >>> import os\n",
    "          >>> os.path.exists('exploration.ipynb')\n",
    "          True\n",
    "          \"\"\",\n",
    "          'hidden': False,\n",
    "          'locked': False\n",
    "        },\n",
    "      ],\n",
    "      'scored': True,\n",
    "      'setup': '',\n",
    "      'teardown': '',\n",
    "      'type': 'doctest'\n",
    "    }\n",
    "  ]\n",
    "}\n",
    "'''\n",
    "    \n",
    "import os\n",
    "    \n",
    "if not os.path.exists('exploration.ok'):\n",
    "    with open('exploration.ok', 'w') as out:\n",
    "        out.write(ok_spec)\n",
    "\n",
    "if not os.path.exists('tests/q1.py'):\n",
    "    with open('tests/q1.py', 'w') as out:\n",
    "        out.write(ok_test)\n",
    "    \n",
    "from client.api.notebook import Notebook\n",
    "ok = Notebook('exploration.ok')\n",
    "ok.auth(inline=True)\n",
    "ok.grade('q1')\n",
    "_ = ok.submit()"
   ]
  },
  {
   "cell_type": "code",
   "execution_count": 78,
   "metadata": {
    "collapsed": true,
    "deletable": true,
    "editable": true
   },
   "outputs": [],
   "source": [
    "#Standard imports\n",
    "#Not really sure what they do\n",
    "\n",
    "from datascience import *\n",
    "import numpy as np\n",
    "\n",
    "import matplotlib\n",
    "%matplotlib inline\n",
    "import matplotlib.pyplot as plots\n",
    "plots.style.use('fivethirtyeight')"
   ]
  },
  {
   "cell_type": "code",
   "execution_count": 4,
   "metadata": {
    "collapsed": false,
    "deletable": true,
    "editable": true
   },
   "outputs": [],
   "source": [
    "#Import datasets\n",
    "\n",
    "#2015 data on colleges\n",
    "scorecard = Table.read_table(\"Most-Recent-Cohorts-Scorecard-Elements.csv\").select(\"INSTNM\", \"CITY\", \"STABBR\", \"SATVR25\", \"SATVR75\", \"SATMT25\", \"SATMT75\")\n",
    "\n",
    "#All the state capitals in alphabetical order\n",
    "statecaps = Table.read_table(\"usgs_state_2000.csv\").column(\"State\")\n",
    "\n",
    "#Makes table with 2001-2002 spending per year per student\n",
    "education = Table.read_table(\"tabn194.csv\").with_column(\"State\", statecaps).select(\"State\", \"2001-02\")\n",
    "intformat = [int(x.replace(\",\" , \"\")) for x in education.column(1)]\n",
    "education = education.with_column(\"$ Per Student\", intformat).drop(1)"
   ]
  },
  {
   "cell_type": "markdown",
   "metadata": {
    "deletable": true,
    "editable": true
   },
   "source": [
    "**DESCRIBE DATA**"
   ]
  },
  {
   "cell_type": "code",
   "execution_count": 79,
   "metadata": {
    "collapsed": false,
    "deletable": true,
    "editable": true
   },
   "outputs": [
    {
     "data": {
      "text/html": [
       "<table border=\"1\" class=\"dataframe\">\n",
       "    <thead>\n",
       "        <tr>\n",
       "            <th>State</th> <th>$ Per Student</th>\n",
       "        </tr>\n",
       "    </thead>\n",
       "    <tbody>\n",
       "        <tr>\n",
       "            <td>AL   </td> <td>6327         </td>\n",
       "        </tr>\n",
       "    </tbody>\n",
       "        <tr>\n",
       "            <td>AK   </td> <td>10419        </td>\n",
       "        </tr>\n",
       "    </tbody>\n",
       "        <tr>\n",
       "            <td>AZ   </td> <td>6470         </td>\n",
       "        </tr>\n",
       "    </tbody>\n",
       "        <tr>\n",
       "            <td>AR   </td> <td>6676         </td>\n",
       "        </tr>\n",
       "    </tbody>\n",
       "        <tr>\n",
       "            <td>CA   </td> <td>7439         </td>\n",
       "        </tr>\n",
       "    </tbody>\n",
       "        <tr>\n",
       "            <td>CO   </td> <td>7284         </td>\n",
       "        </tr>\n",
       "    </tbody>\n",
       "        <tr>\n",
       "            <td>CT   </td> <td>11022        </td>\n",
       "        </tr>\n",
       "    </tbody>\n",
       "        <tr>\n",
       "            <td>DE   </td> <td>9959         </td>\n",
       "        </tr>\n",
       "    </tbody>\n",
       "        <tr>\n",
       "            <td>DC   </td> <td>14557        </td>\n",
       "        </tr>\n",
       "    </tbody>\n",
       "        <tr>\n",
       "            <td>FL   </td> <td>6679         </td>\n",
       "        </tr>\n",
       "    </tbody>\n",
       "</table>\n",
       "<p>... (41 rows omitted)</p"
      ],
      "text/plain": [
       "State | $ Per Student\n",
       "AL    | 6327\n",
       "AK    | 10419\n",
       "AZ    | 6470\n",
       "AR    | 6676\n",
       "CA    | 7439\n",
       "CO    | 7284\n",
       "CT    | 11022\n",
       "DE    | 9959\n",
       "DC    | 14557\n",
       "FL    | 6679\n",
       "... (41 rows omitted)"
      ]
     },
     "execution_count": 79,
     "metadata": {},
     "output_type": "execute_result"
    }
   ],
   "source": [
    "education"
   ]
  },
  {
   "cell_type": "code",
   "execution_count": 6,
   "metadata": {
    "collapsed": false,
    "deletable": true,
    "editable": true
   },
   "outputs": [
    {
     "data": {
      "text/plain": [
       "8315.254901960785"
      ]
     },
     "execution_count": 6,
     "metadata": {},
     "output_type": "execute_result"
    }
   ],
   "source": [
    "np.average(education.column(\"$ Per Student\"))"
   ]
  },
  {
   "cell_type": "code",
   "execution_count": 7,
   "metadata": {
    "collapsed": false,
    "deletable": true,
    "editable": true
   },
   "outputs": [
    {
     "data": {
      "text/plain": [
       "1790.6059314354056"
      ]
     },
     "execution_count": 7,
     "metadata": {},
     "output_type": "execute_result"
    }
   ],
   "source": [
    "np.std(education.column(\"$ Per Student\"))"
   ]
  },
  {
   "cell_type": "code",
   "execution_count": 8,
   "metadata": {
    "collapsed": false,
    "deletable": true,
    "editable": true
   },
   "outputs": [
    {
     "data": {
      "text/plain": [
       "5294"
      ]
     },
     "execution_count": 8,
     "metadata": {},
     "output_type": "execute_result"
    }
   ],
   "source": [
    "min(education.column(\"$ Per Student\"))"
   ]
  },
  {
   "cell_type": "code",
   "execution_count": 9,
   "metadata": {
    "collapsed": false,
    "deletable": true,
    "editable": true
   },
   "outputs": [
    {
     "data": {
      "text/plain": [
       "14557"
      ]
     },
     "execution_count": 9,
     "metadata": {},
     "output_type": "execute_result"
    }
   ],
   "source": [
    "max(education.column(\"$ Per Student\"))"
   ]
  },
  {
   "cell_type": "code",
   "execution_count": 10,
   "metadata": {
    "collapsed": false,
    "deletable": true,
    "editable": true
   },
   "outputs": [
    {
     "data": {
      "text/plain": [
       "51"
      ]
     },
     "execution_count": 10,
     "metadata": {},
     "output_type": "execute_result"
    }
   ],
   "source": [
    "len(education.column(1))"
   ]
  },
  {
   "cell_type": "markdown",
   "metadata": {
    "deletable": true,
    "editable": true
   },
   "source": [
    "**Description of table**: This table contains two columns, one indicating a categorical variable for the state abbreviation, and a second column that contains the quantitative variable average dollar spent on education per student in the school year from 2001-2002. I am using the 2001-2002 numbers because I want to try and look at the effects of school spending at a young age on students much farther down the road. Students who would have entered college in 2015 would be around the age of kindergarden/pre-k in the 2001-2002 school year.\n",
    "\n",
    "**Description of variables**: The state abbreviation is an unimportant variable in this table since there is simply one instance for every single state. Dollar Per Student on the other hand is very important and has these characteristics. It has an average of 8,315.25, a minimum of 5,294, a maximum of 14,557, a standard deviation of 1,790.61, and 51 values (one for every state plus the District of Columbia)"
   ]
  },
  {
   "cell_type": "code",
   "execution_count": 81,
   "metadata": {
    "collapsed": false,
    "deletable": true,
    "editable": true
   },
   "outputs": [
    {
     "data": {
      "text/html": [
       "<table border=\"1\" class=\"dataframe\">\n",
       "    <thead>\n",
       "        <tr>\n",
       "            <th>INSTNM</th> <th>CITY</th> <th>STABBR</th> <th>SATVR25</th> <th>SATVR75</th> <th>SATMT25</th> <th>SATMT75</th>\n",
       "        </tr>\n",
       "    </thead>\n",
       "    <tbody>\n",
       "        <tr>\n",
       "            <td>Alabama A & M University           </td> <td>Normal    </td> <td>AL    </td> <td>377    </td> <td>470    </td> <td>370    </td> <td>470    </td>\n",
       "        </tr>\n",
       "    </tbody>\n",
       "        <tr>\n",
       "            <td>University of Alabama at Birmingham</td> <td>Birmingham</td> <td>AL    </td> <td>500    </td> <td>640    </td> <td>490    </td> <td>640    </td>\n",
       "        </tr>\n",
       "    </tbody>\n",
       "        <tr>\n",
       "            <td>University of Alabama in Huntsville</td> <td>Huntsville</td> <td>AL    </td> <td>520    </td> <td>670    </td> <td>530    </td> <td>650    </td>\n",
       "        </tr>\n",
       "    </tbody>\n",
       "        <tr>\n",
       "            <td>Alabama State University           </td> <td>Montgomery</td> <td>AL    </td> <td>380    </td> <td>470    </td> <td>380    </td> <td>480    </td>\n",
       "        </tr>\n",
       "    </tbody>\n",
       "        <tr>\n",
       "            <td>The University of Alabama          </td> <td>Tuscaloosa</td> <td>AL    </td> <td>490    </td> <td>620    </td> <td>500    </td> <td>630    </td>\n",
       "        </tr>\n",
       "    </tbody>\n",
       "        <tr>\n",
       "            <td>Auburn University at Montgomery    </td> <td>Montgomery</td> <td>AL    </td> <td>433    </td> <td>538    </td> <td>468    </td> <td>550    </td>\n",
       "        </tr>\n",
       "    </tbody>\n",
       "        <tr>\n",
       "            <td>Auburn University                  </td> <td>Auburn    </td> <td>AL    </td> <td>520    </td> <td>630    </td> <td>530    </td> <td>645    </td>\n",
       "        </tr>\n",
       "    </tbody>\n",
       "        <tr>\n",
       "            <td>Birmingham Southern College        </td> <td>Birmingham</td> <td>AL    </td> <td>500    </td> <td>620    </td> <td>500    </td> <td>620    </td>\n",
       "        </tr>\n",
       "    </tbody>\n",
       "        <tr>\n",
       "            <td>Concordia College Alabama          </td> <td>Selma     </td> <td>AL    </td> <td>320    </td> <td>520    </td> <td>200    </td> <td>600    </td>\n",
       "        </tr>\n",
       "    </tbody>\n",
       "        <tr>\n",
       "            <td>Huntingdon College                 </td> <td>Montgomery</td> <td>AL    </td> <td>460    </td> <td>560    </td> <td>450    </td> <td>530    </td>\n",
       "        </tr>\n",
       "    </tbody>\n",
       "</table>\n",
       "<p>... (1179 rows omitted)</p"
      ],
      "text/plain": [
       "INSTNM                              | CITY       | STABBR | SATVR25 | SATVR75 | SATMT25 | SATMT75\n",
       "Alabama A & M University            | Normal     | AL     | 377     | 470     | 370     | 470\n",
       "University of Alabama at Birmingham | Birmingham | AL     | 500     | 640     | 490     | 640\n",
       "University of Alabama in Huntsville | Huntsville | AL     | 520     | 670     | 530     | 650\n",
       "Alabama State University            | Montgomery | AL     | 380     | 470     | 380     | 480\n",
       "The University of Alabama           | Tuscaloosa | AL     | 490     | 620     | 500     | 630\n",
       "Auburn University at Montgomery     | Montgomery | AL     | 433     | 538     | 468     | 550\n",
       "Auburn University                   | Auburn     | AL     | 520     | 630     | 530     | 645\n",
       "Birmingham Southern College         | Birmingham | AL     | 500     | 620     | 500     | 620\n",
       "Concordia College Alabama           | Selma      | AL     | 320     | 520     | 200     | 600\n",
       "Huntingdon College                  | Montgomery | AL     | 460     | 560     | 450     | 530\n",
       "... (1179 rows omitted)"
      ]
     },
     "execution_count": 81,
     "metadata": {},
     "output_type": "execute_result"
    }
   ],
   "source": [
    "#resetting scorecard to only contain rows that have SAT scores for math and reading and are from states in the education table\n",
    "scorecard = scorecard.where(\"SATVR25\", are.above(1)).where(\"SATMT25\", are.above(1)).where(\"STABBR\", are.contained_in(statecaps))\n",
    "scorecard"
   ]
  },
  {
   "cell_type": "code",
   "execution_count": 82,
   "metadata": {
    "collapsed": false,
    "deletable": true,
    "editable": true
   },
   "outputs": [
    {
     "data": {
      "text/plain": [
       "1189"
      ]
     },
     "execution_count": 82,
     "metadata": {},
     "output_type": "execute_result"
    }
   ],
   "source": [
    "len(scorecard.column(0))"
   ]
  },
  {
   "cell_type": "code",
   "execution_count": 83,
   "metadata": {
    "collapsed": false,
    "deletable": true,
    "editable": true
   },
   "outputs": [
    {
     "data": {
      "text/plain": [
       "577.0033641715728"
      ]
     },
     "execution_count": 83,
     "metadata": {},
     "output_type": "execute_result"
    }
   ],
   "source": [
    "np.average(scorecard.column(\"SATVR75\"))"
   ]
  },
  {
   "cell_type": "code",
   "execution_count": 84,
   "metadata": {
    "collapsed": false,
    "deletable": true,
    "editable": true
   },
   "outputs": [
    {
     "data": {
      "text/plain": [
       "585.33389402859541"
      ]
     },
     "execution_count": 84,
     "metadata": {},
     "output_type": "execute_result"
    }
   ],
   "source": [
    "np.average(scorecard.column(\"SATMT75\"))"
   ]
  },
  {
   "cell_type": "code",
   "execution_count": 85,
   "metadata": {
    "collapsed": false,
    "deletable": true,
    "editable": true
   },
   "outputs": [
    {
     "data": {
      "text/plain": [
       "21.728343145500421"
      ]
     },
     "execution_count": 85,
     "metadata": {},
     "output_type": "execute_result"
    }
   ],
   "source": [
    "np.average(abs(scorecard.column(\"SATMT75\")-scorecard.column(\"SATVR75\")))"
   ]
  },
  {
   "cell_type": "code",
   "execution_count": 86,
   "metadata": {
    "collapsed": false,
    "deletable": true,
    "editable": true
   },
   "outputs": [
    {
     "data": {
      "text/plain": [
       "468.39865433137089"
      ]
     },
     "execution_count": 86,
     "metadata": {},
     "output_type": "execute_result"
    }
   ],
   "source": [
    "np.average(scorecard.column(\"SATVR25\"))"
   ]
  },
  {
   "cell_type": "code",
   "execution_count": 87,
   "metadata": {
    "collapsed": false,
    "deletable": true,
    "editable": true
   },
   "outputs": [
    {
     "data": {
      "text/plain": [
       "476.06391925988225"
      ]
     },
     "execution_count": 87,
     "metadata": {},
     "output_type": "execute_result"
    }
   ],
   "source": [
    "np.average(scorecard.column(\"SATMT25\"))"
   ]
  },
  {
   "cell_type": "code",
   "execution_count": 88,
   "metadata": {
    "collapsed": false,
    "deletable": true,
    "editable": true
   },
   "outputs": [
    {
     "data": {
      "text/plain": [
       "19.101766190075693"
      ]
     },
     "execution_count": 88,
     "metadata": {},
     "output_type": "execute_result"
    }
   ],
   "source": [
    "np.average(abs(scorecard.column(\"SATMT25\")-scorecard.column(\"SATVR25\")))"
   ]
  },
  {
   "cell_type": "code",
   "execution_count": 89,
   "metadata": {
    "collapsed": false,
    "deletable": true,
    "editable": true
   },
   "outputs": [
    {
     "data": {
      "text/plain": [
       "265.0"
      ]
     },
     "execution_count": 89,
     "metadata": {},
     "output_type": "execute_result"
    }
   ],
   "source": [
    "min(scorecard.column(\"SATVR25\"))"
   ]
  },
  {
   "cell_type": "code",
   "execution_count": 90,
   "metadata": {
    "collapsed": false,
    "deletable": true,
    "editable": true
   },
   "outputs": [
    {
     "data": {
      "text/plain": [
       "200.0"
      ]
     },
     "execution_count": 90,
     "metadata": {},
     "output_type": "execute_result"
    }
   ],
   "source": [
    "min(scorecard.column(\"SATMT25\"))"
   ]
  },
  {
   "cell_type": "code",
   "execution_count": 91,
   "metadata": {
    "collapsed": false,
    "deletable": true,
    "editable": true
   },
   "outputs": [
    {
     "data": {
      "text/plain": [
       "800.0"
      ]
     },
     "execution_count": 91,
     "metadata": {},
     "output_type": "execute_result"
    }
   ],
   "source": [
    "max(scorecard.column(\"SATVR75\"))"
   ]
  },
  {
   "cell_type": "code",
   "execution_count": 92,
   "metadata": {
    "collapsed": false,
    "deletable": true,
    "editable": true
   },
   "outputs": [
    {
     "data": {
      "text/plain": [
       "800.0"
      ]
     },
     "execution_count": 92,
     "metadata": {},
     "output_type": "execute_result"
    }
   ],
   "source": [
    "max(scorecard.column(\"SATMT75\"))"
   ]
  },
  {
   "cell_type": "code",
   "execution_count": 93,
   "metadata": {
    "collapsed": false,
    "deletable": true,
    "editable": true
   },
   "outputs": [
    {
     "data": {
      "text/plain": [
       "74.368405597476155"
      ]
     },
     "execution_count": 93,
     "metadata": {},
     "output_type": "execute_result"
    }
   ],
   "source": [
    "np.std(scorecard.column(\"SATMT75\"))"
   ]
  },
  {
   "cell_type": "code",
   "execution_count": 94,
   "metadata": {
    "collapsed": false,
    "deletable": true,
    "editable": true
   },
   "outputs": [
    {
     "data": {
      "text/plain": [
       "75.534067874717834"
      ]
     },
     "execution_count": 94,
     "metadata": {},
     "output_type": "execute_result"
    }
   ],
   "source": [
    "np.std(scorecard.column(\"SATMT25\"))"
   ]
  },
  {
   "cell_type": "code",
   "execution_count": 95,
   "metadata": {
    "collapsed": false,
    "deletable": true,
    "editable": true
   },
   "outputs": [
    {
     "data": {
      "text/plain": [
       "69.308084874503251"
      ]
     },
     "execution_count": 95,
     "metadata": {},
     "output_type": "execute_result"
    }
   ],
   "source": [
    "np.std(scorecard.column(\"SATVR25\"))"
   ]
  },
  {
   "cell_type": "code",
   "execution_count": 96,
   "metadata": {
    "collapsed": false,
    "deletable": true,
    "editable": true
   },
   "outputs": [
    {
     "data": {
      "text/plain": [
       "70.607516251259227"
      ]
     },
     "execution_count": 96,
     "metadata": {},
     "output_type": "execute_result"
    }
   ],
   "source": [
    "np.std(scorecard.column(\"SATVR75\"))"
   ]
  },
  {
   "cell_type": "markdown",
   "metadata": {
    "deletable": true,
    "editable": true
   },
   "source": [
    "**Description of table**: This table contains data pertaining to 1,189 colleges and their incoming classes in the year 2015. The first column is a categorical variable containing the name of the university. The second column is a categorical variable containing the name of the city in which the university resides. The third column is a categorical variable for state abbreviation in which the college resides. The fourth column is a quantitative variable for the 25th percentile for SAT Reading score for incoming students at that school while the fifth is the 75th. The same goes for column six and seven instead they represent scores on the SAT Math Section.\n",
    "\n",
    "**Description of variables**: The average 75th percentile for reading is 577 while the average 75th percentile for math is 585 while the average absolute value difference between the two is only 21.7. A similar relationship holds for the 25th percentile but at 100 points lower. The minimum Reading 25th percentile is 265 while the minimum Math 25th percentile is 200 and the max 75th percentile for both is 800. Since 200 is the minimum score on the SAT and 800 is the max that means there is at least one school with more than 25% perfect scores on both sections and 25% perfect fails on math. The standard deviation for all the percentiles is around 70."
   ]
  },
  {
   "cell_type": "code",
   "execution_count": 97,
   "metadata": {
    "collapsed": false,
    "deletable": true,
    "editable": true
   },
   "outputs": [
    {
     "data": {
      "image/png": "[encoded data removed]",
      "text/plain": [
       "<matplotlib.figure.Figure at 0x7fb544512668>"
      ]
     },
     "metadata": {},
     "output_type": "display_data"
    }
   ],
   "source": [
    "#Visualize quantatative variables\n",
    "\n",
    "education.sort(\"$ Per Student\", descending = True).take(np.arange(0,10)).barh(\"State\")"
   ]
  },
  {
   "cell_type": "code",
   "execution_count": 98,
   "metadata": {
    "collapsed": false,
    "deletable": true,
    "editable": true
   },
   "outputs": [
    {
     "data": {
      "image/png": "[encoded data removed]",
      "text/plain": [
       "<matplotlib.figure.Figure at 0x7fb5182c09e8>"
      ]
     },
     "metadata": {},
     "output_type": "display_data"
    }
   ],
   "source": [
    "education.sort(\"$ Per Student\").take(np.arange(0,10)).barh(\"State\")"
   ]
  },
  {
   "cell_type": "code",
   "execution_count": 99,
   "metadata": {
    "collapsed": false,
    "deletable": true,
    "editable": true
   },
   "outputs": [
    {
     "data": {
      "image/png": "[encoded data removed]",
      "text/plain": [
       "<matplotlib.figure.Figure at 0x7fb518241780>"
      ]
     },
     "metadata": {},
     "output_type": "display_data"
    }
   ],
   "source": [
    "education.hist(\"$ Per Student\")"
   ]
  },
  {
   "cell_type": "code",
   "execution_count": 100,
   "metadata": {
    "collapsed": false,
    "deletable": true,
    "editable": true
   },
   "outputs": [
    {
     "data": {
      "image/png": "[encoded data removed]",
      "text/plain": [
       "<matplotlib.figure.Figure at 0x7fb5182675f8>"
      ]
     },
     "metadata": {},
     "output_type": "display_data"
    }
   ],
   "source": [
    "scorecard.scatter(\"SATVR75\", \"SATMT75\")"
   ]
  },
  {
   "cell_type": "code",
   "execution_count": 101,
   "metadata": {
    "collapsed": false,
    "deletable": true,
    "editable": true
   },
   "outputs": [
    {
     "data": {
      "image/png": "[encoded data removed]",
      "text/plain": [
       "<matplotlib.figure.Figure at 0x7fb5181a5c50>"
      ]
     },
     "metadata": {},
     "output_type": "display_data"
    }
   ],
   "source": [
    "scorecard.scatter(\"SATVR25\", \"SATMT25\")"
   ]
  },
  {
   "cell_type": "markdown",
   "metadata": {
    "collapsed": true,
    "deletable": true,
    "editable": true
   },
   "source": [
    "**Short observational description**\n",
    "\n",
    "1. Bar chart number one shows the ten states with the highest spending per student in 2001-2002\n",
    "2. Bar chart number two shows the ten states with the lowest spending per student in 2001-2002\n",
    "3. The histogram shows the overall distrobution of spending per student\n",
    "3. Scatter plot number one shows the relationship between the 75th percentile SAT Math scores and 75th percentile SAT Reading scores for students in 2015\n",
    "4. Scatter plot number two shows the relationship between the 25th percentile SAT Math scores and 25th percentile SAT Reading scores for students in 2015\n",
    "\n",
    "I take a couple insights away from these. The first is that in terms of spending on academics per student is that there are a few far outliers out front including New York, DC, and New Jersey, but after that the majority of states spend about the same amount per student. The scatter plots seem to indicate that there is an extremely strong positive linear relationship between SAT math scores and SAT reading scores for incoming students at a particular school with several extreme outliers, likely art or tech schools with student bodies that lean extremely heavy towards either the liberal arts or STEM.\n",
    "\n"
   ]
  },
  {
   "cell_type": "code",
   "execution_count": 32,
   "metadata": {
    "collapsed": false,
    "deletable": true,
    "editable": true
   },
   "outputs": [
    {
     "data": {
      "image/png": "[encoded data removed]",
      "text/plain": [
       "<matplotlib.figure.Figure at 0x7fb519343b70>"
      ]
     },
     "metadata": {},
     "output_type": "display_data"
    }
   ],
   "source": [
    "#Visualize categorical variables\n",
    "\n",
    "colleges_per_state = scorecard.group(\"STABBR\").sort(\"count\", descending = True).take(np.arange(0,10))\n",
    "colleges_per_state.barh(\"STABBR\")"
   ]
  },
  {
   "cell_type": "code",
   "execution_count": 33,
   "metadata": {
    "collapsed": false,
    "deletable": true,
    "editable": true
   },
   "outputs": [
    {
     "data": {
      "image/png": "[encoded data removed]",
      "text/plain": [
       "<matplotlib.figure.Figure at 0x7fb51853f588>"
      ]
     },
     "metadata": {},
     "output_type": "display_data"
    }
   ],
   "source": [
    "colleges_per_state = scorecard.group(\"STABBR\").sort(\"count\").take(np.arange(0,10))\n",
    "colleges_per_state.barh(\"STABBR\")"
   ]
  },
  {
   "cell_type": "code",
   "execution_count": 34,
   "metadata": {
    "collapsed": false,
    "deletable": true,
    "editable": true
   },
   "outputs": [
    {
     "data": {
      "image/png": "[encoded data removed]",
      "text/plain": [
       "<matplotlib.figure.Figure at 0x7fb51efb2860>"
      ]
     },
     "metadata": {},
     "output_type": "display_data"
    }
   ],
   "source": [
    "colleges_per_city = scorecard.group(\"CITY\").sort(\"count\", descending = True).take(np.arange(0,10))\n",
    "colleges_per_city.barh(\"CITY\")\n"
   ]
  },
  {
   "cell_type": "markdown",
   "metadata": {
    "collapsed": true,
    "deletable": true,
    "editable": true
   },
   "source": [
    "**Short observational description**\n",
    "\n",
    "1. Bar chart one shows the ten states with the highest number of colleges in raw numbers\n",
    "2. Bar chart two shows the ten states with the lowest number of colleges in raw numbers\n",
    "3. Bar chart three shows the ten cities with the highest number of colleges in raw numbers\n",
    "\n",
    "While many of the states listed are simply those with the highest populations, this is not always the case. For instance, Florida, Illinois, and Michigan are all states with populations in the top ten that are not included while Massachussets, Indiana, and Virginia lie at 14, 16, and 12 respectively. Florida, with a population of almost 20 million (almost triple that of Indiana) is by far the most noticeable name missing. A possible explanation is that Florida has an older population. The city chart yields similar results with the exception of Pittsburgh and Cleveland which lie at 63 and 51 respectively. What this seems to imply is that in the general sense, locations with higher populations tend to have a greater number of colleges with some clear exceptions."
   ]
  },
  {
   "cell_type": "code",
   "execution_count": 102,
   "metadata": {
    "collapsed": false,
    "deletable": true,
    "editable": true
   },
   "outputs": [
    {
     "data": {
      "text/html": [
       "<table border=\"1\" class=\"dataframe\">\n",
       "    <thead>\n",
       "        <tr>\n",
       "            <th>STABBR</th> <th>SATVR25 average</th> <th>SATVR75 average</th> <th>SATMT25 average</th> <th>SATMT75 average</th>\n",
       "        </tr>\n",
       "    </thead>\n",
       "    <tbody>\n",
       "        <tr>\n",
       "            <td>AK    </td> <td>500            </td> <td>610            </td> <td>450            </td> <td>555            </td>\n",
       "        </tr>\n",
       "    </tbody>\n",
       "        <tr>\n",
       "            <td>AL    </td> <td>447.619        </td> <td>569.095        </td> <td>440.429        </td> <td>567.857        </td>\n",
       "        </tr>\n",
       "    </tbody>\n",
       "        <tr>\n",
       "            <td>AR    </td> <td>441.562        </td> <td>542.188        </td> <td>466.75         </td> <td>565            </td>\n",
       "        </tr>\n",
       "    </tbody>\n",
       "        <tr>\n",
       "            <td>AZ    </td> <td>472.5          </td> <td>604.167        </td> <td>478            </td> <td>595            </td>\n",
       "        </tr>\n",
       "    </tbody>\n",
       "        <tr>\n",
       "            <td>CA    </td> <td>495.264        </td> <td>602.861        </td> <td>507.528        </td> <td>618.208        </td>\n",
       "        </tr>\n",
       "    </tbody>\n",
       "        <tr>\n",
       "            <td>CO    </td> <td>483.071        </td> <td>592.286        </td> <td>484.5          </td> <td>595.857        </td>\n",
       "        </tr>\n",
       "    </tbody>\n",
       "        <tr>\n",
       "            <td>CT    </td> <td>468.571        </td> <td>567.143        </td> <td>472.857        </td> <td>572.143        </td>\n",
       "        </tr>\n",
       "    </tbody>\n",
       "        <tr>\n",
       "            <td>DC    </td> <td>539.167        </td> <td>639.167        </td> <td>539.167        </td> <td>637.5          </td>\n",
       "        </tr>\n",
       "    </tbody>\n",
       "        <tr>\n",
       "            <td>DE    </td> <td>443.333        </td> <td>530            </td> <td>446.667        </td> <td>543.333        </td>\n",
       "        </tr>\n",
       "    </tbody>\n",
       "        <tr>\n",
       "            <td>FL    </td> <td>478.237        </td> <td>580.263        </td> <td>471.053        </td> <td>572.526        </td>\n",
       "        </tr>\n",
       "    </tbody>\n",
       "</table>\n",
       "<p>... (41 rows omitted)</p"
      ],
      "text/plain": [
       "STABBR | SATVR25 average | SATVR75 average | SATMT25 average | SATMT75 average\n",
       "AK     | 500             | 610             | 450             | 555\n",
       "AL     | 447.619         | 569.095         | 440.429         | 567.857\n",
       "AR     | 441.562         | 542.188         | 466.75          | 565\n",
       "AZ     | 472.5           | 604.167         | 478             | 595\n",
       "CA     | 495.264         | 602.861         | 507.528         | 618.208\n",
       "CO     | 483.071         | 592.286         | 484.5           | 595.857\n",
       "CT     | 468.571         | 567.143         | 472.857         | 572.143\n",
       "DC     | 539.167         | 639.167         | 539.167         | 637.5\n",
       "DE     | 443.333         | 530             | 446.667         | 543.333\n",
       "FL     | 478.237         | 580.263         | 471.053         | 572.526\n",
       "... (41 rows omitted)"
      ]
     },
     "execution_count": 102,
     "metadata": {},
     "output_type": "execute_result"
    }
   ],
   "source": [
    "#Grouping or pivoting the data\n",
    "\n",
    "SAT_AVG = scorecard.drop(0,1).group(\"STABBR\", np.average)\n",
    "SAT_AVG"
   ]
  },
  {
   "cell_type": "markdown",
   "metadata": {
    "collapsed": true,
    "deletable": true,
    "editable": true
   },
   "source": [
    "**Short observational description**\n",
    "\n",
    "This table shows the average 25 and 75 percentiles for both SAT reading and SAT math for all the schools in every single state. Taking a basic look at it there does seem to be some significant differences in the average SAT scores between states. I intend to use the info in this table in order to perform tests later in this exploration."
   ]
  },
  {
   "cell_type": "code",
   "execution_count": 36,
   "metadata": {
    "collapsed": false,
    "deletable": true,
    "editable": true
   },
   "outputs": [
    {
     "data": {
      "text/html": [
       "<table border=\"1\" class=\"dataframe\">\n",
       "    <thead>\n",
       "        <tr>\n",
       "            <th>STABBR</th> <th>SATVR25 average</th> <th>SATVR75 average</th> <th>SATMT25 average</th> <th>SATMT75 average</th> <th>$ Per Student</th>\n",
       "        </tr>\n",
       "    </thead>\n",
       "    <tbody>\n",
       "        <tr>\n",
       "            <td>AK    </td> <td>500            </td> <td>610            </td> <td>450            </td> <td>555            </td> <td>10419        </td>\n",
       "        </tr>\n",
       "    </tbody>\n",
       "        <tr>\n",
       "            <td>AL    </td> <td>447.619        </td> <td>569.095        </td> <td>440.429        </td> <td>567.857        </td> <td>6327         </td>\n",
       "        </tr>\n",
       "    </tbody>\n",
       "        <tr>\n",
       "            <td>AR    </td> <td>441.562        </td> <td>542.188        </td> <td>466.75         </td> <td>565            </td> <td>6676         </td>\n",
       "        </tr>\n",
       "    </tbody>\n",
       "        <tr>\n",
       "            <td>AZ    </td> <td>472.5          </td> <td>604.167        </td> <td>478            </td> <td>595            </td> <td>6470         </td>\n",
       "        </tr>\n",
       "    </tbody>\n",
       "        <tr>\n",
       "            <td>CA    </td> <td>495.264        </td> <td>602.861        </td> <td>507.528        </td> <td>618.208        </td> <td>7439         </td>\n",
       "        </tr>\n",
       "    </tbody>\n",
       "        <tr>\n",
       "            <td>CO    </td> <td>483.071        </td> <td>592.286        </td> <td>484.5          </td> <td>595.857        </td> <td>7284         </td>\n",
       "        </tr>\n",
       "    </tbody>\n",
       "        <tr>\n",
       "            <td>CT    </td> <td>468.571        </td> <td>567.143        </td> <td>472.857        </td> <td>572.143        </td> <td>11022        </td>\n",
       "        </tr>\n",
       "    </tbody>\n",
       "        <tr>\n",
       "            <td>DC    </td> <td>539.167        </td> <td>639.167        </td> <td>539.167        </td> <td>637.5          </td> <td>14557        </td>\n",
       "        </tr>\n",
       "    </tbody>\n",
       "        <tr>\n",
       "            <td>DE    </td> <td>443.333        </td> <td>530            </td> <td>446.667        </td> <td>543.333        </td> <td>9959         </td>\n",
       "        </tr>\n",
       "    </tbody>\n",
       "        <tr>\n",
       "            <td>FL    </td> <td>478.237        </td> <td>580.263        </td> <td>471.053        </td> <td>572.526        </td> <td>6679         </td>\n",
       "        </tr>\n",
       "    </tbody>\n",
       "</table>\n",
       "<p>... (41 rows omitted)</p"
      ],
      "text/plain": [
       "STABBR | SATVR25 average | SATVR75 average | SATMT25 average | SATMT75 average | $ Per Student\n",
       "AK     | 500             | 610             | 450             | 555             | 10419\n",
       "AL     | 447.619         | 569.095         | 440.429         | 567.857         | 6327\n",
       "AR     | 441.562         | 542.188         | 466.75          | 565             | 6676\n",
       "AZ     | 472.5           | 604.167         | 478             | 595             | 6470\n",
       "CA     | 495.264         | 602.861         | 507.528         | 618.208         | 7439\n",
       "CO     | 483.071         | 592.286         | 484.5           | 595.857         | 7284\n",
       "CT     | 468.571         | 567.143         | 472.857         | 572.143         | 11022\n",
       "DC     | 539.167         | 639.167         | 539.167         | 637.5           | 14557\n",
       "DE     | 443.333         | 530             | 446.667         | 543.333         | 9959\n",
       "FL     | 478.237         | 580.263         | 471.053         | 572.526         | 6679\n",
       "... (41 rows omitted)"
      ]
     },
     "execution_count": 36,
     "metadata": {},
     "output_type": "execute_result"
    }
   ],
   "source": [
    "#Joining two tables\n",
    "\n",
    "final_scorecard = SAT_AVG.join(\"STABBR\", education, \"State\")\n",
    "final_scorecard"
   ]
  },
  {
   "cell_type": "markdown",
   "metadata": {
    "collapsed": true,
    "deletable": true,
    "editable": true
   },
   "source": [
    "**Short observational description**\n",
    "\n",
    "This table joins both of the tables that I have been playing with together, containing a row for each state that has the average SAT Math and Reading 25th and 75th percentile places. From a brief glance it looks like there may be an association betwen 2001-2002 spending per student on education and incoming SAT scores of students in 2015. With this table and a well run test I should be able to test for whether or not there is an association between these things."
   ]
  },
  {
   "cell_type": "markdown",
   "metadata": {
    "collapsed": true,
    "deletable": true,
    "editable": true
   },
   "source": [
    "**Hypothesis**\n",
    "States that spend an above average amount of money on education per student in the year 2001-2002 will see different SAT Math scores for incoming students in the year 2015 than those with below average spending.\n",
    "\n",
    "**Null Hypothesis**\n",
    "Higher spending on education per student in the year 2001-2002 will have no relationship with SAT Math scores for incoming students in the year 2015.\n",
    "\n"
   ]
  },
  {
   "cell_type": "code",
   "execution_count": 37,
   "metadata": {
    "collapsed": false,
    "deletable": true,
    "editable": true
   },
   "outputs": [],
   "source": [
    "#Statistical test for hypothesis\n",
    "\n",
    "#First thing I will do is split up states into the higher spending groups and the lower spending groups with 75th percentile for math.\n",
    "lower = final_scorecard.where(\"$ Per Student\", are.below(np.average(final_scorecard.column(\"$ Per Student\")))).select(\"SATMT75 average\", \"$ Per Student\")\n",
    "upper = final_scorecard.where(\"$ Per Student\", are.above(np.average(final_scorecard.column(\"$ Per Student\")))).select(\"SATMT75 average\", \"$ Per Student\")\n",
    "    "
   ]
  },
  {
   "cell_type": "code",
   "execution_count": 103,
   "metadata": {
    "collapsed": true,
    "deletable": true,
    "editable": true
   },
   "outputs": [],
   "source": [
    "#Next I want to run a test where I create an array with the differences between the average score of the higher group and the lower group\n",
    "statistics = make_array()\n",
    "for i in np.arange(5000):\n",
    "    bootstrap = lower.sample(40)\n",
    "    bootstrap2 = upper.sample(40)\n",
    "    sample_statistics = np.average(bootstrap2.column(0))-np.average(bootstrap.column(0))\n",
    "    statistics = np.append(statistics, sample_statistics)"
   ]
  },
  {
   "cell_type": "code",
   "execution_count": 39,
   "metadata": {
    "collapsed": false,
    "deletable": true,
    "editable": true
   },
   "outputs": [
    {
     "data": {
      "image/png": "[encoded data removed]",
      "text/plain": [
       "<matplotlib.figure.Figure at 0x7fb519581588>"
      ]
     },
     "metadata": {},
     "output_type": "display_data"
    }
   ],
   "source": [
    "#Now for a quick fun visualization\n",
    "Table().with_column(\"Difference\", statistics).hist()"
   ]
  },
  {
   "cell_type": "code",
   "execution_count": 40,
   "metadata": {
    "collapsed": false,
    "deletable": true,
    "editable": true
   },
   "outputs": [
    {
     "name": "stdout",
     "output_type": "stream",
     "text": [
      "Bootstrapped 95% confidence interval for the difference between Math scores of students attending scoles in higher spending states versus those in lower spending states: [-5.341988, 16.727289]\n"
     ]
    }
   ],
   "source": [
    "#Now to test if I can reject the null\n",
    "lower_bound = percentile(2.5, statistics)\n",
    "upper_bound = percentile(97.5, statistics)\n",
    "print(\"Bootstrapped 95% confidence interval for the difference between Math scores of students attending scoles in higher spending states versus those in lower spending states: [{:f}, {:f}]\".format(lower_bound, upper_bound))"
   ]
  },
  {
   "cell_type": "markdown",
   "metadata": {
    "collapsed": true,
    "deletable": true,
    "editable": true
   },
   "source": [
    "**Short conclusion**\n",
    "\n",
    "Welp, I guess my hypothesis was wrong. I am unable to reject the null hypothesis. There doesn't appear to be a statistically significant difference between states that have higher spending per student and those that have lower spending per student. Going into this I thought that there would be a very clear association between how much states spent on students at a young age and how strong incoming college classes were for that state when they became of age years down the road. Many factors could cause this:\n",
    "\n",
    "1. Not everyone takes the SAT. \n",
    "2. The average spending per student is just that, an average.\n",
    "3. Not all schools are represented in this sample and the schools are not weighted by population when factoring for average SAT score.\n",
    "4. Not everyone goes to schools in the states they grow up in nor does everyone live in the state they grow up in throughout their entire childhood.\n",
    "\n",
    "There are a million other factors that may have affected this test, but the test is clear: States with higher spending on education per student do not see significantly increased SAT scores for incoming college students in their state years down the road."
   ]
  },
  {
   "cell_type": "markdown",
   "metadata": {
    "collapsed": true,
    "deletable": true,
    "editable": true
   },
   "source": [
    "**Describe a prediction problem**\n",
    "\n",
    "My original intention when starting this project would have been to develop a regression function for predicting incoming SAT scores from spending per student, but given the results of my test, I am unsure if that is still worthwhile. Another interesting prediction that could be done is predicting the average upper bound reading score for a school given the lower bound math score. \n",
    "While a definitively far less interesting prediction than what I set out to do, it is still very cool to show that you can predict the 75th percentile Reading scores from a state given the 75th percentile Math scores from the same state. I plan on doing this by developing a regression function.\n"
   ]
  },
  {
   "cell_type": "code",
   "execution_count": 73,
   "metadata": {
    "collapsed": false,
    "deletable": true,
    "editable": true
   },
   "outputs": [
    {
     "data": {
      "text/plain": [
       "[<matplotlib.lines.Line2D at 0x7fb51f079cc0>]"
      ]
     },
     "execution_count": 73,
     "metadata": {},
     "output_type": "execute_result"
    },
    {
     "data": {
      "image/png": "[encoded data removed]",
      "text/plain": [
       "<matplotlib.figure.Figure at 0x7fb51f079ef0>"
      ]
     },
     "metadata": {},
     "output_type": "display_data"
    }
   ],
   "source": [
    "#Apply a prediction tehcnique\n",
    "\n",
    "regression_table = final_scorecard.select(\"SATMT75 average\", \"SATVR75 average\")\n",
    "\n",
    "def standard_units(any_numbers):\n",
    "    \"Convert any array of numbers to standard units.\"\n",
    "    return (any_numbers - np.mean(any_numbers)) / np.std(any_numbers)\n",
    "\n",
    "def standardize(t):\n",
    "    \"\"\"Return a table in which all columns of t are converted to standard units.\"\"\"\n",
    "    t_su = Table()\n",
    "    for label in t.labels:\n",
    "        t_su = t_su.with_column(label + ' (su)', standard_units(t.column(label)))\n",
    "    return t_su\n",
    "\n",
    "def reg_coeff(t):\n",
    "    \"\"\"Return the regression coefficient for columns 0 & 1.\"\"\"\n",
    "    t_su = standardize(t)\n",
    "    return np.mean(t_su.column(0)*t_su.column(1))\n",
    "\n",
    "def slope_of(t, r):\n",
    "    \"\"\"Return the slope of the regression line for t in original units.\n",
    "    \n",
    "    Assume that column 0 contains x values and column 1 contains y values.\n",
    "    r is the regression coefficient for x and y.\n",
    "    \"\"\"\n",
    "    return r*np.std(t.column(1))/np.std(t.column(0))\n",
    "\n",
    "def intercept_of(t, r):\n",
    "    \"\"\"Return the slope of the regression line for t in original units.\"\"\"\n",
    "    s = slope_of(t, r)\n",
    "    return s*(-np.mean(t.column(0))) + np.mean(t.column(1))\n",
    "\n",
    "r = reg_coeff(regression_table)\n",
    "slope = slope_of(regression_table, r)\n",
    "intercept = intercept_of(regression_table, r)\n",
    "\n",
    "def prediction(score):\n",
    "    return slope*score + intercept\n",
    "\n",
    "regression_table.scatter(0,1)\n",
    "plots.plot([500, 650], [prediction(500), prediction(650)])"
   ]
  },
  {
   "cell_type": "markdown",
   "metadata": {
    "collapsed": true,
    "deletable": true,
    "editable": true
   },
   "source": [
    "**Justify your approach**\n",
    "\n",
    "I used a similar model that was used at the end of lab eight to develop a linear regression model for the data. The first step was to compute the regression coefficient, r, by taking the average of the standardized units of each column multiplied by each other. I then found the slope of the regression line and the intercept in the same way as in lab. Using all of this I was able to compute a regression formula that I could use to create a prediction function that I can now use to generate the predicted value of SATVR75 average for any SATMT25 average. The reason that I was able to do this was because the date is linear in nature. If the data were parabolic or logarithmic I would have had to run a more complicated regression. And, as shown on the graph I have created, the model I have generated fits the data very well. In the next part I will show quantitatively how accurate the model is."
   ]
  },
  {
   "cell_type": "code",
   "execution_count": 74,
   "metadata": {
    "collapsed": false,
    "deletable": true,
    "editable": true
   },
   "outputs": [],
   "source": [
    "#Evaluate the prediction technique quantitatively\n",
    "\n",
    "regression_predictions = regression_table.with_column(\"predicted average\", intercept + slope*regression_table.column(0))\n",
    "regression_residuals = regression_predictions.with_column(\"residual\", regression_predictions.column(2)-regression_predictions.column(1))\n",
    "residuals = regression_residuals.column(\"residual\")"
   ]
  },
  {
   "cell_type": "code",
   "execution_count": 75,
   "metadata": {
    "collapsed": false
   },
   "outputs": [
    {
     "data": {
      "text/plain": [
       "-2.6749844169792007e-14"
      ]
     },
     "execution_count": 75,
     "metadata": {},
     "output_type": "execute_result"
    }
   ],
   "source": [
    "np.average(residuals)"
   ]
  },
  {
   "cell_type": "code",
   "execution_count": 76,
   "metadata": {
    "collapsed": false
   },
   "outputs": [
    {
     "data": {
      "text/plain": [
       "14.010602115757186"
      ]
     },
     "execution_count": 76,
     "metadata": {},
     "output_type": "execute_result"
    }
   ],
   "source": [
    "np.std(residuals)"
   ]
  },
  {
   "cell_type": "markdown",
   "metadata": {
    "collapsed": true,
    "deletable": true,
    "editable": true
   },
   "source": [
    "**Short conclusion**\n",
    "\n",
    "With an effective average of zero and a standard deviation of 14, the model that has been created is extremely solid and has strong predictive qualities. This means that if somebody were to feed the average 75th percentile for math SAT in a state into this model it would likely spit out a prediction for the 75th percentile in reading that is quite accurate. That is actually really cool. While not the grandest statement of all time, what it does seem to suggest that there is a strong correlation between states that do well in math and states that do well in reading. While the efficacy of the SAT can be argued, this does seem to identify a strong disparity between different states and their academic strength. While that may not entirely be able to be chalked up to education spending as I was hoping to show at the beginning of this project, there is certainly still a difference that is quite significant."
   ]
  }
 ],
 "metadata": {
  "kernelspec": {
   "display_name": "Python 3",
   "language": "python",
   "name": "python3"
  },
  "language_info": {
   "codemirror_mode": {
    "name": "ipython",
    "version": 3
   },
   "file_extension": ".py",
   "mimetype": "text/x-python",
   "name": "python",
   "nbconvert_exporter": "python",
   "pygments_lexer": "ipython3",
   "version": "3.5.2"
  }
 },
 "nbformat": 4,
 "nbformat_minor": 0
}
